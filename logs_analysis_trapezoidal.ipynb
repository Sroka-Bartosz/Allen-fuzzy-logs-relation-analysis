{
 "cells": [
  {
   "cell_type": "markdown",
   "metadata": {},
   "source": [
    "\n",
    "# Trapezoidal method based on mean and standard deviation"
   ]
  },
  {
   "cell_type": "markdown",
   "metadata": {},
   "source": [
    "##  import bibliotek"
   ]
  },
  {
   "cell_type": "code",
   "execution_count": 1,
   "metadata": {
    "pycharm": {
     "is_executing": true
    }
   },
   "outputs": [],
   "source": [
    "import datetime as dt\n",
    "from datetime import datetime\n",
    "from typing import Tuple, List\n",
    "import random\n",
    "import warnings\n",
    "\n",
    "import matplotlib.colors as mcolors\n",
    "import matplotlib.pyplot as plt\n",
    "import numpy as np\n",
    "import pandas as pd\n",
    "import seaborn as sns\n",
    "\n",
    "from copy import deepcopy\n",
    "\n",
    "from pm4py.objects.conversion.log import converter as log_converter\n",
    "from pm4py.objects.log.importer.xes import importer as xes_importer\n",
    "from pm4py import discover_bpmn_inductive\n",
    "\n",
    "warnings.filterwarnings(\"ignore\")\n",
    "\n",
    "from trapezoidal_method import TrapezoidMethod\n",
    "import data_preparation as dp\n",
    "import time"
   ]
  },
  {
   "cell_type": "markdown",
   "metadata": {},
   "source": [
    "### Załadowanie pliku formatu .xes"
   ]
  },
  {
   "cell_type": "code",
   "execution_count": 2,
   "metadata": {
    "pycharm": {
     "is_executing": true
    }
   },
   "outputs": [
    {
     "data": {
      "application/vnd.jupyter.widget-view+json": {
       "model_id": "50e539f10dfb4922adcefaea7c0dc81c",
       "version_major": 2,
       "version_minor": 0
      },
      "text/plain": [
       "parsing log, completed traces ::   0%|          | 0/132 [00:00<?, ?it/s]"
      ]
     },
     "metadata": {},
     "output_type": "display_data"
    }
   ],
   "source": [
    "log = xes_importer.apply('logs/exercise6.xes')"
   ]
  },
  {
   "cell_type": "markdown",
   "metadata": {},
   "source": [
    "### Przetworzenie logów do pd.Dataframe"
   ]
  },
  {
   "cell_type": "code",
   "execution_count": 3,
   "metadata": {
    "pycharm": {
     "is_executing": true
    }
   },
   "outputs": [],
   "source": [
    "df = log_converter.apply(log, variant=log_converter.Variants.TO_DATA_FRAME)"
   ]
  },
  {
   "cell_type": "markdown",
   "metadata": {},
   "source": [
    "### Podgląd logow znajdujących się w załadowanym pliku"
   ]
  },
  {
   "cell_type": "code",
   "execution_count": 4,
   "metadata": {
    "pycharm": {
     "is_executing": true
    }
   },
   "outputs": [
    {
     "data": {
      "text/html": [
       "<div>\n",
       "<style scoped>\n",
       "    .dataframe tbody tr th:only-of-type {\n",
       "        vertical-align: middle;\n",
       "    }\n",
       "\n",
       "    .dataframe tbody tr th {\n",
       "        vertical-align: top;\n",
       "    }\n",
       "\n",
       "    .dataframe thead th {\n",
       "        text-align: right;\n",
       "    }\n",
       "</style>\n",
       "<table border=\"1\" class=\"dataframe\">\n",
       "  <thead>\n",
       "    <tr style=\"text-align: right;\">\n",
       "      <th></th>\n",
       "      <th>org:resource</th>\n",
       "      <th>time:timestamp</th>\n",
       "      <th>concept:name</th>\n",
       "      <th>lifecycle:transition</th>\n",
       "      <th>case:concept:name</th>\n",
       "    </tr>\n",
       "  </thead>\n",
       "  <tbody>\n",
       "    <tr>\n",
       "      <th>0</th>\n",
       "      <td>Call Centre Agent</td>\n",
       "      <td>2005-12-31 23:00:00+00:00</td>\n",
       "      <td>check if sufficient information is available</td>\n",
       "      <td>start</td>\n",
       "      <td>0</td>\n",
       "    </tr>\n",
       "    <tr>\n",
       "      <th>1</th>\n",
       "      <td>Call Centre Agent</td>\n",
       "      <td>2006-01-13 23:00:00+00:00</td>\n",
       "      <td>check if sufficient information is available</td>\n",
       "      <td>complete</td>\n",
       "      <td>0</td>\n",
       "    </tr>\n",
       "    <tr>\n",
       "      <th>2</th>\n",
       "      <td>Call Centre Agent</td>\n",
       "      <td>2006-01-13 23:00:00+00:00</td>\n",
       "      <td>register claim</td>\n",
       "      <td>start</td>\n",
       "      <td>0</td>\n",
       "    </tr>\n",
       "    <tr>\n",
       "      <th>3</th>\n",
       "      <td>Call Centre Agent</td>\n",
       "      <td>2008-01-29 23:00:00+00:00</td>\n",
       "      <td>register claim</td>\n",
       "      <td>complete</td>\n",
       "      <td>0</td>\n",
       "    </tr>\n",
       "    <tr>\n",
       "      <th>4</th>\n",
       "      <td>Claims handler</td>\n",
       "      <td>2008-01-29 23:00:00+00:00</td>\n",
       "      <td>determine likelihood of claim</td>\n",
       "      <td>start</td>\n",
       "      <td>0</td>\n",
       "    </tr>\n",
       "  </tbody>\n",
       "</table>\n",
       "</div>"
      ],
      "text/plain": [
       "        org:resource            time:timestamp  \\\n",
       "0  Call Centre Agent 2005-12-31 23:00:00+00:00   \n",
       "1  Call Centre Agent 2006-01-13 23:00:00+00:00   \n",
       "2  Call Centre Agent 2006-01-13 23:00:00+00:00   \n",
       "3  Call Centre Agent 2008-01-29 23:00:00+00:00   \n",
       "4     Claims handler 2008-01-29 23:00:00+00:00   \n",
       "\n",
       "                                   concept:name lifecycle:transition  \\\n",
       "0  check if sufficient information is available                start   \n",
       "1  check if sufficient information is available             complete   \n",
       "2                                register claim                start   \n",
       "3                                register claim             complete   \n",
       "4                 determine likelihood of claim                start   \n",
       "\n",
       "  case:concept:name  \n",
       "0                 0  \n",
       "1                 0  \n",
       "2                 0  \n",
       "3                 0  \n",
       "4                 0  "
      ]
     },
     "execution_count": 4,
     "metadata": {},
     "output_type": "execute_result"
    }
   ],
   "source": [
    "df.head()"
   ]
  },
  {
   "cell_type": "code",
   "execution_count": 5,
   "metadata": {
    "pycharm": {
     "is_executing": true
    }
   },
   "outputs": [
    {
     "name": "stdout",
     "output_type": "stream",
     "text": [
      "lifecycle:transition\n",
      "complete    821\n",
      "start       821\n",
      "Name: lifecycle:transition, dtype: int64\n"
     ]
    }
   ],
   "source": [
    "print(df.groupby(['lifecycle:transition'])['lifecycle:transition'].count())"
   ]
  },
  {
   "cell_type": "markdown",
   "metadata": {},
   "source": [
    "### Zamiana logów na format zawierający star_timestamp oraz complete_timestamp"
   ]
  },
  {
   "cell_type": "code",
   "execution_count": 6,
   "metadata": {
    "pycharm": {
     "is_executing": true
    }
   },
   "outputs": [
    {
     "data": {
      "text/html": [
       "<div>\n",
       "<style scoped>\n",
       "    .dataframe tbody tr th:only-of-type {\n",
       "        vertical-align: middle;\n",
       "    }\n",
       "\n",
       "    .dataframe tbody tr th {\n",
       "        vertical-align: top;\n",
       "    }\n",
       "\n",
       "    .dataframe thead th {\n",
       "        text-align: right;\n",
       "    }\n",
       "</style>\n",
       "<table border=\"1\" class=\"dataframe\">\n",
       "  <thead>\n",
       "    <tr style=\"text-align: right;\">\n",
       "      <th></th>\n",
       "      <th>org:resource</th>\n",
       "      <th>concept:name</th>\n",
       "      <th>case:concept:name</th>\n",
       "      <th>start_timestamp</th>\n",
       "      <th>complete_timestamp</th>\n",
       "    </tr>\n",
       "  </thead>\n",
       "  <tbody>\n",
       "    <tr>\n",
       "      <th>0</th>\n",
       "      <td>Call Centre Agent</td>\n",
       "      <td>check if sufficient information is available</td>\n",
       "      <td>0</td>\n",
       "      <td>2005-12-31 23:00:00+00:00</td>\n",
       "      <td>2006-01-13 23:00:00+00:00</td>\n",
       "    </tr>\n",
       "    <tr>\n",
       "      <th>1</th>\n",
       "      <td>Call Centre Agent</td>\n",
       "      <td>check if sufficient information is available</td>\n",
       "      <td>1</td>\n",
       "      <td>2005-12-31 23:00:00+00:00</td>\n",
       "      <td>2006-03-07 23:00:00+00:00</td>\n",
       "    </tr>\n",
       "    <tr>\n",
       "      <th>2</th>\n",
       "      <td>Call Centre Agent</td>\n",
       "      <td>check if sufficient information is available</td>\n",
       "      <td>10</td>\n",
       "      <td>2006-03-30 23:00:00+00:00</td>\n",
       "      <td>2006-04-09 23:00:00+00:00</td>\n",
       "    </tr>\n",
       "    <tr>\n",
       "      <th>3</th>\n",
       "      <td>Call Centre Agent</td>\n",
       "      <td>check if sufficient information is available</td>\n",
       "      <td>100</td>\n",
       "      <td>2008-07-26 23:00:00+00:00</td>\n",
       "      <td>2008-09-16 23:00:00+00:00</td>\n",
       "    </tr>\n",
       "    <tr>\n",
       "      <th>4</th>\n",
       "      <td>Call Centre Agent</td>\n",
       "      <td>check if sufficient information is available</td>\n",
       "      <td>101</td>\n",
       "      <td>2007-11-13 23:00:00+00:00</td>\n",
       "      <td>2008-01-19 23:00:00+00:00</td>\n",
       "    </tr>\n",
       "  </tbody>\n",
       "</table>\n",
       "</div>"
      ],
      "text/plain": [
       "        org:resource                                  concept:name  \\\n",
       "0  Call Centre Agent  check if sufficient information is available   \n",
       "1  Call Centre Agent  check if sufficient information is available   \n",
       "2  Call Centre Agent  check if sufficient information is available   \n",
       "3  Call Centre Agent  check if sufficient information is available   \n",
       "4  Call Centre Agent  check if sufficient information is available   \n",
       "\n",
       "  case:concept:name           start_timestamp        complete_timestamp  \n",
       "0                 0 2005-12-31 23:00:00+00:00 2006-01-13 23:00:00+00:00  \n",
       "1                 1 2005-12-31 23:00:00+00:00 2006-03-07 23:00:00+00:00  \n",
       "2                10 2006-03-30 23:00:00+00:00 2006-04-09 23:00:00+00:00  \n",
       "3               100 2008-07-26 23:00:00+00:00 2008-09-16 23:00:00+00:00  \n",
       "4               101 2007-11-13 23:00:00+00:00 2008-01-19 23:00:00+00:00  "
      ]
     },
     "execution_count": 6,
     "metadata": {},
     "output_type": "execute_result"
    }
   ],
   "source": [
    "df = dp.prepare_logs(df=df, status='lifecycle:transition', timestamp='time:timestamp',status_cols=df['lifecycle:transition'].unique())\n",
    "df.head()"
   ]
  },
  {
   "cell_type": "code",
   "execution_count": 7,
   "metadata": {
    "pycharm": {
     "is_executing": true
    }
   },
   "outputs": [],
   "source": [
    "Texercise6 = TrapezoidMethod(logs=df, \n",
    "                             case_id_column_name='case:concept:name', \n",
    "                             task_column_name='concept:name', \n",
    "                             instance_column_name='org:resource',\n",
    "                             start_timestamp_column_name='start_timestamp', \n",
    "                             complete_timestamp_column_name='complete_timestamp')\n"
   ]
  },
  {
   "cell_type": "code",
   "execution_count": 8,
   "metadata": {
    "pycharm": {
     "is_executing": true
    }
   },
   "outputs": [
    {
     "data": {
      "text/plain": [
       "array(['check if sufficient information is available', 'end',\n",
       "       'register claim', 'advise claimant on reimbursement',\n",
       "       'assess claim', 'close claim', 'determine likelihood of claim',\n",
       "       'initiate payment'], dtype=object)"
      ]
     },
     "execution_count": 8,
     "metadata": {},
     "output_type": "execute_result"
    }
   ],
   "source": [
    "Texercise6.list_of_tasks"
   ]
  },
  {
   "cell_type": "code",
   "execution_count": 9,
   "metadata": {
    "pycharm": {
     "is_executing": true
    }
   },
   "outputs": [
    {
     "data": {
      "image/png": "[encoded data removed]",
      "text/plain": [
       "<Figure size 1008x432 with 1 Axes>"
      ]
     },
     "metadata": {
      "needs_background": "light"
     },
     "output_type": "display_data"
    },
    {
     "data": {
      "image/png": "[encoded data removed]",
      "text/plain": [
       "<Figure size 1008x432 with 1 Axes>"
      ]
     },
     "metadata": {
      "needs_background": "light"
     },
     "output_type": "display_data"
    },
    {
     "data": {
      "image/png": "[encoded data removed]",
      "text/plain": [
       "<Figure size 1008x432 with 1 Axes>"
      ]
     },
     "metadata": {
      "needs_background": "light"
     },
     "output_type": "display_data"
    },
    {
     "name": "stdout",
     "output_type": "stream",
     "text": [
      "= = = = = = = = = = = = = = = = = = = = = = = = = = = = = = = = = = = = = = = = = = = = = \n",
      "check if sufficient information is available area:\u001B[1m 5360.1 \u001B[0m\n",
      "assess claim area:\u001B[1m 126479.58 \u001B[0m\n",
      "splot area:\u001B[1m 0.0 \u001B[0m\n",
      "\n",
      "splot/task1:\u001B[1m 0 % \u001B[0m\n",
      "splot/task2:\u001B[1m 0 % \u001B[0m\n",
      "\n"
     ]
    },
    {
     "data": {
      "text/plain": [
       "['meets', 'before']"
      ]
     },
     "execution_count": 9,
     "metadata": {},
     "output_type": "execute_result"
    }
   ],
   "source": [
    "Texercise6.core_metod(first_task=Texercise6.list_of_tasks[0],\n",
    "                      second_task=Texercise6.list_of_tasks[4],\n",
    "#                       instance='Call Centre Agent',\n",
    "                      plot_results=True,\n",
    "                      plot_steps=True,\n",
    "                      print_results=True)"
   ]
  },
  {
   "cell_type": "code",
   "execution_count": 14,
   "metadata": {},
   "outputs": [
    {
     "name": "stdout",
     "output_type": "stream",
     "text": [
      "= = = = = = = = = = = = = = = = = = = = = = = = = = = = = = = = = = = = = = = = = = = = = \n",
      "determine likelihood of claim area:\u001B[1m 3281.0 \u001B[0m\n",
      "assess claim area:\u001B[1m 88574.37 \u001B[0m\n",
      "splot area:\u001B[1m 0.0 \u001B[0m\n",
      "\n",
      "splot/task1:\u001B[1m 0 % \u001B[0m\n",
      "splot/task2:\u001B[1m 0 % \u001B[0m\n",
      "\n",
      "possible relations:  ['meets', 'before']\n",
      "= = = = = = = = = = = = = = = = = = = = = = = = = = = = = = = = = = = = = = = = = = = = = \n",
      "determine likelihood of claim area:\u001B[1m 3281.0 \u001B[0m\n",
      "advise claimant on reimbursement area:\u001B[1m 63240.76 \u001B[0m\n",
      "splot area:\u001B[1m 0.0 \u001B[0m\n",
      "\n",
      "splot/task1:\u001B[1m 0 % \u001B[0m\n",
      "splot/task2:\u001B[1m 0 % \u001B[0m\n",
      "\n",
      "possible relations:  ['meets', 'before']\n",
      "= = = = = = = = = = = = = = = = = = = = = = = = = = = = = = = = = = = = = = = = = = = = = \n",
      "determine likelihood of claim area:\u001B[1m 3281.0 \u001B[0m\n",
      "initiate payment area:\u001B[1m 59795.08 \u001B[0m\n",
      "splot area:\u001B[1m 0.0 \u001B[0m\n",
      "\n",
      "splot/task1:\u001B[1m 0 % \u001B[0m\n",
      "splot/task2:\u001B[1m 0 % \u001B[0m\n",
      "\n",
      "possible relations:  ['meets', 'before']\n",
      "= = = = = = = = = = = = = = = = = = = = = = = = = = = = = = = = = = = = = = = = = = = = = \n",
      "determine likelihood of claim area:\u001B[1m 3281.0 \u001B[0m\n",
      "close claim area:\u001B[1m 54178.61 \u001B[0m\n",
      "splot area:\u001B[1m 0.0 \u001B[0m\n",
      "\n",
      "splot/task1:\u001B[1m 0 % \u001B[0m\n",
      "splot/task2:\u001B[1m 0 % \u001B[0m\n",
      "\n",
      "possible relations:  ['meets', 'before']\n",
      "= = = = = = = = = = = = = = = = = = = = = = = = = = = = = = = = = = = = = = = = = = = = = \n",
      "assess claim area:\u001B[1m 88673.37 \u001B[0m\n",
      "advise claimant on reimbursement area:\u001B[1m 23821.76 \u001B[0m\n",
      "splot area:\u001B[1m 770.95 \u001B[0m\n",
      "\n",
      "splot/task1:\u001B[1m 1 % \u001B[0m\n",
      "splot/task2:\u001B[1m 3 % \u001B[0m\n",
      "\n",
      "possible relations:  ['meets', 'starts', 'overlaps']\n",
      "= = = = = = = = = = = = = = = = = = = = = = = = = = = = = = = = = = = = = = = = = = = = = \n",
      "assess claim area:\u001B[1m 88673.37 \u001B[0m\n",
      "initiate payment area:\u001B[1m 22058.59 \u001B[0m\n",
      "splot area:\u001B[1m 435.35 \u001B[0m\n",
      "\n",
      "splot/task1:\u001B[1m 0 % \u001B[0m\n",
      "splot/task2:\u001B[1m 2 % \u001B[0m\n",
      "\n",
      "possible relations:  ['meets', 'starts', 'overlaps']\n",
      "= = = = = = = = = = = = = = = = = = = = = = = = = = = = = = = = = = = = = = = = = = = = = \n",
      "assess claim area:\u001B[1m 88673.37 \u001B[0m\n",
      "close claim area:\u001B[1m 16841.23 \u001B[0m\n",
      "splot area:\u001B[1m 0.0 \u001B[0m\n",
      "\n",
      "splot/task1:\u001B[1m 0 % \u001B[0m\n",
      "splot/task2:\u001B[1m 0 % \u001B[0m\n",
      "\n",
      "possible relations:  ['meets', 'before']\n",
      "= = = = = = = = = = = = = = = = = = = = = = = = = = = = = = = = = = = = = = = = = = = = = \n",
      "advise claimant on reimbursement area:\u001B[1m 20708.57 \u001B[0m\n",
      "initiate payment area:\u001B[1m 19025.94 \u001B[0m\n",
      "splot area:\u001B[1m 12498.01 \u001B[0m\n",
      "\n",
      "splot/task1:\u001B[1m 60 % \u001B[0m\n",
      "splot/task2:\u001B[1m 66 % \u001B[0m\n",
      "\n",
      "possible relations:  ['meets', 'starts', 'overlaps']\n",
      "= = = = = = = = = = = = = = = = = = = = = = = = = = = = = = = = = = = = = = = = = = = = = \n",
      "advise claimant on reimbursement area:\u001B[1m 20708.57 \u001B[0m\n",
      "close claim area:\u001B[1m 11189.63 \u001B[0m\n",
      "splot area:\u001B[1m 2106.1 \u001B[0m\n",
      "\n",
      "splot/task1:\u001B[1m 10 % \u001B[0m\n",
      "splot/task2:\u001B[1m 19 % \u001B[0m\n",
      "\n",
      "possible relations:  ['meets', 'starts', 'overlaps']\n",
      "= = = = = = = = = = = = = = = = = = = = = = = = = = = = = = = = = = = = = = = = = = = = = \n",
      "initiate payment area:\u001B[1m 11056.38 \u001B[0m\n",
      "close claim area:\u001B[1m 8784.71 \u001B[0m\n",
      "splot area:\u001B[1m 1458.05 \u001B[0m\n",
      "\n",
      "splot/task1:\u001B[1m 13 % \u001B[0m\n",
      "splot/task2:\u001B[1m 17 % \u001B[0m\n",
      "\n",
      "possible relations:  ['meets', 'starts', 'overlaps']\n"
     ]
    }
   ],
   "source": [
    "tasks = ['determine likelihood of claim', 'assess claim', 'advise claimant on reimbursement', 'initiate payment', 'close claim']\n",
    "for i in range(len(tasks)):\n",
    "    for j in range(i + 1, len(tasks)):\n",
    "        print('possible relations: ', \n",
    "              Texercise6.core_metod(first_task=tasks[j],\n",
    "                                    second_task=tasks[i],\n",
    "                                    instance='Claims handler',\n",
    "    #                                 plot_results=True,\n",
    "    #                                 plot_steps=True,\n",
    "                                    print_results=True))"
   ]
  },
  {
   "cell_type": "markdown",
   "metadata": {},
   "source": [
    "# Test random logs generator"
   ]
  },
  {
   "cell_type": "code",
   "execution_count": 11,
   "metadata": {},
   "outputs": [
    {
     "name": "stdout",
     "output_type": "stream",
     "text": [
      "Generate relation 'A' overlaps 'B' \n",
      "100.0%"
     ]
    }
   ],
   "source": [
    "from logs_generator import generate_logs\n",
    "generated_logs = generate_logs('overlaps')"
   ]
  },
  {
   "cell_type": "code",
   "execution_count": 12,
   "metadata": {
    "pycharm": {
     "is_executing": true
    }
   },
   "outputs": [
    {
     "name": "stdout",
     "output_type": "stream",
     "text": [
      "       "
     ]
    },
    {
     "data": {
      "image/png": "[encoded data removed]",
      "text/plain": [
       "<Figure size 864x432 with 1 Axes>"
      ]
     },
     "metadata": {
      "needs_background": "light"
     },
     "output_type": "display_data"
    }
   ],
   "source": [
    "list_of_times = []\n",
    "list_of_fraction = [x for x in np.logspace(-2, 0, 100) if x > 0.01]\n",
    "for frac in list_of_fraction:\n",
    "    t = TrapezoidMethod(generated_logs[generated_logs['case_id'].isin(pd.Series(generated_logs['case_id'].unique()).sample(frac=frac, random_state=0))])\n",
    "    start_time = time.time()\n",
    "    t.core_metod('A', 'B')\n",
    "    execution_time = time.time() - start_time\n",
    "    print(\"\\r{} %\".format(round(100 * list_of_fraction.index(frac)/len(list_of_fraction)),2), end='')\n",
    "    list_of_times.append(execution_time)\n",
    "n_task = t.number_of_traces['A']\n",
    "print('\\r       ', end='')\n",
    "_, ax = plt.subplots(nrows=1, ncols=1, figsize=[12,6])\n",
    "ax.plot([n_task * _ for _ in list_of_fraction], list_of_times, label='trapezoid_method')\n",
    "ax.set(xlabel='number of traces', ylabel='Time [s]')\n",
    "ax.grid()\n",
    "plt.legend()\n",
    "plt.tight_layout()\n",
    "plt.show()"
   ]
  },
  {
   "cell_type": "markdown",
   "metadata": {},
   "source": [
    "Additional function"
   ]
  },
  {
   "cell_type": "code",
   "execution_count": 13,
   "metadata": {
    "pycharm": {
     "is_executing": true
    }
   },
   "outputs": [],
   "source": [
    "def plot_task_duration(df: pd.DataFrame, trace_col: str, xlim: Tuple, ax: plt.Axes, color: str = 'r', label: str = ''):\n",
    "    \"\"\"\n",
    "    generating a plot of one task logs, like a line in time.\n",
    "    \"\"\"\n",
    "    for i in range(df.shape[0] - 1):\n",
    "        ax.plot([np.array(df['start_timestamp'])[i], np.array(df['complete_timestamp'])[i]], [np.array(df[trace_col])[i],np.array(df[trace_col])[i]], color=color, alpha=0.5, label=label)\n",
    "    ax.get_yaxis().set_visible(False)\n",
    "    ax.set(xlim=xlim)\n",
    "    \n",
    "def plot_tasks(df: pd.DataFrame, task_col:str, trace_col: str, list_of_tasks: List[str], xlim: Tuple, show_plot: bool = True, colors: List = None):\n",
    "    \"\"\"\n",
    "    generating plot_task_duration for two analyzed tasks\n",
    "    \"\"\"\n",
    "    if not colors:\n",
    "        colors = [generate_random_color() for _ in range(len(list_of_tasks))]\n",
    "    generate_random_color()\n",
    "    if show_plot:\n",
    "        fig, ax = plt.subplots(figsize=[14, 6])\n",
    "        for task_idx in range(len(list_of_tasks)):\n",
    "            plot_task_duration(df.loc[df[task_col] == list_of_tasks[task_idx]], trace_col=trace_col, xlim=xlim, ax=ax, color=colors[task_idx], label=list_of_tasks[task_idx])\n",
    "        handles, labels = ax.get_legend_handles_labels()\n",
    "        unique_labels = list(set(labels))\n",
    "        legend_handles = []\n",
    "        legend_labels = []\n",
    "        for label in unique_labels:\n",
    "            index = labels.index(label)\n",
    "            legend_handles.append(handles[index])\n",
    "            legend_labels.append(labels[index])\n",
    "        plt.legend(legend_handles, legend_labels)\n",
    "        plt.tight_layout()\n",
    "        plt.show()\n",
    "\n",
    "def generate_random_color():\n",
    "    r = random.randint(0, 255)\n",
    "    g = random.choice([0, 255])\n",
    "    b = random.choice([0, 255])\n",
    "    return (r/255.0, g/255.0, b/255.0)\n",
    "    "
   ]
  }
 ],
 "metadata": {
  "kernelspec": {
   "display_name": "Python 3",
   "language": "python",
   "name": "python3"
  },
  "language_info": {
   "codemirror_mode": {
    "name": "ipython",
    "version": 3
   },
   "file_extension": ".py",
   "mimetype": "text/x-python",
   "name": "python",
   "nbconvert_exporter": "python",
   "pygments_lexer": "ipython3",
   "version": "3.9.2"
  }
 },
 "nbformat": 4,
 "nbformat_minor": 1
}
