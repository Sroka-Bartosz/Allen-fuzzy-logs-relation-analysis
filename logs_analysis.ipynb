{
 "cells": [
  {
   "cell_type": "markdown",
   "metadata": {},
   "source": [
    "\n",
    "# Trapezoidal method based on mean and standard deviation"
   ]
  },
  {
   "cell_type": "markdown",
   "metadata": {},
   "source": [
    "##  import bibliotek"
   ]
  },
  {
   "cell_type": "code",
   "execution_count": 1,
   "metadata": {
    "pycharm": {
     "is_executing": true
    }
   },
   "outputs": [],
   "source": [
    "import datetime as dt\n",
    "from datetime import datetime\n",
    "from typing import Tuple, List\n",
    "import random\n",
    "import warnings\n",
    "\n",
    "import matplotlib.colors as mcolors\n",
    "import matplotlib.pyplot as plt\n",
    "from matplotlib.patches import Rectangle\n",
    "import numpy as np\n",
    "import pandas as pd\n",
    "import seaborn as sns\n",
    "\n",
    "from copy import deepcopy\n",
    "\n",
    "from pm4py.objects.conversion.log import converter as log_converter\n",
    "from pm4py.objects.log.importer.xes import importer as xes_importer\n",
    "from pm4py import discover_bpmn_inductive\n",
    "\n",
    "warnings.filterwarnings(\"ignore\")"
   ]
  },
  {
   "cell_type": "markdown",
   "metadata": {},
   "source": [
    "## Function"
   ]
  },
  {
   "cell_type": "markdown",
   "metadata": {},
   "source": [
    "### loading and processing data function"
   ]
  },
  {
   "cell_type": "code",
   "execution_count": 2,
   "metadata": {},
   "outputs": [],
   "source": [
    "def convert_logs_to_start_complete_by_status(df:pd.DataFrame, status: 'str', timestamp: 'str') -> pd.DataFrame: \n",
    "    \"\"\"\n",
    "    from column timestamp and status [complete, start] generate a new two column start_timestamp and end_timestamp\n",
    "    \"\"\"\n",
    "    df['start_timestamp'] = df.loc[df[status] == 'start', timestamp]\n",
    "    df['complete_timestamp'] = df.loc[df[status] == 'complete', timestamp]\n",
    "    df.drop([status, timestamp], axis=1, inplace=True)\n",
    "    return df\n",
    "\n",
    "def grouped_start_complete_timestamp_to_one_row(df: pd.DataFrame) -> pd.DataFrame:\n",
    "    \"\"\"\n",
    "    grouped two rows first like [NaT, complete_timestamp] and second like [start_timestamp, NaT] \n",
    "    to one row [start_timestamp, complete_timestamp]\n",
    "    \"\"\"\n",
    "    # choose column to be grouped - start_timestamp and complete_timestamp\n",
    "    columns_grouped = [col for col in df.columns.values if (col != 'start_timestamp' and col != 'complete_timestamp')]\n",
    "    grouped = df.groupby(columns_grouped, as_index=False)\n",
    "\n",
    "    # Columns aggregation using first and last argument\n",
    "    return grouped.agg({'start_timestamp': 'first', 'complete_timestamp': 'last'})"
   ]
  },
  {
   "cell_type": "markdown",
   "metadata": {},
   "source": [
    "### ploting function"
   ]
  },
  {
   "cell_type": "code",
   "execution_count": 3,
   "metadata": {
    "pycharm": {
     "is_executing": true
    }
   },
   "outputs": [],
   "source": [
    "def plot_task_duration(df: pd.DataFrame, xlim: Tuple, ax: plt.Axes, color: str = 'r', label: str = ''):\n",
    "    \"\"\"\n",
    "    generating a plot of one task logs, like a line in time.\n",
    "    \"\"\"\n",
    "    for i in range(df.shape[0] - 1):\n",
    "        ax.plot([np.array(df['start_timestamp'])[i], np.array(df['complete_timestamp'])[i]], [np.array(df['case:concept:name'])[i],np.array(df['case:concept:name'])[i]], color=color, alpha=0.5, label=label)\n",
    "    ax.get_yaxis().set_visible(False)\n",
    "    ax.set(xlim=xlim)\n",
    "    \n",
    "def plot_tasks(df: pd.DataFrame, task_col:str, list_of_tasks: List[str], xlim: Tuple, show_plot: bool = True, colors: List = None):\n",
    "    \"\"\"\n",
    "    generating plot_task_duration for two analyzed tasks\n",
    "    \"\"\"\n",
    "    if not colors:\n",
    "        colors = [generate_random_color() for _ in range(len(list_of_tasks))]\n",
    "    generate_random_color()\n",
    "    if show_plot:\n",
    "        fig, ax = plt.subplots(figsize=[14,6])\n",
    "        for task_idx in range(len(list_of_tasks)):\n",
    "            plot_task_duration(df.loc[df[task_col] == list_of_tasks[task_idx]], xlim=xlim, ax=ax, color=colors[task_idx], label=list_of_tasks[task_idx])\n",
    "        # ręczne utworzenie legendy dla każdego wykresu\n",
    "        handles, labels = ax.get_legend_handles_labels()\n",
    "        unique_labels = list(set(labels))\n",
    "        legend_handles = []\n",
    "        legend_labels = []\n",
    "        for label in unique_labels:\n",
    "            index = labels.index(label)\n",
    "            legend_handles.append(handles[index])\n",
    "            legend_labels.append(labels[index])\n",
    "        plt.legend(legend_handles, legend_labels)\n",
    "        plt.tight_layout()\n",
    "        plt.show()\n",
    "\n",
    "def generate_random_color():\n",
    "    r = random.randint(0, 255)\n",
    "    g = random.choice([0, 255])\n",
    "    b = random.choice([0, 255])\n",
    "    return (r/255.0, g/255.0, b/255.0)\n",
    "    "
   ]
  },
  {
   "cell_type": "markdown",
   "metadata": {},
   "source": [
    "### core algorythm function"
   ]
  },
  {
   "cell_type": "code",
   "execution_count": 33,
   "metadata": {},
   "outputs": [],
   "source": [
    "def selected_columns_to_compare(df:pd.DataFrame, instance_col: str, task_col: str, instance: str, task1: str, task2: str):\n",
    "    return df.loc[(df[task_col] == task1) | (df[task_col] == task2) & (df[instance_col] == instance)]\n",
    "\n",
    "def moved_to_side(df:pd.DataFrame, task_col: str, trace_col: str, task1: str, task2: str, side: str):\n",
    "    \"\"\"\n",
    "    function moved to left or ride side of the first tasks\n",
    "    \"\"\"\n",
    "    \n",
    "    left_side = np.min(df.start_timestamp)\n",
    "    right_side = np.min(df.complete_timestamp)\n",
    "    \n",
    "    for i in df[trace_col].unique():\n",
    "        case1 = ((df[trace_col] == i) & (df[task_col] == task1))\n",
    "        case2 = ((df[trace_col] == i) & (df[task_col] == task2))\n",
    "        \n",
    "        if side == 'left':\n",
    "            diff = pd.to_datetime(df[case1].start_timestamp) - left_side\n",
    "            \n",
    "            df.loc[case1, 'start_timestamp'] = df.loc[case1, 'start_timestamp'] - diff.item()\n",
    "            df.loc[case2, 'start_timestamp'] = df.loc[case2, 'start_timestamp'] - diff.item()\n",
    "            df.loc[case1, 'complete_timestamp'] = df.loc[case1, 'complete_timestamp'] - diff.item()\n",
    "            df.loc[case2, 'complete_timestamp'] = df.loc[case2, 'complete_timestamp'] - diff.item()\n",
    "       \n",
    "        elif side == 'right':\n",
    "            diff = right_side - pd.to_datetime(df[case1].complete_timestamp) \n",
    "            \n",
    "            df.loc[case1, 'start_timestamp'] = df.loc[case1, 'start_timestamp'] + diff.item()\n",
    "            df.loc[case2, 'start_timestamp'] = df.loc[case2, 'start_timestamp'] + diff.item()\n",
    "            df.loc[case1, 'complete_timestamp'] = df.loc[case1, 'complete_timestamp'] + diff.item()\n",
    "            df.loc[case2, 'complete_timestamp'] = df.loc[case2, 'complete_timestamp'] + diff.item()\n",
    "        else:\n",
    "            break\n",
    "    return df\n",
    "\n",
    "def calculate_timestamp_metrics(df: pd.DataFrame, task_col: str, list_of_tasks: List, plot_result: bool = False, colors: List = ['m', 'y']):\n",
    "    number_of_traces = df.groupby([task_col]).count()\n",
    "    n_task1 = number_of_traces.iloc[0,0]\n",
    "    n_task2 = number_of_traces.iloc[1,0]\n",
    "\n",
    "    mean_start1 = np.mean(df[df[task_col] == list_of_tasks[0]].start_timestamp)\n",
    "    mean_start2 = np.mean(df[df[task_col] == list_of_tasks[1]].start_timestamp)\n",
    "\n",
    "    mean_complete1 = np.mean(df[df[task_col] == list_of_tasks[0]].complete_timestamp)\n",
    "    mean_complete2 = np.mean(df[df[task_col] == list_of_tasks[1]].complete_timestamp)\n",
    "\n",
    "    std_start1 = np.std(df[df[task_col] == list_of_tasks[0]].start_timestamp)\n",
    "    std_start2 = np.std(df[df[task_col] == list_of_tasks[1]].start_timestamp)\n",
    "\n",
    "    std_complete1 = np.std(df[df[task_col] == list_of_tasks[0]].complete_timestamp)\n",
    "    std_complete2 = np.std(df[df[task_col] == list_of_tasks[1]].complete_timestamp)\n",
    "    \n",
    "    \n",
    "    if plot_result:\n",
    "        _, ax = plt.subplots(figsize=[14,6])\n",
    "        ax.plot([mean_start1, mean_complete1, mean_complete1 + std_complete1, mean_start1-std_start1, mean_start1], [n_task1, n_task1, 0, 0, n_task1], colors[0], linewidth=2, linestyle=\"--\")\n",
    "        ax.plot([mean_start2, mean_complete2, mean_complete2 + std_complete2, mean_start2-std_start2, mean_start2], [n_task2, n_task2, 0, 0, n_task2], colors[1], linewidth=2, linestyle=\"--\")\n",
    "        ax.set(xlim=(xlim_lower, xlim_upper), ylim=(0, 1.1*np.max([n_task1,n_task2])))\n",
    "        ax.get_yaxis().set_visible(False)\n",
    "        plt.legend(list_of_tasks)\n",
    "        plt.tight_layout()\n",
    "        plt.show()\n",
    "    \n",
    "    area_task1 = (2 * (mean_complete1 - mean_start1) + std_start1 + std_complete1).days * n_task1\n",
    "    area_task2 = (2 * (mean_complete2 - mean_start2) + std_start2 + std_complete2).days * n_task2\n",
    "    \n",
    "    y = (n_task2/std_start2.days)*(dt.timedelta(0) - (mean_start2 - std_start2 - mean_complete1)).days\n",
    "\n",
    "    if y > 0 and y is not None:\n",
    "        area_splot = ((mean_complete1 + std_complete1) - (mean_start2 - std_start2)).days * y\n",
    "    else:\n",
    "        area_splot = dt.timedelta(0).days\n",
    "\n",
    "    return (area_task1, area_task2, area_splot)\n",
    "\n",
    "\n",
    "def core_method(df: pd.DataFrame, instance_col: str, trace_col: str, task_col: str, list_of_tasks: List, show_plot: bool = False, colors: List = None):\n",
    "    \n",
    "    selected_df = selected_columns_to_compare(df, instance_col=instance_col, task_col=task_col, instance=instance, task1=task1, task2=task2)\n",
    "    plot_tasks(selected_df, task_col=task_col, list_of_tasks=[task1, task2], xlim=(xlim_lower, xlim_upper), show_plot=show_plot, colors=colors)\n",
    "    \n",
    "    df1 = moved_to_side(selected_df, task_col=task_col, trace_col=trace_col,task1=task1, task2=task2, side='right')\n",
    "    plot_tasks(df1, task_col=task_col, list_of_tasks=[task1, task2], xlim=(xlim_lower, xlim_upper),show_plot=show_plot, colors=colors)\n",
    "\n",
    "    [area_task1, area_task2, area_splot] = calculate_timestamp_metrics(df1, task_col=task_col, list_of_tasks=[task1, task2], plot_result=show_plot, colors=colors)\n",
    "\n",
    "#     print(np.max([len(task1),len(task2)]) * \"= \")\n",
    "    print(30*\"= \")\n",
    "    print(\"{0} area:\\033[1m {1} \\033[0m\".format(task1, area_task1))\n",
    "    print(\"{0} area:\\033[1m {1} \\033[0m\".format(task2, area_task2))\n",
    "    print(\"splot area:\\033[1m {} \\033[0m\".format(round(area_splot,2)))\n",
    "    print(\"\\nsplot/task1:\\033[1m {} % \\033[0m\".format(round(100 * area_splot/area_task1), 2))\n",
    "    print(\"splot/task2:\\033[1m {} % \\033[0m\".format(round(100 * area_splot/area_task2), 2))\n",
    "    print(\"\")"
   ]
  },
  {
   "cell_type": "markdown",
   "metadata": {},
   "source": [
    "### Załadowanie pliku formatu .xes"
   ]
  },
  {
   "cell_type": "code",
   "execution_count": 5,
   "metadata": {
    "pycharm": {
     "is_executing": true
    }
   },
   "outputs": [
    {
     "data": {
      "application/vnd.jupyter.widget-view+json": {
       "model_id": "9f304a7ad7d843bab04908d949efbe47",
       "version_major": 2,
       "version_minor": 0
      },
      "text/plain": [
       "parsing log, completed traces ::   0%|          | 0/132 [00:00<?, ?it/s]"
      ]
     },
     "metadata": {},
     "output_type": "display_data"
    }
   ],
   "source": [
    "log = xes_importer.apply('logs/exercise6.xes')"
   ]
  },
  {
   "cell_type": "markdown",
   "metadata": {},
   "source": [
    "### Przetworzenie logów do pd.Dataframe"
   ]
  },
  {
   "cell_type": "code",
   "execution_count": 6,
   "metadata": {
    "pycharm": {
     "is_executing": true
    }
   },
   "outputs": [],
   "source": [
    "df = log_converter.apply(log, variant=log_converter.Variants.TO_DATA_FRAME)"
   ]
  },
  {
   "cell_type": "markdown",
   "metadata": {},
   "source": [
    "### Podgląd logow znajdujących się w załadowanym pliku"
   ]
  },
  {
   "cell_type": "code",
   "execution_count": 7,
   "metadata": {
    "pycharm": {
     "is_executing": true
    }
   },
   "outputs": [
    {
     "data": {
      "text/html": [
       "<div>\n",
       "<style scoped>\n",
       "    .dataframe tbody tr th:only-of-type {\n",
       "        vertical-align: middle;\n",
       "    }\n",
       "\n",
       "    .dataframe tbody tr th {\n",
       "        vertical-align: top;\n",
       "    }\n",
       "\n",
       "    .dataframe thead th {\n",
       "        text-align: right;\n",
       "    }\n",
       "</style>\n",
       "<table border=\"1\" class=\"dataframe\">\n",
       "  <thead>\n",
       "    <tr style=\"text-align: right;\">\n",
       "      <th></th>\n",
       "      <th>org:resource</th>\n",
       "      <th>time:timestamp</th>\n",
       "      <th>concept:name</th>\n",
       "      <th>lifecycle:transition</th>\n",
       "      <th>case:concept:name</th>\n",
       "    </tr>\n",
       "  </thead>\n",
       "  <tbody>\n",
       "    <tr>\n",
       "      <th>0</th>\n",
       "      <td>Call Centre Agent</td>\n",
       "      <td>2005-12-31 23:00:00+00:00</td>\n",
       "      <td>check if sufficient information is available</td>\n",
       "      <td>start</td>\n",
       "      <td>0</td>\n",
       "    </tr>\n",
       "    <tr>\n",
       "      <th>1</th>\n",
       "      <td>Call Centre Agent</td>\n",
       "      <td>2006-01-13 23:00:00+00:00</td>\n",
       "      <td>check if sufficient information is available</td>\n",
       "      <td>complete</td>\n",
       "      <td>0</td>\n",
       "    </tr>\n",
       "    <tr>\n",
       "      <th>2</th>\n",
       "      <td>Call Centre Agent</td>\n",
       "      <td>2006-01-13 23:00:00+00:00</td>\n",
       "      <td>register claim</td>\n",
       "      <td>start</td>\n",
       "      <td>0</td>\n",
       "    </tr>\n",
       "    <tr>\n",
       "      <th>3</th>\n",
       "      <td>Call Centre Agent</td>\n",
       "      <td>2008-01-29 23:00:00+00:00</td>\n",
       "      <td>register claim</td>\n",
       "      <td>complete</td>\n",
       "      <td>0</td>\n",
       "    </tr>\n",
       "    <tr>\n",
       "      <th>4</th>\n",
       "      <td>Claims handler</td>\n",
       "      <td>2008-01-29 23:00:00+00:00</td>\n",
       "      <td>determine likelihood of claim</td>\n",
       "      <td>start</td>\n",
       "      <td>0</td>\n",
       "    </tr>\n",
       "  </tbody>\n",
       "</table>\n",
       "</div>"
      ],
      "text/plain": [
       "        org:resource            time:timestamp  \\\n",
       "0  Call Centre Agent 2005-12-31 23:00:00+00:00   \n",
       "1  Call Centre Agent 2006-01-13 23:00:00+00:00   \n",
       "2  Call Centre Agent 2006-01-13 23:00:00+00:00   \n",
       "3  Call Centre Agent 2008-01-29 23:00:00+00:00   \n",
       "4     Claims handler 2008-01-29 23:00:00+00:00   \n",
       "\n",
       "                                   concept:name lifecycle:transition  \\\n",
       "0  check if sufficient information is available                start   \n",
       "1  check if sufficient information is available             complete   \n",
       "2                                register claim                start   \n",
       "3                                register claim             complete   \n",
       "4                 determine likelihood of claim                start   \n",
       "\n",
       "  case:concept:name  \n",
       "0                 0  \n",
       "1                 0  \n",
       "2                 0  \n",
       "3                 0  \n",
       "4                 0  "
      ]
     },
     "execution_count": 7,
     "metadata": {},
     "output_type": "execute_result"
    }
   ],
   "source": [
    "df.head()"
   ]
  },
  {
   "cell_type": "code",
   "execution_count": 8,
   "metadata": {
    "pycharm": {
     "is_executing": true
    }
   },
   "outputs": [
    {
     "name": "stdout",
     "output_type": "stream",
     "text": [
      "lifecycle:transition\n",
      "complete    821\n",
      "start       821\n",
      "Name: lifecycle:transition, dtype: int64\n"
     ]
    }
   ],
   "source": [
    "print(df.groupby(['lifecycle:transition'])['lifecycle:transition'].count())"
   ]
  },
  {
   "cell_type": "markdown",
   "metadata": {},
   "source": [
    "### Zamiana logów na format zawierający star_timestamp oraz complete_timestamp"
   ]
  },
  {
   "cell_type": "code",
   "execution_count": 9,
   "metadata": {
    "pycharm": {
     "is_executing": true
    }
   },
   "outputs": [
    {
     "data": {
      "text/html": [
       "<div>\n",
       "<style scoped>\n",
       "    .dataframe tbody tr th:only-of-type {\n",
       "        vertical-align: middle;\n",
       "    }\n",
       "\n",
       "    .dataframe tbody tr th {\n",
       "        vertical-align: top;\n",
       "    }\n",
       "\n",
       "    .dataframe thead th {\n",
       "        text-align: right;\n",
       "    }\n",
       "</style>\n",
       "<table border=\"1\" class=\"dataframe\">\n",
       "  <thead>\n",
       "    <tr style=\"text-align: right;\">\n",
       "      <th></th>\n",
       "      <th>org:resource</th>\n",
       "      <th>concept:name</th>\n",
       "      <th>case:concept:name</th>\n",
       "      <th>start_timestamp</th>\n",
       "      <th>complete_timestamp</th>\n",
       "    </tr>\n",
       "  </thead>\n",
       "  <tbody>\n",
       "    <tr>\n",
       "      <th>0</th>\n",
       "      <td>Call Centre Agent</td>\n",
       "      <td>check if sufficient information is available</td>\n",
       "      <td>0</td>\n",
       "      <td>2005-12-31 23:00:00+00:00</td>\n",
       "      <td>2006-01-13 23:00:00+00:00</td>\n",
       "    </tr>\n",
       "    <tr>\n",
       "      <th>1</th>\n",
       "      <td>Call Centre Agent</td>\n",
       "      <td>check if sufficient information is available</td>\n",
       "      <td>1</td>\n",
       "      <td>2005-12-31 23:00:00+00:00</td>\n",
       "      <td>2006-03-07 23:00:00+00:00</td>\n",
       "    </tr>\n",
       "    <tr>\n",
       "      <th>2</th>\n",
       "      <td>Call Centre Agent</td>\n",
       "      <td>check if sufficient information is available</td>\n",
       "      <td>10</td>\n",
       "      <td>2006-03-30 23:00:00+00:00</td>\n",
       "      <td>2006-04-09 23:00:00+00:00</td>\n",
       "    </tr>\n",
       "    <tr>\n",
       "      <th>3</th>\n",
       "      <td>Call Centre Agent</td>\n",
       "      <td>check if sufficient information is available</td>\n",
       "      <td>100</td>\n",
       "      <td>2008-07-26 23:00:00+00:00</td>\n",
       "      <td>2008-09-16 23:00:00+00:00</td>\n",
       "    </tr>\n",
       "    <tr>\n",
       "      <th>4</th>\n",
       "      <td>Call Centre Agent</td>\n",
       "      <td>check if sufficient information is available</td>\n",
       "      <td>101</td>\n",
       "      <td>2007-11-13 23:00:00+00:00</td>\n",
       "      <td>2008-01-19 23:00:00+00:00</td>\n",
       "    </tr>\n",
       "  </tbody>\n",
       "</table>\n",
       "</div>"
      ],
      "text/plain": [
       "        org:resource                                  concept:name  \\\n",
       "0  Call Centre Agent  check if sufficient information is available   \n",
       "1  Call Centre Agent  check if sufficient information is available   \n",
       "2  Call Centre Agent  check if sufficient information is available   \n",
       "3  Call Centre Agent  check if sufficient information is available   \n",
       "4  Call Centre Agent  check if sufficient information is available   \n",
       "\n",
       "  case:concept:name           start_timestamp        complete_timestamp  \n",
       "0                 0 2005-12-31 23:00:00+00:00 2006-01-13 23:00:00+00:00  \n",
       "1                 1 2005-12-31 23:00:00+00:00 2006-03-07 23:00:00+00:00  \n",
       "2                10 2006-03-30 23:00:00+00:00 2006-04-09 23:00:00+00:00  \n",
       "3               100 2008-07-26 23:00:00+00:00 2008-09-16 23:00:00+00:00  \n",
       "4               101 2007-11-13 23:00:00+00:00 2008-01-19 23:00:00+00:00  "
      ]
     },
     "execution_count": 9,
     "metadata": {},
     "output_type": "execute_result"
    }
   ],
   "source": [
    "df = convert_logs_to_start_complete_by_status(df, 'lifecycle:transition', 'time:timestamp')\n",
    "df = grouped_start_complete_timestamp_to_one_row(df)\n",
    "df.head()"
   ]
  },
  {
   "cell_type": "code",
   "execution_count": 10,
   "metadata": {
    "pycharm": {
     "is_executing": true
    }
   },
   "outputs": [
    {
     "data": {
      "text/plain": [
       "array(['Call Centre Agent', 'Claims handler'], dtype=object)"
      ]
     },
     "execution_count": 10,
     "metadata": {},
     "output_type": "execute_result"
    }
   ],
   "source": [
    "df['org:resource'].unique()"
   ]
  },
  {
   "cell_type": "markdown",
   "metadata": {},
   "source": [
    "# Analiza położenia zadań:"
   ]
  },
  {
   "cell_type": "markdown",
   "metadata": {},
   "source": [
    "### Analiza 'org:resource' == 'Call Centre Agent'"
   ]
  },
  {
   "cell_type": "code",
   "execution_count": 11,
   "metadata": {
    "pycharm": {
     "is_executing": true
    }
   },
   "outputs": [
    {
     "name": "stdout",
     "output_type": "stream",
     "text": [
      "['check if sufficient information is available' 'end' 'register claim']\n"
     ]
    }
   ],
   "source": [
    "call_centre_agent = df.loc[df['org:resource'] == 'Call Centre Agent']\n",
    "list_of_tasks = call_centre_agent['concept:name'].unique()\n",
    "print(list_of_tasks)"
   ]
  },
  {
   "cell_type": "code",
   "execution_count": 12,
   "metadata": {
    "pycharm": {
     "is_executing": true
    }
   },
   "outputs": [
    {
     "data": {
      "image/png": "[encoded data removed]",
      "text/plain": [
       "<Figure size 1008x432 with 1 Axes>"
      ]
     },
     "metadata": {
      "needs_background": "light"
     },
     "output_type": "display_data"
    }
   ],
   "source": [
    "xlim_lower = datetime.strptime('2005-12-01', '%Y-%m-%d')\n",
    "xlim_upper = datetime.strptime('2015-08-01', '%Y-%m-%d')\n",
    "\n",
    "plot_tasks(df=call_centre_agent, task_col='concept:name', list_of_tasks=list_of_tasks, xlim=(xlim_lower, xlim_upper))"
   ]
  },
  {
   "cell_type": "code",
   "execution_count": 34,
   "metadata": {
    "pycharm": {
     "is_executing": true
    }
   },
   "outputs": [
    {
     "name": "stdout",
     "output_type": "stream",
     "text": [
      "= = = = = = = = = = = = = = = = = = = = = = = = = = = = = = \n",
      "check if sufficient information is available area:\u001B[1m 10560 \u001B[0m\n",
      "register claim area:\u001B[1m 178020 \u001B[0m\n",
      "splot area:\u001B[1m 0 \u001B[0m\n",
      "\n",
      "splot/task1:\u001B[1m 0 % \u001B[0m\n",
      "splot/task2:\u001B[1m 0 % \u001B[0m\n",
      "\n"
     ]
    }
   ],
   "source": [
    "xlim_lower = datetime.strptime('2005-10-01', '%Y-%m-%d')\n",
    "xlim_upper = datetime.strptime('2015-08-01', '%Y-%m-%d')\n",
    "\n",
    "\n",
    "instance_col = 'org:resource'\n",
    "task_col = 'concept:name'\n",
    "trace_col = 'case:concept:name'\n",
    "\n",
    "instance = 'Call Centre Agent'\n",
    "task1 = 'check if sufficient information is available'\n",
    "task2 = 'register claim'\n",
    "\n",
    "colors = ['magenta', 'orange']\n",
    "\n",
    "core_method(df, instance_col=instance_col, trace_col=trace_col, task_col=task_col, list_of_tasks=[task1, task2], show_plot=False, colors=colors)"
   ]
  },
  {
   "cell_type": "markdown",
   "metadata": {},
   "source": [
    "### Analiza 'org:resource' == 'Claims handler'"
   ]
  },
  {
   "cell_type": "code",
   "execution_count": 29,
   "metadata": {
    "pycharm": {
     "is_executing": true
    }
   },
   "outputs": [
    {
     "name": "stdout",
     "output_type": "stream",
     "text": [
      "['check if sufficient information is available' 'end' 'register claim'\n",
      " 'advise claimant on reimbursement' 'assess claim' 'close claim'\n",
      " 'determine likelihood of claim' 'initiate payment']\n"
     ]
    }
   ],
   "source": [
    "claims_handler = df.loc[df['org:resource'] == 'Claims handler']\n",
    "list_of_tasks = df['concept:name'].unique()\n",
    "print(list_of_tasks)"
   ]
  },
  {
   "cell_type": "code",
   "execution_count": 35,
   "metadata": {
    "pycharm": {
     "is_executing": true
    }
   },
   "outputs": [
    {
     "data": {
      "image/png": "[encoded data removed]",
      "text/plain": [
       "<Figure size 1008x432 with 1 Axes>"
      ]
     },
     "metadata": {
      "needs_background": "light"
     },
     "output_type": "display_data"
    }
   ],
   "source": [
    "xlim_lower = datetime.strptime('2006-06-01', '%Y-%m-%d')\n",
    "xlim_upper = datetime.strptime('2019-01-01', '%Y-%m-%d')\n",
    "\n",
    "plot_tasks(df=claims_handler, task_col='concept:name', list_of_tasks=list_of_tasks, xlim=(xlim_lower, xlim_upper))"
   ]
  },
  {
   "cell_type": "code",
   "execution_count": 36,
   "metadata": {
    "pycharm": {
     "is_executing": true
    }
   },
   "outputs": [],
   "source": [
    "xlim_lower = datetime.strptime('2005-06-01', '%Y-%m-%d')\n",
    "xlim_upper = datetime.strptime('2019-01-01', '%Y-%m-%d')\n",
    "\n",
    "instance_col = 'org:resource'\n",
    "task_col = 'concept:name'\n",
    "trace_col = 'case:concept:name'\n",
    "\n",
    "instance = 'Claims handler'\n",
    "colors = ['magenta', 'orange']"
   ]
  },
  {
   "cell_type": "code",
   "execution_count": 37,
   "metadata": {},
   "outputs": [
    {
     "name": "stdout",
     "output_type": "stream",
     "text": [
      "= = = = = = = = = = = = = = = = = = = = = = = = = = = = = = \n",
      "determine likelihood of claim area:\u001B[1m 5544 \u001B[0m\n",
      "assess claim area:\u001B[1m 205850 \u001B[0m\n",
      "splot area:\u001B[1m 0 \u001B[0m\n",
      "\n",
      "splot/task1:\u001B[1m 0 % \u001B[0m\n",
      "splot/task2:\u001B[1m 0 % \u001B[0m\n",
      "\n",
      "= = = = = = = = = = = = = = = = = = = = = = = = = = = = = = \n",
      "determine likelihood of claim area:\u001B[1m 4256 \u001B[0m\n",
      "advise claimant on reimbursement area:\u001B[1m 191360 \u001B[0m\n",
      "splot area:\u001B[1m 0 \u001B[0m\n",
      "\n",
      "splot/task1:\u001B[1m 0 % \u001B[0m\n",
      "splot/task2:\u001B[1m 0 % \u001B[0m\n",
      "\n",
      "= = = = = = = = = = = = = = = = = = = = = = = = = = = = = = \n",
      "determine likelihood of claim area:\u001B[1m 6440 \u001B[0m\n",
      "initiate payment area:\u001B[1m 119548 \u001B[0m\n",
      "splot area:\u001B[1m 0 \u001B[0m\n",
      "\n",
      "splot/task1:\u001B[1m 0 % \u001B[0m\n",
      "splot/task2:\u001B[1m 0 % \u001B[0m\n",
      "\n",
      "= = = = = = = = = = = = = = = = = = = = = = = = = = = = = = \n",
      "determine likelihood of claim area:\u001B[1m 4256 \u001B[0m\n",
      "close claim area:\u001B[1m 163875 \u001B[0m\n",
      "splot area:\u001B[1m 0 \u001B[0m\n",
      "\n",
      "splot/task1:\u001B[1m 0 % \u001B[0m\n",
      "splot/task2:\u001B[1m 0 % \u001B[0m\n",
      "\n",
      "= = = = = = = = = = = = = = = = = = = = = = = = = = = = = = \n",
      "assess claim area:\u001B[1m 136040 \u001B[0m\n",
      "advise claimant on reimbursement area:\u001B[1m 61974 \u001B[0m\n",
      "splot area:\u001B[1m 1955.56 \u001B[0m\n",
      "\n",
      "splot/task1:\u001B[1m 1 % \u001B[0m\n",
      "splot/task2:\u001B[1m 3 % \u001B[0m\n",
      "\n",
      "= = = = = = = = = = = = = = = = = = = = = = = = = = = = = = \n",
      "assess claim area:\u001B[1m 177210 \u001B[0m\n",
      "initiate payment area:\u001B[1m 44080 \u001B[0m\n",
      "splot area:\u001B[1m 845.6 \u001B[0m\n",
      "\n",
      "splot/task1:\u001B[1m 0 % \u001B[0m\n",
      "splot/task2:\u001B[1m 2 % \u001B[0m\n",
      "\n",
      "= = = = = = = = = = = = = = = = = = = = = = = = = = = = = = \n",
      "assess claim area:\u001B[1m 177210 \u001B[0m\n",
      "close claim area:\u001B[1m 33668 \u001B[0m\n",
      "splot area:\u001B[1m 0 \u001B[0m\n",
      "\n",
      "splot/task1:\u001B[1m 0 % \u001B[0m\n",
      "splot/task2:\u001B[1m 0 % \u001B[0m\n",
      "\n",
      "= = = = = = = = = = = = = = = = = = = = = = = = = = = = = = \n",
      "advise claimant on reimbursement area:\u001B[1m 41268 \u001B[0m\n",
      "initiate payment area:\u001B[1m 38000 \u001B[0m\n",
      "splot area:\u001B[1m 29192.39 \u001B[0m\n",
      "\n",
      "splot/task1:\u001B[1m 71 % \u001B[0m\n",
      "splot/task2:\u001B[1m 77 % \u001B[0m\n",
      "\n",
      "= = = = = = = = = = = = = = = = = = = = = = = = = = = = = = \n",
      "advise claimant on reimbursement area:\u001B[1m 41268 \u001B[0m\n",
      "close claim area:\u001B[1m 22344 \u001B[0m\n",
      "splot area:\u001B[1m 4087.39 \u001B[0m\n",
      "\n",
      "splot/task1:\u001B[1m 10 % \u001B[0m\n",
      "splot/task2:\u001B[1m 18 % \u001B[0m\n",
      "\n",
      "= = = = = = = = = = = = = = = = = = = = = = = = = = = = = = \n",
      "initiate payment area:\u001B[1m 21964 \u001B[0m\n",
      "close claim area:\u001B[1m 17556 \u001B[0m\n",
      "splot area:\u001B[1m 2805.95 \u001B[0m\n",
      "\n",
      "splot/task1:\u001B[1m 13 % \u001B[0m\n",
      "splot/task2:\u001B[1m 16 % \u001B[0m\n",
      "\n"
     ]
    }
   ],
   "source": [
    "task_in_order = ['determine likelihood of claim', 'assess claim', 'advise claimant on reimbursement', 'initiate payment', 'close claim']\n",
    "for i in range(len(task_in_order)):\n",
    "    for j in range(i + 1, len(task_in_order)):\n",
    "        task1 = task_in_order[i]\n",
    "        task2 = task_in_order[j]\n",
    "        core_method(df=claims_handler, instance_col=instance_col, trace_col=trace_col, task_col=task_col, list_of_tasks=[task1, task2], show_plot=False, colors=colors)"
   ]
  },
  {
   "cell_type": "code",
   "execution_count": 20,
   "metadata": {},
   "outputs": [
    {
     "data": {
      "image/png": "[encoded data removed]",
      "text/plain": [
       "<Figure size 1008x432 with 1 Axes>"
      ]
     },
     "metadata": {
      "needs_background": "light"
     },
     "output_type": "display_data"
    },
    {
     "data": {
      "image/png": "[encoded data removed]",
      "text/plain": [
       "<Figure size 1008x432 with 1 Axes>"
      ]
     },
     "metadata": {
      "needs_background": "light"
     },
     "output_type": "display_data"
    },
    {
     "data": {
      "image/png": "[encoded data removed]",
      "text/plain": [
       "<Figure size 1008x432 with 1 Axes>"
      ]
     },
     "metadata": {
      "needs_background": "light"
     },
     "output_type": "display_data"
    },
    {
     "name": "stdout",
     "output_type": "stream",
     "text": [
      "\n",
      "\n",
      "= = = = = = = = = = = = = = = = = = = = = = = = = = = = = = \n",
      "advise claimant on reimbursement area:\u001B[1m 41268 \u001B[0m\n",
      "initiate payment area:\u001B[1m 38000 \u001B[0m\n",
      "splot area:\u001B[1m 29192.39 \u001B[0m\n",
      "\n",
      "splot/task1:\u001B[1m 71 % \u001B[0m\n",
      "splot/task2:\u001B[1m 77 % \u001B[0m\n",
      "= = = = = = = = = = = = = = = = = = = = = = = = = = = = = = \n"
     ]
    }
   ],
   "source": [
    "task1 = 'advise claimant on reimbursement'\n",
    "task2 = 'initiate payment'\n",
    "\n",
    "core_method(df=claims_handler, instance_col=instance_col, trace_col=trace_col, task_col=task_col, list_of_tasks=[task1, task2], show_plot=True, colors=colors)"
   ]
  },
  {
   "cell_type": "code",
   "execution_count": 21,
   "metadata": {},
   "outputs": [
    {
     "data": {
      "image/png": "[encoded data removed]",
      "text/plain": [
       "<Figure size 1008x432 with 1 Axes>"
      ]
     },
     "metadata": {
      "needs_background": "light"
     },
     "output_type": "display_data"
    },
    {
     "data": {
      "image/png": "[encoded data removed]",
      "text/plain": [
       "<Figure size 1008x432 with 1 Axes>"
      ]
     },
     "metadata": {
      "needs_background": "light"
     },
     "output_type": "display_data"
    },
    {
     "data": {
      "image/png": "[encoded data removed]",
      "text/plain": [
       "<Figure size 1008x432 with 1 Axes>"
      ]
     },
     "metadata": {
      "needs_background": "light"
     },
     "output_type": "display_data"
    },
    {
     "name": "stdout",
     "output_type": "stream",
     "text": [
      "\n",
      "\n",
      "= = = = = = = = = = = = = = = = = = = = = = = = = = = = = = \n",
      "advise claimant on reimbursement area:\u001B[1m 41268 \u001B[0m\n",
      "close claim area:\u001B[1m 22344 \u001B[0m\n",
      "splot area:\u001B[1m 4087.39 \u001B[0m\n",
      "\n",
      "splot/task1:\u001B[1m 10 % \u001B[0m\n",
      "splot/task2:\u001B[1m 18 % \u001B[0m\n",
      "= = = = = = = = = = = = = = = = = = = = = = = = = = = = = = \n"
     ]
    }
   ],
   "source": [
    "task1 = 'advise claimant on reimbursement'\n",
    "task2 = 'close claim'\n",
    "\n",
    "core_method(df=claims_handler, instance_col=instance_col, trace_col=trace_col, task_col=task_col, list_of_tasks=[task1, task2], show_plot=True, colors=colors)"
   ]
  },
  {
   "cell_type": "code",
   "execution_count": null,
   "metadata": {
    "pycharm": {
     "is_executing": true
    }
   },
   "outputs": [],
   "source": [
    "task1 = 'determine likelihood of claim'\n",
    "task2 = 'close claim'\n",
    "\n",
    "core_method(df=claims_handler, instance_col=instance_col, trace_col=trace_col, task_col=task_col, list_of_tasks=[task1, task2], show_plot=True, colors=colors)"
   ]
  },
  {
   "cell_type": "code",
   "execution_count": null,
   "metadata": {
    "pycharm": {
     "is_executing": true
    },
    "scrolled": true
   },
   "outputs": [],
   "source": [
    "task1 = 'assess claim'\n",
    "task2 = 'close claim'\n",
    "\n",
    "core_method(df=claims_handler, instance_col=instance_col, trace_col=trace_col, task_col=task_col, list_of_tasks=[task1, task2], show_plot=False, colors=colors)"
   ]
  },
  {
   "cell_type": "code",
   "execution_count": null,
   "metadata": {
    "pycharm": {
     "is_executing": true
    }
   },
   "outputs": [],
   "source": [
    "task1 = 'assess claim'\n",
    "task2 = 'initiate payment'\n",
    "\n",
    "core_method(df=claims_handler, instance_col=instance_col, trace_col=trace_col, task_col=task_col, list_of_tasks=[task1, task2], show_plot=False, colors=colors)"
   ]
  },
  {
   "cell_type": "code",
   "execution_count": null,
   "metadata": {},
   "outputs": [],
   "source": []
  },
  {
   "cell_type": "code",
   "execution_count": null,
   "metadata": {},
   "outputs": [],
   "source": []
  }
 ],
 "metadata": {
  "kernelspec": {
   "display_name": "Python 3",
   "language": "python",
   "name": "python3"
  },
  "language_info": {
   "codemirror_mode": {
    "name": "ipython",
    "version": 3
   },
   "file_extension": ".py",
   "mimetype": "text/x-python",
   "name": "python",
   "nbconvert_exporter": "python",
   "pygments_lexer": "ipython3",
   "version": "3.9.2"
  }
 },
 "nbformat": 4,
 "nbformat_minor": 1
}
