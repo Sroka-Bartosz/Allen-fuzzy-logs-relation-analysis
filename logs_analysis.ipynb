{
 "cells": [
  {
   "cell_type": "markdown",
   "metadata": {},
   "source": [
    "## Analiza realcji między zdarzeniami - wykreślanie trapezów bazujących na średniej i odchyleniu standardowym zdarzeń"
   ]
  },
  {
   "cell_type": "markdown",
   "metadata": {},
   "source": [
    "### import bibliotek"
   ]
  },
  {
   "cell_type": "code",
   "execution_count": 1,
   "metadata": {
    "pycharm": {
     "is_executing": true
    }
   },
   "outputs": [],
   "source": [
    "import pandas as pd\n",
    "import numpy as np\n",
    "import pm4py\n",
    "import matplotlib.pyplot as plt\n",
    "import seaborn as sns\n",
    "import datetime as dt\n",
    "from datetime import datetime\n",
    "from matplotlib.patches import Rectangle\n",
    "from copy import deepcopy\n",
    "\n",
    "from pm4py import discover_bpmn_inductive\n",
    "from pm4py.objects.conversion.log import converter as log_converter\n",
    "from pm4py.objects.log.importer.xes import importer as xes_importer"
   ]
  },
  {
   "cell_type": "markdown",
   "metadata": {},
   "source": [
    "### funkcje"
   ]
  },
  {
   "cell_type": "code",
   "execution_count": 2,
   "metadata": {
    "pycharm": {
     "is_executing": true
    }
   },
   "outputs": [],
   "source": [
    "def convert_logs_to_start_complete_by_status(df:pd.DataFrame, status: 'str', timestamp: 'str'):\n",
    "    df['start_timestamp'] = df.loc[df[status] == 'start', timestamp]\n",
    "    df['complete_timestamp'] = df.loc[df[status] == 'complete', timestamp]\n",
    "    df.drop([status, timestamp], axis=1, inplace=True)\n",
    "    return df\n",
    "\n",
    "def grouped_start_complete_timestamp_to_one_row(df: pd.DataFrame):\n",
    "    # wybór kolumn do grupowania\n",
    "    columns_grouped = [col for col in df.columns.values if (col != 'start_timestamp' and col != 'complete_timestamp')]\n",
    "    # grupowanie kolumn z wyjątkiem start oraz complete timestamp\n",
    "    grouped = df.groupby(columns_grouped, as_index=False)\n",
    "\n",
    "    # Agregowanie wartości start_timestamp i complete_timestamp za pomocą funkcji first i last\n",
    "    return grouped.agg({'start_timestamp': 'first', 'complete_timestamp': 'last'})\n",
    "\n",
    "def plot_only_lines(df: pd.DataFrame, xlim, ax, plot_color: str = 'r'):\n",
    "    for i in range(df.shape[0] - 1):\n",
    "        ax.plot([np.array(df['start_timestamp'])[i], np.array(df['complete_timestamp'])[i]], [np.array(df['case:concept:name'])[i],np.array(df['case:concept:name'])[i]], color=plot_color, alpha=0.5)\n",
    "    ax.get_yaxis().set_visible(False)\n",
    "    ax.set(xlim=xlim)\n",
    "    \n",
    "def plot1(df: pd.DataFrame, task_col:str, task1: str, task2: str, xlim):\n",
    "    fig, ax = plt.subplots(figsize=[14,6])\n",
    "    plot_only_lines(df.loc[df[task_col] == task1], xlim=xlim, ax=ax, plot_color='m')\n",
    "    plot_only_lines(df.loc[df[task_col] == task2], xlim=xlim, ax=ax, plot_color='y')\n",
    "    plt.show()\n",
    "    \n",
    "def selected_columns_to_compare(df:pd.DataFrame, instance_col: str, task_col: str, instance: str, task1: str, task2: str):\n",
    "    return df.loc[(df[task_col] == task1) | (df[task_col] == task2) & (df[instance_col] == instance)]\n",
    "\n",
    "def moved_to_side(df:pd.DataFrame, task_col: str, trace_col: str, task1: str, task2: str, side: str):\n",
    "    left_side = np.min(df.start_timestamp)\n",
    "    right_side = np.min(df.complete_timestamp)\n",
    "    \n",
    "    for i in df[trace_col].unique():\n",
    "        case1 = ((df[trace_col] == i) & (df[task_col] == task1))\n",
    "        case2 = ((df[trace_col] == i) & (df[task_col] == task2))\n",
    "        \n",
    "        if side == 'left':\n",
    "            diff = pd.to_datetime(df[case1].start_timestamp) - left_side\n",
    "            \n",
    "            df.loc[case1, 'start_timestamp'] = df.loc[case1, 'start_timestamp'] - diff.item()\n",
    "            df.loc[case2, 'start_timestamp'] = df.loc[case2, 'start_timestamp'] - diff.item()\n",
    "            df.loc[case1, 'complete_timestamp'] = df.loc[case1, 'complete_timestamp'] - diff.item()\n",
    "            df.loc[case2, 'complete_timestamp'] = df.loc[case2, 'complete_timestamp'] - diff.item()\n",
    "       \n",
    "        elif side == 'right':\n",
    "            diff = right_side - pd.to_datetime(df[case2].complete_timestamp) \n",
    "            \n",
    "            df.loc[case1, 'start_timestamp'] = df.loc[case1, 'start_timestamp'] + diff.item()\n",
    "            df.loc[case2, 'start_timestamp'] = df.loc[case2, 'start_timestamp'] + diff.item()\n",
    "            df.loc[case1, 'complete_timestamp'] = df.loc[case1, 'complete_timestamp'] + diff.item()\n",
    "            df.loc[case2, 'complete_timestamp'] = df.loc[case2, 'complete_timestamp'] + diff.item()\n",
    "        else:\n",
    "            break\n",
    "    return df\n",
    "\n",
    "def calculate_timestamp_metrics(df: pd.DataFrame, task_col: str):\n",
    "    number_of_traces = df.groupby([task_col]).count()\n",
    "    n_task1 = number_of_traces.iloc[0,0]\n",
    "    n_task2 = number_of_traces.iloc[1,0]\n",
    "\n",
    "    mean_start1 = np.mean(df[df[task_col] == task1].start_timestamp)\n",
    "    mean_start2 = np.mean(df[df[task_col] == task2].start_timestamp)\n",
    "\n",
    "    mean_complete1 = np.mean(df[df[task_col] == task1].complete_timestamp)\n",
    "    mean_complete2 = np.mean(df[df[task_col] == task2].complete_timestamp)\n",
    "\n",
    "    std_start1 = np.std(df[df[task_col] == task1].start_timestamp)\n",
    "    std_start2 = np.std(df[df[task_col] == task2].start_timestamp)\n",
    "\n",
    "    std_complete1 = np.std(df[df[task_col] == task1].complete_timestamp)\n",
    "    std_complete2 = np.std(df[df[task_col] == task2].complete_timestamp)\n",
    "    \n",
    "#     print(mean_start1,\"+-\", std_start1)\n",
    "#     print(mean_complete1, '+-', std_complete1, end='\\n\\n')\n",
    "\n",
    "#     print(mean_start2, '+-', std_start2)\n",
    "#     print(mean_complete2,'+-', std_complete2)\n",
    "    \n",
    "    _, ax = plt.subplots(figsize=[14,8])\n",
    "    ax.plot([mean_start1, mean_complete1, mean_complete1 + std_complete1, mean_start1-std_start1, mean_start1], [n_task1, n_task1, 0, 0, n_task1], 'm', linewidth=4)\n",
    "    ax.plot([mean_start2, mean_complete2, mean_complete2 + std_complete2, mean_start2-std_start2, mean_start2], [n_task2, n_task2, 0, 0, n_task2], 'y', linewidth=4)\n",
    "    ax.set(xlim=(xlim_lower, xlim_upper), ylim=(0, 1.1*np.max([n_task1,n_task2])))\n",
    "    ax.get_yaxis().set_visible(False)\n",
    "\n",
    "    plt.show()"
   ]
  },
  {
   "cell_type": "markdown",
   "metadata": {},
   "source": [
    "### Załadowanie pliku formatu .xes"
   ]
  },
  {
   "cell_type": "code",
   "execution_count": 3,
   "metadata": {
    "pycharm": {
     "is_executing": true
    }
   },
   "outputs": [
    {
     "name": "stderr",
     "output_type": "stream",
     "text": [
      "C:\\Users\\sroka\\AppData\\Roaming\\Python\\Python39\\site-packages\\pm4py\\util\\dt_parsing\\parser.py:76: UserWarning: ISO8601 strings are not fully supported with strpfromiso for Python versions below 3.11\n",
      "  warnings.warn(\n"
     ]
    },
    {
     "data": {
      "application/vnd.jupyter.widget-view+json": {
       "model_id": "634a5185370441af9901f3cf6fcc0985",
       "version_major": 2,
       "version_minor": 0
      },
      "text/plain": [
       "parsing log, completed traces ::   0%|          | 0/132 [00:00<?, ?it/s]"
      ]
     },
     "metadata": {},
     "output_type": "display_data"
    }
   ],
   "source": [
    "log = xes_importer.apply('logs/exercise6.xes')"
   ]
  },
  {
   "cell_type": "markdown",
   "metadata": {},
   "source": [
    "### Przetworzenie logów do pd.Dataframe"
   ]
  },
  {
   "cell_type": "code",
   "execution_count": 4,
   "metadata": {
    "pycharm": {
     "is_executing": true
    }
   },
   "outputs": [],
   "source": [
    "df = log_converter.apply(log, variant=log_converter.Variants.TO_DATA_FRAME)"
   ]
  },
  {
   "cell_type": "markdown",
   "metadata": {},
   "source": [
    "### Podgląd logow znajdujących się w załadowanym pliku"
   ]
  },
  {
   "cell_type": "code",
   "execution_count": 5,
   "metadata": {
    "pycharm": {
     "is_executing": true
    }
   },
   "outputs": [
    {
     "data": {
      "text/html": [
       "<div>\n",
       "<style scoped>\n",
       "    .dataframe tbody tr th:only-of-type {\n",
       "        vertical-align: middle;\n",
       "    }\n",
       "\n",
       "    .dataframe tbody tr th {\n",
       "        vertical-align: top;\n",
       "    }\n",
       "\n",
       "    .dataframe thead th {\n",
       "        text-align: right;\n",
       "    }\n",
       "</style>\n",
       "<table border=\"1\" class=\"dataframe\">\n",
       "  <thead>\n",
       "    <tr style=\"text-align: right;\">\n",
       "      <th></th>\n",
       "      <th>org:resource</th>\n",
       "      <th>time:timestamp</th>\n",
       "      <th>concept:name</th>\n",
       "      <th>lifecycle:transition</th>\n",
       "      <th>case:concept:name</th>\n",
       "    </tr>\n",
       "  </thead>\n",
       "  <tbody>\n",
       "    <tr>\n",
       "      <th>0</th>\n",
       "      <td>Call Centre Agent</td>\n",
       "      <td>2005-12-31 23:00:00+00:00</td>\n",
       "      <td>check if sufficient information is available</td>\n",
       "      <td>start</td>\n",
       "      <td>0</td>\n",
       "    </tr>\n",
       "    <tr>\n",
       "      <th>1</th>\n",
       "      <td>Call Centre Agent</td>\n",
       "      <td>2006-01-13 23:00:00+00:00</td>\n",
       "      <td>check if sufficient information is available</td>\n",
       "      <td>complete</td>\n",
       "      <td>0</td>\n",
       "    </tr>\n",
       "    <tr>\n",
       "      <th>2</th>\n",
       "      <td>Call Centre Agent</td>\n",
       "      <td>2006-01-13 23:00:00+00:00</td>\n",
       "      <td>register claim</td>\n",
       "      <td>start</td>\n",
       "      <td>0</td>\n",
       "    </tr>\n",
       "    <tr>\n",
       "      <th>3</th>\n",
       "      <td>Call Centre Agent</td>\n",
       "      <td>2008-01-29 23:00:00+00:00</td>\n",
       "      <td>register claim</td>\n",
       "      <td>complete</td>\n",
       "      <td>0</td>\n",
       "    </tr>\n",
       "    <tr>\n",
       "      <th>4</th>\n",
       "      <td>Claims handler</td>\n",
       "      <td>2008-01-29 23:00:00+00:00</td>\n",
       "      <td>determine likelihood of claim</td>\n",
       "      <td>start</td>\n",
       "      <td>0</td>\n",
       "    </tr>\n",
       "  </tbody>\n",
       "</table>\n",
       "</div>"
      ],
      "text/plain": [
       "        org:resource            time:timestamp  \\\n",
       "0  Call Centre Agent 2005-12-31 23:00:00+00:00   \n",
       "1  Call Centre Agent 2006-01-13 23:00:00+00:00   \n",
       "2  Call Centre Agent 2006-01-13 23:00:00+00:00   \n",
       "3  Call Centre Agent 2008-01-29 23:00:00+00:00   \n",
       "4     Claims handler 2008-01-29 23:00:00+00:00   \n",
       "\n",
       "                                   concept:name lifecycle:transition  \\\n",
       "0  check if sufficient information is available                start   \n",
       "1  check if sufficient information is available             complete   \n",
       "2                                register claim                start   \n",
       "3                                register claim             complete   \n",
       "4                 determine likelihood of claim                start   \n",
       "\n",
       "  case:concept:name  \n",
       "0                 0  \n",
       "1                 0  \n",
       "2                 0  \n",
       "3                 0  \n",
       "4                 0  "
      ]
     },
     "execution_count": 5,
     "metadata": {},
     "output_type": "execute_result"
    }
   ],
   "source": [
    "df.head()"
   ]
  },
  {
   "cell_type": "code",
   "execution_count": 6,
   "metadata": {
    "pycharm": {
     "is_executing": true
    }
   },
   "outputs": [
    {
     "name": "stdout",
     "output_type": "stream",
     "text": [
      "lifecycle:transition\n",
      "complete    821\n",
      "start       821\n",
      "Name: lifecycle:transition, dtype: int64\n"
     ]
    }
   ],
   "source": [
    "print(df.groupby(['lifecycle:transition'])['lifecycle:transition'].count())"
   ]
  },
  {
   "cell_type": "markdown",
   "metadata": {},
   "source": [
    "### Zamiana logów na format zawierający star_timestamp oraz complete_timestamp"
   ]
  },
  {
   "cell_type": "code",
   "execution_count": 7,
   "metadata": {
    "pycharm": {
     "is_executing": true
    }
   },
   "outputs": [
    {
     "data": {
      "text/html": [
       "<div>\n",
       "<style scoped>\n",
       "    .dataframe tbody tr th:only-of-type {\n",
       "        vertical-align: middle;\n",
       "    }\n",
       "\n",
       "    .dataframe tbody tr th {\n",
       "        vertical-align: top;\n",
       "    }\n",
       "\n",
       "    .dataframe thead th {\n",
       "        text-align: right;\n",
       "    }\n",
       "</style>\n",
       "<table border=\"1\" class=\"dataframe\">\n",
       "  <thead>\n",
       "    <tr style=\"text-align: right;\">\n",
       "      <th></th>\n",
       "      <th>org:resource</th>\n",
       "      <th>concept:name</th>\n",
       "      <th>case:concept:name</th>\n",
       "      <th>start_timestamp</th>\n",
       "      <th>complete_timestamp</th>\n",
       "    </tr>\n",
       "  </thead>\n",
       "  <tbody>\n",
       "    <tr>\n",
       "      <th>0</th>\n",
       "      <td>Call Centre Agent</td>\n",
       "      <td>check if sufficient information is available</td>\n",
       "      <td>0</td>\n",
       "      <td>2005-12-31 23:00:00+00:00</td>\n",
       "      <td>2006-01-13 23:00:00+00:00</td>\n",
       "    </tr>\n",
       "    <tr>\n",
       "      <th>1</th>\n",
       "      <td>Call Centre Agent</td>\n",
       "      <td>check if sufficient information is available</td>\n",
       "      <td>1</td>\n",
       "      <td>2005-12-31 23:00:00+00:00</td>\n",
       "      <td>2006-03-07 23:00:00+00:00</td>\n",
       "    </tr>\n",
       "    <tr>\n",
       "      <th>2</th>\n",
       "      <td>Call Centre Agent</td>\n",
       "      <td>check if sufficient information is available</td>\n",
       "      <td>10</td>\n",
       "      <td>2006-03-30 23:00:00+00:00</td>\n",
       "      <td>2006-04-09 23:00:00+00:00</td>\n",
       "    </tr>\n",
       "    <tr>\n",
       "      <th>3</th>\n",
       "      <td>Call Centre Agent</td>\n",
       "      <td>check if sufficient information is available</td>\n",
       "      <td>100</td>\n",
       "      <td>2008-07-26 23:00:00+00:00</td>\n",
       "      <td>2008-09-16 23:00:00+00:00</td>\n",
       "    </tr>\n",
       "    <tr>\n",
       "      <th>4</th>\n",
       "      <td>Call Centre Agent</td>\n",
       "      <td>check if sufficient information is available</td>\n",
       "      <td>101</td>\n",
       "      <td>2007-11-13 23:00:00+00:00</td>\n",
       "      <td>2008-01-19 23:00:00+00:00</td>\n",
       "    </tr>\n",
       "  </tbody>\n",
       "</table>\n",
       "</div>"
      ],
      "text/plain": [
       "        org:resource                                  concept:name  \\\n",
       "0  Call Centre Agent  check if sufficient information is available   \n",
       "1  Call Centre Agent  check if sufficient information is available   \n",
       "2  Call Centre Agent  check if sufficient information is available   \n",
       "3  Call Centre Agent  check if sufficient information is available   \n",
       "4  Call Centre Agent  check if sufficient information is available   \n",
       "\n",
       "  case:concept:name           start_timestamp        complete_timestamp  \n",
       "0                 0 2005-12-31 23:00:00+00:00 2006-01-13 23:00:00+00:00  \n",
       "1                 1 2005-12-31 23:00:00+00:00 2006-03-07 23:00:00+00:00  \n",
       "2                10 2006-03-30 23:00:00+00:00 2006-04-09 23:00:00+00:00  \n",
       "3               100 2008-07-26 23:00:00+00:00 2008-09-16 23:00:00+00:00  \n",
       "4               101 2007-11-13 23:00:00+00:00 2008-01-19 23:00:00+00:00  "
      ]
     },
     "execution_count": 7,
     "metadata": {},
     "output_type": "execute_result"
    }
   ],
   "source": [
    "df = convert_logs_to_start_complete_by_status(df, 'lifecycle:transition', 'time:timestamp')\n",
    "df = grouped_start_complete_timestamp_to_one_row(df)\n",
    "df.head()"
   ]
  },
  {
   "cell_type": "code",
   "execution_count": 8,
   "metadata": {
    "pycharm": {
     "is_executing": true
    }
   },
   "outputs": [
    {
     "data": {
      "text/plain": [
       "array(['Call Centre Agent', 'Claims handler'], dtype=object)"
      ]
     },
     "execution_count": 8,
     "metadata": {},
     "output_type": "execute_result"
    }
   ],
   "source": [
    "df['org:resource'].unique()"
   ]
  },
  {
   "cell_type": "markdown",
   "metadata": {},
   "source": [
    "# Analiza położenia zadań:"
   ]
  },
  {
   "cell_type": "markdown",
   "metadata": {},
   "source": [
    "### Analiza 'org:resource' == 'Call Centre Agent'"
   ]
  },
  {
   "cell_type": "code",
   "execution_count": 9,
   "metadata": {
    "pycharm": {
     "is_executing": true
    }
   },
   "outputs": [
    {
     "name": "stdout",
     "output_type": "stream",
     "text": [
      "['check if sufficient information is available' 'end' 'register claim']\n"
     ]
    }
   ],
   "source": [
    "call_centre_agent = df.loc[df['org:resource'] == 'Call Centre Agent']\n",
    "tasks = call_centre_agent['concept:name'].unique()\n",
    "print(tasks)"
   ]
  },
  {
   "cell_type": "code",
   "execution_count": 10,
   "metadata": {
    "pycharm": {
     "is_executing": true
    }
   },
   "outputs": [],
   "source": [
    "check_if_sufficient = call_centre_agent.loc[call_centre_agent['concept:name'] == 'check if sufficient information is available']\n",
    "register_claim = call_centre_agent.loc[call_centre_agent['concept:name'] == 'register claim']\n",
    "end = call_centre_agent.loc[call_centre_agent['concept:name'] == 'end']"
   ]
  },
  {
   "cell_type": "code",
   "execution_count": 11,
   "metadata": {
    "pycharm": {
     "is_executing": true
    }
   },
   "outputs": [
    {
     "data": {
      "image/png": "[encoded data removed]",
      "text/plain": [
       "<Figure size 1008x432 with 1 Axes>"
      ]
     },
     "metadata": {
      "needs_background": "light"
     },
     "output_type": "display_data"
    }
   ],
   "source": [
    "xlim_lower = datetime.strptime('2005-12-01', '%Y-%m-%d')\n",
    "xlim_upper = datetime.strptime('2015-08-01', '%Y-%m-%d')\n",
    "\n",
    "fig, ax = plt.subplots(figsize=[14,6])\n",
    "plot_only_lines(check_if_sufficient, xlim=(xlim_lower, xlim_upper), plot_color='m', ax=ax)\n",
    "plot_only_lines(register_claim, xlim=(xlim_lower, xlim_upper), plot_color='y', ax=ax)"
   ]
  },
  {
   "cell_type": "code",
   "execution_count": 12,
   "metadata": {},
   "outputs": [
    {
     "data": {
      "image/png": "[encoded data removed]",
      "text/plain": [
       "<Figure size 1008x432 with 1 Axes>"
      ]
     },
     "metadata": {
      "needs_background": "light"
     },
     "output_type": "display_data"
    },
    {
     "data": {
      "image/png": "[encoded data removed]",
      "text/plain": [
       "<Figure size 1008x432 with 1 Axes>"
      ]
     },
     "metadata": {
      "needs_background": "light"
     },
     "output_type": "display_data"
    },
    {
     "data": {
      "image/png": "[encoded data removed]",
      "text/plain": [
       "<Figure size 1008x576 with 1 Axes>"
      ]
     },
     "metadata": {
      "needs_background": "light"
     },
     "output_type": "display_data"
    }
   ],
   "source": [
    "# wybór parametrów\n",
    "xlim_lower = datetime.strptime('2005-12-01', '%Y-%m-%d')\n",
    "xlim_upper = datetime.strptime('2015-08-01', '%Y-%m-%d')\n",
    "\n",
    "instance = 'Call Centre Agent'\n",
    "task_col = 'concept:name'\n",
    "task1 = 'check if sufficient information is available'\n",
    "task2 = 'register claim'\n",
    "\n",
    "selected_df = selected_columns_to_compare(df, instance_col='org:resource', task_col='concept:name', instance=instance, task1=task1, task2=task2)\n",
    "plot1(selected_df, task_col=task_col, task1=task1, task2=task2, xlim=(xlim_lower, xlim_upper))\n",
    "\n",
    "df1 = moved_to_side(selected_df, task_col=task_col, trace_col='case:concept:name',task1=task1, task2=task2, side='left') \n",
    "plot1(df1, task_col=task_col, task1=task1, task2=task2, xlim=(xlim_lower, xlim_upper))\n",
    "\n",
    "calculate_timestamp_metrics(df1, task_col)"
   ]
  },
  {
   "cell_type": "markdown",
   "metadata": {},
   "source": [
    "### Analiza 'org:resource' == 'Claims handler'"
   ]
  },
  {
   "cell_type": "code",
   "execution_count": 13,
   "metadata": {
    "pycharm": {
     "is_executing": true
    }
   },
   "outputs": [
    {
     "name": "stdout",
     "output_type": "stream",
     "text": [
      "['check if sufficient information is available' 'end' 'register claim'\n",
      " 'advise claimant on reimbursement' 'assess claim' 'close claim'\n",
      " 'determine likelihood of claim' 'initiate payment']\n"
     ]
    }
   ],
   "source": [
    "claims_handler = df.loc[df['org:resource'] == 'Claims handler']\n",
    "print(df['concept:name'].unique())"
   ]
  },
  {
   "cell_type": "code",
   "execution_count": 14,
   "metadata": {
    "pycharm": {
     "is_executing": true
    }
   },
   "outputs": [],
   "source": [
    "assess_claim = claims_handler.loc[claims_handler['concept:name'] == 'assess claim']\n",
    "close_claim = claims_handler.loc[claims_handler['concept:name'] == 'close claim']\n",
    "determine_likelihood_of_claim = claims_handler.loc[claims_handler['concept:name'] == 'determine likelihood of claim']\n",
    "advise_claimant_on_reimbursement = claims_handler.loc[claims_handler['concept:name'] == 'advise claimant on reimbursement']\n",
    "end = claims_handler.loc[claims_handler['concept:name'] == 'end']"
   ]
  },
  {
   "cell_type": "code",
   "execution_count": 15,
   "metadata": {
    "pycharm": {
     "is_executing": true
    }
   },
   "outputs": [
    {
     "data": {
      "image/png": "[encoded data removed]",
      "text/plain": [
       "<Figure size 1008x432 with 1 Axes>"
      ]
     },
     "metadata": {
      "needs_background": "light"
     },
     "output_type": "display_data"
    }
   ],
   "source": [
    "xlim_lower = datetime.strptime('2006-06-01', '%Y-%m-%d')\n",
    "xlim_upper = datetime.strptime('2019-01-01', '%Y-%m-%d')\n",
    "\n",
    "fig, ax = plt.subplots(figsize=[14,6])\n",
    "plot_only_lines(assess_claim, xlim=(xlim_lower, xlim_upper), plot_color='red', ax=ax)\n",
    "plot_only_lines(close_claim, xlim=(xlim_lower, xlim_upper), plot_color='blue', ax=ax)\n",
    "plot_only_lines(determine_likelihood_of_claim, xlim=(xlim_lower, xlim_upper), plot_color='black', ax=ax)\n",
    "plot_only_lines(advise_claimant_on_reimbursement, xlim=(xlim_lower, xlim_upper), plot_color='yellow', ax=ax)"
   ]
  },
  {
   "cell_type": "code",
   "execution_count": 21,
   "metadata": {},
   "outputs": [
    {
     "data": {
      "image/png": "[encoded data removed]",
      "text/plain": [
       "<Figure size 1008x432 with 1 Axes>"
      ]
     },
     "metadata": {
      "needs_background": "light"
     },
     "output_type": "display_data"
    },
    {
     "data": {
      "image/png": "[encoded data removed]",
      "text/plain": [
       "<Figure size 1008x432 with 1 Axes>"
      ]
     },
     "metadata": {
      "needs_background": "light"
     },
     "output_type": "display_data"
    },
    {
     "data": {
      "image/png": "[encoded data removed]",
      "text/plain": [
       "<Figure size 1008x576 with 1 Axes>"
      ]
     },
     "metadata": {
      "needs_background": "light"
     },
     "output_type": "display_data"
    }
   ],
   "source": [
    "xlim_lower = datetime.strptime('2005-06-01', '%Y-%m-%d')\n",
    "xlim_upper = datetime.strptime('2019-01-01', '%Y-%m-%d')\n",
    "\n",
    "instance = 'Claims handler'\n",
    "task_col = 'concept:name'\n",
    "task1 = 'close claim'\n",
    "task2 = 'advise claimant on reimbursement'\n",
    "\n",
    "selected_df = selected_columns_to_compare(df, instance_col='org:resource', task_col='concept:name', instance=instance, task1=task1, task2=task2)\n",
    "plot1(selected_df, task_col=task_col, task1=task1, task2=task2, xlim=(xlim_lower, xlim_upper))\n",
    "\n",
    "df1 = moved_to_side(selected_df, task_col=task_col, trace_col='case:concept:name',task1=task1, task2=task2, side='right') \n",
    "plot1(df1, task_col=task_col, task1=task1, task2=task2, xlim=(xlim_lower, xlim_upper))\n",
    "\n",
    "calculate_timestamp_metrics(df1, task_col)"
   ]
  },
  {
   "cell_type": "code",
   "execution_count": 17,
   "metadata": {
    "pycharm": {
     "is_executing": true
    }
   },
   "outputs": [
    {
     "data": {
      "image/png": "[encoded data removed]",
      "text/plain": [
       "<Figure size 1008x432 with 1 Axes>"
      ]
     },
     "metadata": {
      "needs_background": "light"
     },
     "output_type": "display_data"
    },
    {
     "data": {
      "image/png": "[encoded data removed]",
      "text/plain": [
       "<Figure size 1008x432 with 1 Axes>"
      ]
     },
     "metadata": {
      "needs_background": "light"
     },
     "output_type": "display_data"
    },
    {
     "data": {
      "image/png": "[encoded data removed]",
      "text/plain": [
       "<Figure size 1008x576 with 1 Axes>"
      ]
     },
     "metadata": {
      "needs_background": "light"
     },
     "output_type": "display_data"
    }
   ],
   "source": [
    "xlim_lower = datetime.strptime('2005-06-01', '%Y-%m-%d')\n",
    "xlim_upper = datetime.strptime('2019-01-01', '%Y-%m-%d')\n",
    "\n",
    "instance = 'Claims handler'\n",
    "task_col = 'concept:name'\n",
    "\n",
    "task1 = 'determine likelihood of claim'\n",
    "task2 = 'close claim'\n",
    "\n",
    "selected_df = selected_columns_to_compare(df, instance_col='org:resource', task_col='concept:name', instance=instance, task1=task1, task2=task2)\n",
    "plot1(selected_df, task_col=task_col, task1=task1, task2=task2, xlim=(xlim_lower, xlim_upper))\n",
    "\n",
    "df1 = moved_to_side(selected_df, task_col=task_col, trace_col='case:concept:name',task1=task1, task2=task2, side='left') \n",
    "plot1(df1, task_col=task_col, task1=task1, task2=task2, xlim=(xlim_lower, xlim_upper))\n",
    "\n",
    "calculate_timestamp_metrics(df1, task_col)"
   ]
  },
  {
   "cell_type": "code",
   "execution_count": 23,
   "metadata": {},
   "outputs": [
    {
     "data": {
      "image/png": "[encoded data removed]",
      "text/plain": [
       "<Figure size 1008x432 with 1 Axes>"
      ]
     },
     "metadata": {
      "needs_background": "light"
     },
     "output_type": "display_data"
    },
    {
     "data": {
      "image/png": "[encoded data removed]",
      "text/plain": [
       "<Figure size 1008x432 with 1 Axes>"
      ]
     },
     "metadata": {
      "needs_background": "light"
     },
     "output_type": "display_data"
    },
    {
     "data": {
      "image/png": "[encoded data removed]",
      "text/plain": [
       "<Figure size 1008x576 with 1 Axes>"
      ]
     },
     "metadata": {
      "needs_background": "light"
     },
     "output_type": "display_data"
    }
   ],
   "source": [
    "xlim_lower = datetime.strptime('2000-06-01', '%Y-%m-%d')\n",
    "xlim_upper = datetime.strptime('2019-01-01', '%Y-%m-%d')\n",
    "\n",
    "instance = 'Claims handler'\n",
    "task_col = 'concept:name'\n",
    "\n",
    "task1 = 'assess claim'\n",
    "task2 = 'close claim'\n",
    "\n",
    "selected_df = selected_columns_to_compare(df, instance_col='org:resource', task_col='concept:name', instance=instance, task1=task1, task2=task2)\n",
    "plot1(selected_df, task_col=task_col, task1=task1, task2=task2, xlim=(xlim_lower, xlim_upper))\n",
    "\n",
    "df1 = moved_to_side(selected_df, task_col=task_col, trace_col='case:concept:name',task1=task1, task2=task2, side='left') \n",
    "plot1(df1, task_col=task_col, task1=task1, task2=task2, xlim=(xlim_lower, xlim_upper))\n",
    "\n",
    "calculate_timestamp_metrics(df1, task_col)"
   ]
  }
 ],
 "metadata": {
  "kernelspec": {
   "display_name": "Python 3",
   "language": "python",
   "name": "python3"
  },
  "language_info": {
   "codemirror_mode": {
    "name": "ipython",
    "version": 3
   },
   "file_extension": ".py",
   "mimetype": "text/x-python",
   "name": "python",
   "nbconvert_exporter": "python",
   "pygments_lexer": "ipython3",
   "version": "3.9.2"
  }
 },
 "nbformat": 4,
 "nbformat_minor": 1
}
