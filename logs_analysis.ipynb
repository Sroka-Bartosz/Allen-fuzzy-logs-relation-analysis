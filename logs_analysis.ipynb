{
 "cells": [
  {
   "cell_type": "markdown",
   "metadata": {},
   "source": [
    "## Analiza realcji między zdarzeniami - wykreślanie trapezów bazujących na średniej i odchyleniu standardowym zdarzeń"
   ]
  },
  {
   "cell_type": "markdown",
   "metadata": {},
   "source": [
    "### import bibliotek"
   ]
  },
  {
   "cell_type": "code",
   "execution_count": 1,
   "metadata": {
    "pycharm": {
     "is_executing": true
    }
   },
   "outputs": [],
   "source": [
    "import pandas as pd\n",
    "import numpy as np\n",
    "import pm4py\n",
    "import matplotlib.pyplot as plt\n",
    "import seaborn as sns\n",
    "import datetime as dt\n",
    "from datetime import datetime\n",
    "from matplotlib.patches import Rectangle\n",
    "from copy import deepcopy\n",
    "\n",
    "from pm4py import discover_bpmn_inductive\n",
    "from pm4py.objects.conversion.log import converter as log_converter\n",
    "from pm4py.objects.log.importer.xes import importer as xes_importer"
   ]
  },
  {
   "cell_type": "markdown",
   "metadata": {},
   "source": [
    "### Załadowanie pliku formatu .xes"
   ]
  },
  {
   "cell_type": "code",
   "execution_count": 2,
   "metadata": {
    "pycharm": {
     "is_executing": true
    }
   },
   "outputs": [
    {
     "name": "stderr",
     "output_type": "stream",
     "text": [
      "C:\\Users\\sroka\\AppData\\Roaming\\Python\\Python39\\site-packages\\pm4py\\util\\dt_parsing\\parser.py:76: UserWarning: ISO8601 strings are not fully supported with strpfromiso for Python versions below 3.11\n",
      "  warnings.warn(\n"
     ]
    },
    {
     "data": {
      "application/vnd.jupyter.widget-view+json": {
       "model_id": "327deec49fa549878061b09b03436c86",
       "version_major": 2,
       "version_minor": 0
      },
      "text/plain": [
       "parsing log, completed traces ::   0%|          | 0/132 [00:00<?, ?it/s]"
      ]
     },
     "metadata": {},
     "output_type": "display_data"
    }
   ],
   "source": [
    "log = xes_importer.apply('logs/exercise6.xes')"
   ]
  },
  {
   "cell_type": "markdown",
   "metadata": {},
   "source": [
    "### Przetworzenie logów do pd.Dataframe"
   ]
  },
  {
   "cell_type": "code",
   "execution_count": 3,
   "metadata": {
    "pycharm": {
     "is_executing": true
    }
   },
   "outputs": [],
   "source": [
    "df = log_converter.apply(log, variant=log_converter.Variants.TO_DATA_FRAME)"
   ]
  },
  {
   "cell_type": "markdown",
   "metadata": {},
   "source": [
    "### Podgląd logow znajdujących się w załadowanym pliku"
   ]
  },
  {
   "cell_type": "code",
   "execution_count": 4,
   "metadata": {
    "pycharm": {
     "is_executing": true
    }
   },
   "outputs": [
    {
     "data": {
      "text/html": [
       "<div>\n",
       "<style scoped>\n",
       "    .dataframe tbody tr th:only-of-type {\n",
       "        vertical-align: middle;\n",
       "    }\n",
       "\n",
       "    .dataframe tbody tr th {\n",
       "        vertical-align: top;\n",
       "    }\n",
       "\n",
       "    .dataframe thead th {\n",
       "        text-align: right;\n",
       "    }\n",
       "</style>\n",
       "<table border=\"1\" class=\"dataframe\">\n",
       "  <thead>\n",
       "    <tr style=\"text-align: right;\">\n",
       "      <th></th>\n",
       "      <th>org:resource</th>\n",
       "      <th>time:timestamp</th>\n",
       "      <th>concept:name</th>\n",
       "      <th>lifecycle:transition</th>\n",
       "      <th>case:concept:name</th>\n",
       "    </tr>\n",
       "  </thead>\n",
       "  <tbody>\n",
       "    <tr>\n",
       "      <th>0</th>\n",
       "      <td>Call Centre Agent</td>\n",
       "      <td>2005-12-31 23:00:00+00:00</td>\n",
       "      <td>check if sufficient information is available</td>\n",
       "      <td>start</td>\n",
       "      <td>0</td>\n",
       "    </tr>\n",
       "    <tr>\n",
       "      <th>1</th>\n",
       "      <td>Call Centre Agent</td>\n",
       "      <td>2006-01-13 23:00:00+00:00</td>\n",
       "      <td>check if sufficient information is available</td>\n",
       "      <td>complete</td>\n",
       "      <td>0</td>\n",
       "    </tr>\n",
       "    <tr>\n",
       "      <th>2</th>\n",
       "      <td>Call Centre Agent</td>\n",
       "      <td>2006-01-13 23:00:00+00:00</td>\n",
       "      <td>register claim</td>\n",
       "      <td>start</td>\n",
       "      <td>0</td>\n",
       "    </tr>\n",
       "    <tr>\n",
       "      <th>3</th>\n",
       "      <td>Call Centre Agent</td>\n",
       "      <td>2008-01-29 23:00:00+00:00</td>\n",
       "      <td>register claim</td>\n",
       "      <td>complete</td>\n",
       "      <td>0</td>\n",
       "    </tr>\n",
       "    <tr>\n",
       "      <th>4</th>\n",
       "      <td>Claims handler</td>\n",
       "      <td>2008-01-29 23:00:00+00:00</td>\n",
       "      <td>determine likelihood of claim</td>\n",
       "      <td>start</td>\n",
       "      <td>0</td>\n",
       "    </tr>\n",
       "  </tbody>\n",
       "</table>\n",
       "</div>"
      ],
      "text/plain": [
       "        org:resource            time:timestamp  \\\n",
       "0  Call Centre Agent 2005-12-31 23:00:00+00:00   \n",
       "1  Call Centre Agent 2006-01-13 23:00:00+00:00   \n",
       "2  Call Centre Agent 2006-01-13 23:00:00+00:00   \n",
       "3  Call Centre Agent 2008-01-29 23:00:00+00:00   \n",
       "4     Claims handler 2008-01-29 23:00:00+00:00   \n",
       "\n",
       "                                   concept:name lifecycle:transition  \\\n",
       "0  check if sufficient information is available                start   \n",
       "1  check if sufficient information is available             complete   \n",
       "2                                register claim                start   \n",
       "3                                register claim             complete   \n",
       "4                 determine likelihood of claim                start   \n",
       "\n",
       "  case:concept:name  \n",
       "0                 0  \n",
       "1                 0  \n",
       "2                 0  \n",
       "3                 0  \n",
       "4                 0  "
      ]
     },
     "execution_count": 4,
     "metadata": {},
     "output_type": "execute_result"
    }
   ],
   "source": [
    "df.head()"
   ]
  },
  {
   "cell_type": "code",
   "execution_count": 5,
   "metadata": {
    "pycharm": {
     "is_executing": true
    }
   },
   "outputs": [
    {
     "name": "stdout",
     "output_type": "stream",
     "text": [
      "lifecycle:transition\n",
      "complete    821\n",
      "start       821\n",
      "Name: lifecycle:transition, dtype: int64\n"
     ]
    }
   ],
   "source": [
    "print(df.groupby(['lifecycle:transition'])['lifecycle:transition'].count())"
   ]
  },
  {
   "cell_type": "markdown",
   "metadata": {},
   "source": [
    "### Zamiana logów na format zawierający star_timestamp oraz complete_timestamp"
   ]
  },
  {
   "cell_type": "code",
   "execution_count": 6,
   "metadata": {
    "pycharm": {
     "is_executing": true
    }
   },
   "outputs": [],
   "source": [
    "df['start_timestamp'] = df.loc[df['lifecycle:transition'] == 'start', 'time:timestamp']\n",
    "df['complete_timestamp'] = df.loc[df['lifecycle:transition'] == 'complete', 'time:timestamp']\n",
    "df.drop(['lifecycle:transition', 'time:timestamp'], axis=1, inplace=True)"
   ]
  },
  {
   "cell_type": "code",
   "execution_count": 7,
   "metadata": {
    "pycharm": {
     "is_executing": true
    }
   },
   "outputs": [
    {
     "data": {
      "text/html": [
       "<div>\n",
       "<style scoped>\n",
       "    .dataframe tbody tr th:only-of-type {\n",
       "        vertical-align: middle;\n",
       "    }\n",
       "\n",
       "    .dataframe tbody tr th {\n",
       "        vertical-align: top;\n",
       "    }\n",
       "\n",
       "    .dataframe thead th {\n",
       "        text-align: right;\n",
       "    }\n",
       "</style>\n",
       "<table border=\"1\" class=\"dataframe\">\n",
       "  <thead>\n",
       "    <tr style=\"text-align: right;\">\n",
       "      <th></th>\n",
       "      <th>org:resource</th>\n",
       "      <th>concept:name</th>\n",
       "      <th>case:concept:name</th>\n",
       "      <th>start_timestamp</th>\n",
       "      <th>complete_timestamp</th>\n",
       "    </tr>\n",
       "  </thead>\n",
       "  <tbody>\n",
       "    <tr>\n",
       "      <th>0</th>\n",
       "      <td>Call Centre Agent</td>\n",
       "      <td>check if sufficient information is available</td>\n",
       "      <td>0</td>\n",
       "      <td>2005-12-31 23:00:00+00:00</td>\n",
       "      <td>NaT</td>\n",
       "    </tr>\n",
       "    <tr>\n",
       "      <th>1</th>\n",
       "      <td>Call Centre Agent</td>\n",
       "      <td>check if sufficient information is available</td>\n",
       "      <td>0</td>\n",
       "      <td>NaT</td>\n",
       "      <td>2006-01-13 23:00:00+00:00</td>\n",
       "    </tr>\n",
       "    <tr>\n",
       "      <th>2</th>\n",
       "      <td>Call Centre Agent</td>\n",
       "      <td>register claim</td>\n",
       "      <td>0</td>\n",
       "      <td>2006-01-13 23:00:00+00:00</td>\n",
       "      <td>NaT</td>\n",
       "    </tr>\n",
       "    <tr>\n",
       "      <th>3</th>\n",
       "      <td>Call Centre Agent</td>\n",
       "      <td>register claim</td>\n",
       "      <td>0</td>\n",
       "      <td>NaT</td>\n",
       "      <td>2008-01-29 23:00:00+00:00</td>\n",
       "    </tr>\n",
       "    <tr>\n",
       "      <th>4</th>\n",
       "      <td>Claims handler</td>\n",
       "      <td>determine likelihood of claim</td>\n",
       "      <td>0</td>\n",
       "      <td>2008-01-29 23:00:00+00:00</td>\n",
       "      <td>NaT</td>\n",
       "    </tr>\n",
       "  </tbody>\n",
       "</table>\n",
       "</div>"
      ],
      "text/plain": [
       "        org:resource                                  concept:name  \\\n",
       "0  Call Centre Agent  check if sufficient information is available   \n",
       "1  Call Centre Agent  check if sufficient information is available   \n",
       "2  Call Centre Agent                                register claim   \n",
       "3  Call Centre Agent                                register claim   \n",
       "4     Claims handler                 determine likelihood of claim   \n",
       "\n",
       "  case:concept:name           start_timestamp        complete_timestamp  \n",
       "0                 0 2005-12-31 23:00:00+00:00                       NaT  \n",
       "1                 0                       NaT 2006-01-13 23:00:00+00:00  \n",
       "2                 0 2006-01-13 23:00:00+00:00                       NaT  \n",
       "3                 0                       NaT 2008-01-29 23:00:00+00:00  \n",
       "4                 0 2008-01-29 23:00:00+00:00                       NaT  "
      ]
     },
     "execution_count": 7,
     "metadata": {},
     "output_type": "execute_result"
    }
   ],
   "source": [
    "df.head()"
   ]
  },
  {
   "cell_type": "code",
   "execution_count": 8,
   "metadata": {
    "pycharm": {
     "is_executing": true
    }
   },
   "outputs": [],
   "source": [
    "# Grupowanie po pierwszych trzech kolumnach\n",
    "grouped = df.groupby(['org:resource', 'concept:name', 'case:concept:name'], as_index=False)\n",
    "\n",
    "# Agregowanie wartości start_timestamp i complete_timestamp za pomocą funkcji first i last\n",
    "df = grouped.agg({'start_timestamp': 'first', 'complete_timestamp': 'last'})"
   ]
  },
  {
   "cell_type": "code",
   "execution_count": 9,
   "metadata": {
    "pycharm": {
     "is_executing": true
    }
   },
   "outputs": [
    {
     "data": {
      "text/html": [
       "<div>\n",
       "<style scoped>\n",
       "    .dataframe tbody tr th:only-of-type {\n",
       "        vertical-align: middle;\n",
       "    }\n",
       "\n",
       "    .dataframe tbody tr th {\n",
       "        vertical-align: top;\n",
       "    }\n",
       "\n",
       "    .dataframe thead th {\n",
       "        text-align: right;\n",
       "    }\n",
       "</style>\n",
       "<table border=\"1\" class=\"dataframe\">\n",
       "  <thead>\n",
       "    <tr style=\"text-align: right;\">\n",
       "      <th></th>\n",
       "      <th>org:resource</th>\n",
       "      <th>concept:name</th>\n",
       "      <th>case:concept:name</th>\n",
       "      <th>start_timestamp</th>\n",
       "      <th>complete_timestamp</th>\n",
       "    </tr>\n",
       "  </thead>\n",
       "  <tbody>\n",
       "    <tr>\n",
       "      <th>0</th>\n",
       "      <td>Call Centre Agent</td>\n",
       "      <td>check if sufficient information is available</td>\n",
       "      <td>0</td>\n",
       "      <td>2005-12-31 23:00:00+00:00</td>\n",
       "      <td>2006-01-13 23:00:00+00:00</td>\n",
       "    </tr>\n",
       "    <tr>\n",
       "      <th>1</th>\n",
       "      <td>Call Centre Agent</td>\n",
       "      <td>check if sufficient information is available</td>\n",
       "      <td>1</td>\n",
       "      <td>2005-12-31 23:00:00+00:00</td>\n",
       "      <td>2006-03-07 23:00:00+00:00</td>\n",
       "    </tr>\n",
       "    <tr>\n",
       "      <th>2</th>\n",
       "      <td>Call Centre Agent</td>\n",
       "      <td>check if sufficient information is available</td>\n",
       "      <td>10</td>\n",
       "      <td>2006-03-30 23:00:00+00:00</td>\n",
       "      <td>2006-04-09 23:00:00+00:00</td>\n",
       "    </tr>\n",
       "    <tr>\n",
       "      <th>3</th>\n",
       "      <td>Call Centre Agent</td>\n",
       "      <td>check if sufficient information is available</td>\n",
       "      <td>100</td>\n",
       "      <td>2008-07-26 23:00:00+00:00</td>\n",
       "      <td>2008-09-16 23:00:00+00:00</td>\n",
       "    </tr>\n",
       "    <tr>\n",
       "      <th>4</th>\n",
       "      <td>Call Centre Agent</td>\n",
       "      <td>check if sufficient information is available</td>\n",
       "      <td>101</td>\n",
       "      <td>2007-11-13 23:00:00+00:00</td>\n",
       "      <td>2008-01-19 23:00:00+00:00</td>\n",
       "    </tr>\n",
       "  </tbody>\n",
       "</table>\n",
       "</div>"
      ],
      "text/plain": [
       "        org:resource                                  concept:name  \\\n",
       "0  Call Centre Agent  check if sufficient information is available   \n",
       "1  Call Centre Agent  check if sufficient information is available   \n",
       "2  Call Centre Agent  check if sufficient information is available   \n",
       "3  Call Centre Agent  check if sufficient information is available   \n",
       "4  Call Centre Agent  check if sufficient information is available   \n",
       "\n",
       "  case:concept:name           start_timestamp        complete_timestamp  \n",
       "0                 0 2005-12-31 23:00:00+00:00 2006-01-13 23:00:00+00:00  \n",
       "1                 1 2005-12-31 23:00:00+00:00 2006-03-07 23:00:00+00:00  \n",
       "2                10 2006-03-30 23:00:00+00:00 2006-04-09 23:00:00+00:00  \n",
       "3               100 2008-07-26 23:00:00+00:00 2008-09-16 23:00:00+00:00  \n",
       "4               101 2007-11-13 23:00:00+00:00 2008-01-19 23:00:00+00:00  "
      ]
     },
     "execution_count": 9,
     "metadata": {},
     "output_type": "execute_result"
    }
   ],
   "source": [
    "df.head()"
   ]
  },
  {
   "cell_type": "code",
   "execution_count": 10,
   "metadata": {
    "pycharm": {
     "is_executing": true
    }
   },
   "outputs": [
    {
     "data": {
      "text/plain": [
       "array(['Call Centre Agent', 'Claims handler'], dtype=object)"
      ]
     },
     "execution_count": 10,
     "metadata": {},
     "output_type": "execute_result"
    }
   ],
   "source": [
    "df['org:resource'].unique()"
   ]
  },
  {
   "cell_type": "markdown",
   "metadata": {},
   "source": [
    "### funkcje"
   ]
  },
  {
   "cell_type": "code",
   "execution_count": 11,
   "metadata": {
    "pycharm": {
     "is_executing": true
    }
   },
   "outputs": [],
   "source": [
    "def plot_log_times(df):\n",
    "    fig, ax = plt.subplots(figsize=(14,6))\n",
    "    ax.plot(df[['start_timestamp', 'complete_timestamp']], df['case:concept:name'], alpha=0.5, label=['Start_date', 'End_date'])\n",
    "\n",
    "    plt.legend()\n",
    "    plt.show()\n",
    "\n",
    "def plot_only_lines(df: pd.DataFrame, xlim, plot_color: str = 'r'):\n",
    "    for i in range(df.shape[0] - 1):\n",
    "        ax.plot([np.array(df['start_timestamp'])[i], np.array(df['complete_timestamp'])[i]], [np.array(df['case:concept:name'])[i],np.array(df['case:concept:name'])[i]], color=plot_color, alpha=0.5)\n",
    "    ax.get_yaxis().set_visible(False)\n",
    "    ax.set(xlim=xlim)"
   ]
  },
  {
   "cell_type": "markdown",
   "metadata": {},
   "source": [
    "# Analiza położenia zadań:"
   ]
  },
  {
   "cell_type": "markdown",
   "metadata": {},
   "source": [
    "### Analiza 'org:resource' == 'Call Centre Agent'"
   ]
  },
  {
   "cell_type": "code",
   "execution_count": 12,
   "metadata": {
    "pycharm": {
     "is_executing": true
    }
   },
   "outputs": [
    {
     "name": "stdout",
     "output_type": "stream",
     "text": [
      "['check if sufficient information is available' 'end' 'register claim']\n"
     ]
    }
   ],
   "source": [
    "call_centre_agent = df.loc[df['org:resource'] == 'Call Centre Agent']\n",
    "print(call_centre_agent['concept:name'].unique())"
   ]
  },
  {
   "cell_type": "code",
   "execution_count": 13,
   "metadata": {
    "pycharm": {
     "is_executing": true
    }
   },
   "outputs": [],
   "source": [
    "check_if_sufficient = call_centre_agent.loc[call_centre_agent['concept:name'] == 'check if sufficient information is available']\n",
    "register_claim = call_centre_agent.loc[call_centre_agent['concept:name'] == 'register claim']\n",
    "end = call_centre_agent.loc[call_centre_agent['concept:name'] == 'end']"
   ]
  },
  {
   "cell_type": "code",
   "execution_count": 14,
   "metadata": {
    "pycharm": {
     "is_executing": true
    }
   },
   "outputs": [
    {
     "data": {
      "image/png": "[encoded data removed]",
      "text/plain": [
       "<Figure size 1008x432 with 1 Axes>"
      ]
     },
     "metadata": {
      "needs_background": "light"
     },
     "output_type": "display_data"
    }
   ],
   "source": [
    "xlim_lower = datetime.strptime('2005-01-01', '%Y-%m-%d')\n",
    "xlim_upper = datetime.strptime('2015-01-01', '%Y-%m-%d')\n",
    "\n",
    "fig, ax = plt.subplots(figsize=[14,6])\n",
    "plot_only_lines(check_if_sufficient, xlim=(xlim_lower, xlim_upper), plot_color='m')\n",
    "plot_only_lines(register_claim, xlim=(xlim_lower, xlim_upper), plot_color='y')"
   ]
  },
  {
   "cell_type": "markdown",
   "metadata": {},
   "source": [
    "### Analiza 'org:resource' == 'Claims handler'"
   ]
  },
  {
   "cell_type": "code",
   "execution_count": 15,
   "metadata": {
    "pycharm": {
     "is_executing": true
    }
   },
   "outputs": [
    {
     "name": "stdout",
     "output_type": "stream",
     "text": [
      "['advise claimant on reimbursement' 'assess claim' 'close claim'\n",
      " 'determine likelihood of claim' 'end' 'initiate payment']\n"
     ]
    }
   ],
   "source": [
    "claims_handler = df.loc[df['org:resource'] == 'Claims handler']\n",
    "print(claims_handler['concept:name'].unique())"
   ]
  },
  {
   "cell_type": "code",
   "execution_count": 16,
   "metadata": {
    "pycharm": {
     "is_executing": true
    }
   },
   "outputs": [],
   "source": [
    "assess_claim = claims_handler.loc[claims_handler['concept:name'] == 'assess claim']\n",
    "close_claim = claims_handler.loc[claims_handler['concept:name'] == 'close claim']\n",
    "determine_likelihood_of_claim = claims_handler.loc[claims_handler['concept:name'] == 'determine likelihood of claim']\n",
    "advise_claimant_on_reimbursement = claims_handler.loc[claims_handler['concept:name'] == 'advise claimant on reimbursement']\n",
    "end = claims_handler.loc[claims_handler['concept:name'] == 'end']"
   ]
  },
  {
   "cell_type": "code",
   "execution_count": 17,
   "metadata": {
    "pycharm": {
     "is_executing": true
    }
   },
   "outputs": [
    {
     "data": {
      "image/png": "[encoded data removed]",
      "text/plain": [
       "<Figure size 1008x432 with 1 Axes>"
      ]
     },
     "metadata": {
      "needs_background": "light"
     },
     "output_type": "display_data"
    }
   ],
   "source": [
    "xlim_lower = datetime.strptime('2006-01-01', '%Y-%m-%d')\n",
    "xlim_upper = datetime.strptime('2019-01-01', '%Y-%m-%d')\n",
    "\n",
    "fig, ax = plt.subplots(figsize=[14,6])\n",
    "plot_only_lines(assess_claim, xlim=(xlim_lower, xlim_upper), plot_color='red')\n",
    "plot_only_lines(close_claim, xlim=(xlim_lower, xlim_upper), plot_color='blue')\n",
    "plot_only_lines(determine_likelihood_of_claim, xlim=(xlim_lower, xlim_upper), plot_color='black')\n",
    "plot_only_lines(advise_claimant_on_reimbursement, xlim=(xlim_lower, xlim_upper), plot_color='yellow')"
   ]
  },
  {
   "cell_type": "markdown",
   "metadata": {
    "pycharm": {
     "is_executing": true
    }
   },
   "source": [
    "# Wyrówanie czasu między parą zadań"
   ]
  },
  {
   "cell_type": "code",
   "execution_count": 78,
   "metadata": {
    "pycharm": {
     "is_executing": true
    }
   },
   "outputs": [
    {
     "data": {
      "image/png": "[encoded data removed]",
      "text/plain": [
       "<Figure size 1008x432 with 1 Axes>"
      ]
     },
     "metadata": {
      "needs_background": "light"
     },
     "output_type": "display_data"
    }
   ],
   "source": [
    "xlim_lower = datetime.strptime('2005-12-01', '%Y-%m-%d')\n",
    "xlim_upper = datetime.strptime('2015-08-01', '%Y-%m-%d')\n",
    "\n",
    "fig, ax = plt.subplots(figsize=[14,6])\n",
    "plot_only_lines(check_if_sufficient, xlim=(xlim_lower, xlim_upper), plot_color='m')\n",
    "plot_only_lines(register_claim, xlim=(xlim_lower, xlim_upper), plot_color='y')"
   ]
  },
  {
   "cell_type": "code",
   "execution_count": 80,
   "metadata": {
    "pycharm": {
     "is_executing": true
    }
   },
   "outputs": [],
   "source": [
    "normalized_call_centre_agent = call_centre_agent.loc[(call_centre_agent['concept:name'] == 'check if sufficient information is available') | (call_centre_agent['concept:name'] == 'register claim')]"
   ]
  },
  {
   "cell_type": "code",
   "execution_count": 81,
   "metadata": {
    "pycharm": {
     "is_executing": true
    }
   },
   "outputs": [],
   "source": [
    "left_side = np.min(normalized_call_centre_agent.start_timestamp)\n",
    "right_side = np.min(normalized_call_centre_agent.complete_timestamp)"
   ]
  },
  {
   "cell_type": "code",
   "execution_count": 82,
   "metadata": {
    "pycharm": {
     "is_executing": true
    }
   },
   "outputs": [
    {
     "data": {
      "text/html": [
       "<div>\n",
       "<style scoped>\n",
       "    .dataframe tbody tr th:only-of-type {\n",
       "        vertical-align: middle;\n",
       "    }\n",
       "\n",
       "    .dataframe tbody tr th {\n",
       "        vertical-align: top;\n",
       "    }\n",
       "\n",
       "    .dataframe thead th {\n",
       "        text-align: right;\n",
       "    }\n",
       "</style>\n",
       "<table border=\"1\" class=\"dataframe\">\n",
       "  <thead>\n",
       "    <tr style=\"text-align: right;\">\n",
       "      <th></th>\n",
       "      <th>org:resource</th>\n",
       "      <th>concept:name</th>\n",
       "      <th>case:concept:name</th>\n",
       "      <th>start_timestamp</th>\n",
       "      <th>complete_timestamp</th>\n",
       "    </tr>\n",
       "  </thead>\n",
       "  <tbody>\n",
       "    <tr>\n",
       "      <th>0</th>\n",
       "      <td>Call Centre Agent</td>\n",
       "      <td>check if sufficient information is available</td>\n",
       "      <td>0</td>\n",
       "      <td>2005-12-31 23:00:00+00:00</td>\n",
       "      <td>2006-01-13 23:00:00+00:00</td>\n",
       "    </tr>\n",
       "    <tr>\n",
       "      <th>1</th>\n",
       "      <td>Call Centre Agent</td>\n",
       "      <td>check if sufficient information is available</td>\n",
       "      <td>1</td>\n",
       "      <td>2005-12-31 23:00:00+00:00</td>\n",
       "      <td>2006-03-07 23:00:00+00:00</td>\n",
       "    </tr>\n",
       "    <tr>\n",
       "      <th>2</th>\n",
       "      <td>Call Centre Agent</td>\n",
       "      <td>check if sufficient information is available</td>\n",
       "      <td>10</td>\n",
       "      <td>2006-03-30 23:00:00+00:00</td>\n",
       "      <td>2006-04-09 23:00:00+00:00</td>\n",
       "    </tr>\n",
       "    <tr>\n",
       "      <th>3</th>\n",
       "      <td>Call Centre Agent</td>\n",
       "      <td>check if sufficient information is available</td>\n",
       "      <td>100</td>\n",
       "      <td>2008-07-26 23:00:00+00:00</td>\n",
       "      <td>2008-09-16 23:00:00+00:00</td>\n",
       "    </tr>\n",
       "    <tr>\n",
       "      <th>4</th>\n",
       "      <td>Call Centre Agent</td>\n",
       "      <td>check if sufficient information is available</td>\n",
       "      <td>101</td>\n",
       "      <td>2007-11-13 23:00:00+00:00</td>\n",
       "      <td>2008-01-19 23:00:00+00:00</td>\n",
       "    </tr>\n",
       "    <tr>\n",
       "      <th>...</th>\n",
       "      <td>...</td>\n",
       "      <td>...</td>\n",
       "      <td>...</td>\n",
       "      <td>...</td>\n",
       "      <td>...</td>\n",
       "    </tr>\n",
       "    <tr>\n",
       "      <th>259</th>\n",
       "      <td>Call Centre Agent</td>\n",
       "      <td>register claim</td>\n",
       "      <td>93</td>\n",
       "      <td>2007-11-01 23:00:00+00:00</td>\n",
       "      <td>2008-10-19 23:00:00+00:00</td>\n",
       "    </tr>\n",
       "    <tr>\n",
       "      <th>260</th>\n",
       "      <td>Call Centre Agent</td>\n",
       "      <td>register claim</td>\n",
       "      <td>94</td>\n",
       "      <td>2008-09-05 23:00:00+00:00</td>\n",
       "      <td>2008-11-06 23:00:00+00:00</td>\n",
       "    </tr>\n",
       "    <tr>\n",
       "      <th>261</th>\n",
       "      <td>Call Centre Agent</td>\n",
       "      <td>register claim</td>\n",
       "      <td>95</td>\n",
       "      <td>2008-01-14 23:00:00+00:00</td>\n",
       "      <td>2015-04-26 23:00:00+00:00</td>\n",
       "    </tr>\n",
       "    <tr>\n",
       "      <th>262</th>\n",
       "      <td>Call Centre Agent</td>\n",
       "      <td>register claim</td>\n",
       "      <td>98</td>\n",
       "      <td>2008-09-09 23:00:00+00:00</td>\n",
       "      <td>2009-03-04 23:00:00+00:00</td>\n",
       "    </tr>\n",
       "    <tr>\n",
       "      <th>263</th>\n",
       "      <td>Call Centre Agent</td>\n",
       "      <td>register claim</td>\n",
       "      <td>99</td>\n",
       "      <td>2007-11-22 23:00:00+00:00</td>\n",
       "      <td>2009-01-21 23:00:00+00:00</td>\n",
       "    </tr>\n",
       "  </tbody>\n",
       "</table>\n",
       "<p>247 rows × 5 columns</p>\n",
       "</div>"
      ],
      "text/plain": [
       "          org:resource                                  concept:name  \\\n",
       "0    Call Centre Agent  check if sufficient information is available   \n",
       "1    Call Centre Agent  check if sufficient information is available   \n",
       "2    Call Centre Agent  check if sufficient information is available   \n",
       "3    Call Centre Agent  check if sufficient information is available   \n",
       "4    Call Centre Agent  check if sufficient information is available   \n",
       "..                 ...                                           ...   \n",
       "259  Call Centre Agent                                register claim   \n",
       "260  Call Centre Agent                                register claim   \n",
       "261  Call Centre Agent                                register claim   \n",
       "262  Call Centre Agent                                register claim   \n",
       "263  Call Centre Agent                                register claim   \n",
       "\n",
       "    case:concept:name           start_timestamp        complete_timestamp  \n",
       "0                   0 2005-12-31 23:00:00+00:00 2006-01-13 23:00:00+00:00  \n",
       "1                   1 2005-12-31 23:00:00+00:00 2006-03-07 23:00:00+00:00  \n",
       "2                  10 2006-03-30 23:00:00+00:00 2006-04-09 23:00:00+00:00  \n",
       "3                 100 2008-07-26 23:00:00+00:00 2008-09-16 23:00:00+00:00  \n",
       "4                 101 2007-11-13 23:00:00+00:00 2008-01-19 23:00:00+00:00  \n",
       "..                ...                       ...                       ...  \n",
       "259                93 2007-11-01 23:00:00+00:00 2008-10-19 23:00:00+00:00  \n",
       "260                94 2008-09-05 23:00:00+00:00 2008-11-06 23:00:00+00:00  \n",
       "261                95 2008-01-14 23:00:00+00:00 2015-04-26 23:00:00+00:00  \n",
       "262                98 2008-09-09 23:00:00+00:00 2009-03-04 23:00:00+00:00  \n",
       "263                99 2007-11-22 23:00:00+00:00 2009-01-21 23:00:00+00:00  \n",
       "\n",
       "[247 rows x 5 columns]"
      ]
     },
     "execution_count": 82,
     "metadata": {},
     "output_type": "execute_result"
    }
   ],
   "source": [
    "normalized_call_centre_agent"
   ]
  },
  {
   "cell_type": "code",
   "execution_count": 83,
   "metadata": {
    "pycharm": {
     "is_executing": true
    }
   },
   "outputs": [],
   "source": [
    "df = deepcopy(normalized_call_centre_agent)\n",
    "task1 = 'check if sufficient information is available'\n",
    "task2 = 'register claim'\n",
    "\n",
    "for i in df['case:concept:name'].unique():\n",
    "    case1 = ((df['case:concept:name'] == i) & (df['concept:name'] == task1))\n",
    "    case2 = ((df['case:concept:name'] == i) & (df['concept:name'] == task2))\n",
    "    \n",
    "    diff = pd.to_datetime(df[case1].start_timestamp) - left_side\n",
    "\n",
    "    df.loc[case1, 'start_timestamp'] = df.loc[case1, 'start_timestamp'] - diff.item()\n",
    "    df.loc[case2, 'start_timestamp'] = df.loc[case2, 'start_timestamp'] - diff.item()\n",
    "    df.loc[case1, 'complete_timestamp'] = df.loc[case1, 'complete_timestamp'] - diff.item()\n",
    "    df.loc[case2, 'complete_timestamp'] = df.loc[case2, 'complete_timestamp'] - diff.item()"
   ]
  },
  {
   "cell_type": "code",
   "execution_count": 84,
   "metadata": {
    "pycharm": {
     "is_executing": true
    }
   },
   "outputs": [
    {
     "data": {
      "text/html": [
       "<div>\n",
       "<style scoped>\n",
       "    .dataframe tbody tr th:only-of-type {\n",
       "        vertical-align: middle;\n",
       "    }\n",
       "\n",
       "    .dataframe tbody tr th {\n",
       "        vertical-align: top;\n",
       "    }\n",
       "\n",
       "    .dataframe thead th {\n",
       "        text-align: right;\n",
       "    }\n",
       "</style>\n",
       "<table border=\"1\" class=\"dataframe\">\n",
       "  <thead>\n",
       "    <tr style=\"text-align: right;\">\n",
       "      <th></th>\n",
       "      <th>org:resource</th>\n",
       "      <th>concept:name</th>\n",
       "      <th>case:concept:name</th>\n",
       "      <th>start_timestamp</th>\n",
       "      <th>complete_timestamp</th>\n",
       "    </tr>\n",
       "  </thead>\n",
       "  <tbody>\n",
       "    <tr>\n",
       "      <th>0</th>\n",
       "      <td>Call Centre Agent</td>\n",
       "      <td>check if sufficient information is available</td>\n",
       "      <td>0</td>\n",
       "      <td>2005-12-31 23:00:00+00:00</td>\n",
       "      <td>2006-01-13 23:00:00+00:00</td>\n",
       "    </tr>\n",
       "    <tr>\n",
       "      <th>1</th>\n",
       "      <td>Call Centre Agent</td>\n",
       "      <td>check if sufficient information is available</td>\n",
       "      <td>1</td>\n",
       "      <td>2005-12-31 23:00:00+00:00</td>\n",
       "      <td>2006-03-07 23:00:00+00:00</td>\n",
       "    </tr>\n",
       "    <tr>\n",
       "      <th>2</th>\n",
       "      <td>Call Centre Agent</td>\n",
       "      <td>check if sufficient information is available</td>\n",
       "      <td>10</td>\n",
       "      <td>2005-12-31 23:00:00+00:00</td>\n",
       "      <td>2006-01-10 23:00:00+00:00</td>\n",
       "    </tr>\n",
       "    <tr>\n",
       "      <th>3</th>\n",
       "      <td>Call Centre Agent</td>\n",
       "      <td>check if sufficient information is available</td>\n",
       "      <td>100</td>\n",
       "      <td>2005-12-31 23:00:00+00:00</td>\n",
       "      <td>2006-02-21 23:00:00+00:00</td>\n",
       "    </tr>\n",
       "    <tr>\n",
       "      <th>4</th>\n",
       "      <td>Call Centre Agent</td>\n",
       "      <td>check if sufficient information is available</td>\n",
       "      <td>101</td>\n",
       "      <td>2005-12-31 23:00:00+00:00</td>\n",
       "      <td>2006-03-08 23:00:00+00:00</td>\n",
       "    </tr>\n",
       "    <tr>\n",
       "      <th>...</th>\n",
       "      <td>...</td>\n",
       "      <td>...</td>\n",
       "      <td>...</td>\n",
       "      <td>...</td>\n",
       "      <td>...</td>\n",
       "    </tr>\n",
       "    <tr>\n",
       "      <th>130</th>\n",
       "      <td>Call Centre Agent</td>\n",
       "      <td>check if sufficient information is available</td>\n",
       "      <td>98</td>\n",
       "      <td>2005-12-31 23:00:00+00:00</td>\n",
       "      <td>2006-02-22 23:00:00+00:00</td>\n",
       "    </tr>\n",
       "    <tr>\n",
       "      <th>131</th>\n",
       "      <td>Call Centre Agent</td>\n",
       "      <td>check if sufficient information is available</td>\n",
       "      <td>99</td>\n",
       "      <td>2005-12-31 23:00:00+00:00</td>\n",
       "      <td>2006-01-15 23:00:00+00:00</td>\n",
       "    </tr>\n",
       "    <tr>\n",
       "      <th>149</th>\n",
       "      <td>Call Centre Agent</td>\n",
       "      <td>register claim</td>\n",
       "      <td>0</td>\n",
       "      <td>2006-01-13 23:00:00+00:00</td>\n",
       "      <td>2008-01-29 23:00:00+00:00</td>\n",
       "    </tr>\n",
       "    <tr>\n",
       "      <th>150</th>\n",
       "      <td>Call Centre Agent</td>\n",
       "      <td>register claim</td>\n",
       "      <td>1</td>\n",
       "      <td>2006-03-07 23:00:00+00:00</td>\n",
       "      <td>2008-08-19 23:00:00+00:00</td>\n",
       "    </tr>\n",
       "    <tr>\n",
       "      <th>151</th>\n",
       "      <td>Call Centre Agent</td>\n",
       "      <td>register claim</td>\n",
       "      <td>10</td>\n",
       "      <td>2006-01-10 23:00:00+00:00</td>\n",
       "      <td>2006-11-08 23:00:00+00:00</td>\n",
       "    </tr>\n",
       "  </tbody>\n",
       "</table>\n",
       "<p>135 rows × 5 columns</p>\n",
       "</div>"
      ],
      "text/plain": [
       "          org:resource                                  concept:name  \\\n",
       "0    Call Centre Agent  check if sufficient information is available   \n",
       "1    Call Centre Agent  check if sufficient information is available   \n",
       "2    Call Centre Agent  check if sufficient information is available   \n",
       "3    Call Centre Agent  check if sufficient information is available   \n",
       "4    Call Centre Agent  check if sufficient information is available   \n",
       "..                 ...                                           ...   \n",
       "130  Call Centre Agent  check if sufficient information is available   \n",
       "131  Call Centre Agent  check if sufficient information is available   \n",
       "149  Call Centre Agent                                register claim   \n",
       "150  Call Centre Agent                                register claim   \n",
       "151  Call Centre Agent                                register claim   \n",
       "\n",
       "    case:concept:name           start_timestamp        complete_timestamp  \n",
       "0                   0 2005-12-31 23:00:00+00:00 2006-01-13 23:00:00+00:00  \n",
       "1                   1 2005-12-31 23:00:00+00:00 2006-03-07 23:00:00+00:00  \n",
       "2                  10 2005-12-31 23:00:00+00:00 2006-01-10 23:00:00+00:00  \n",
       "3                 100 2005-12-31 23:00:00+00:00 2006-02-21 23:00:00+00:00  \n",
       "4                 101 2005-12-31 23:00:00+00:00 2006-03-08 23:00:00+00:00  \n",
       "..                ...                       ...                       ...  \n",
       "130                98 2005-12-31 23:00:00+00:00 2006-02-22 23:00:00+00:00  \n",
       "131                99 2005-12-31 23:00:00+00:00 2006-01-15 23:00:00+00:00  \n",
       "149                 0 2006-01-13 23:00:00+00:00 2008-01-29 23:00:00+00:00  \n",
       "150                 1 2006-03-07 23:00:00+00:00 2008-08-19 23:00:00+00:00  \n",
       "151                10 2006-01-10 23:00:00+00:00 2006-11-08 23:00:00+00:00  \n",
       "\n",
       "[135 rows x 5 columns]"
      ]
     },
     "execution_count": 84,
     "metadata": {},
     "output_type": "execute_result"
    }
   ],
   "source": [
    "df.head(135)"
   ]
  },
  {
   "cell_type": "code",
   "execution_count": 86,
   "metadata": {
    "pycharm": {
     "is_executing": true
    }
   },
   "outputs": [
    {
     "data": {
      "image/png": "[encoded data removed]",
      "text/plain": [
       "<Figure size 1008x432 with 1 Axes>"
      ]
     },
     "metadata": {
      "needs_background": "light"
     },
     "output_type": "display_data"
    }
   ],
   "source": [
    "fig, ax = plt.subplots(figsize=[14,6])\n",
    "plot_only_lines(df.loc[df['concept:name'] == task1], xlim=(xlim_lower, xlim_upper), plot_color='m')\n",
    "plot_only_lines(df.loc[df['concept:name'] == task2], xlim=(xlim_lower, xlim_upper), plot_color='y')"
   ]
  },
  {
   "cell_type": "markdown",
   "metadata": {},
   "source": [
    "# Core metody"
   ]
  },
  {
   "cell_type": "code",
   "execution_count": 87,
   "metadata": {},
   "outputs": [],
   "source": [
    "number_of_traces = df.groupby(['concept:name']).count()\n",
    "n_task1 = number_of_traces.iloc[0,0]\n",
    "n_task2 = number_of_traces.iloc[1,0]"
   ]
  },
  {
   "cell_type": "code",
   "execution_count": 88,
   "metadata": {
    "pycharm": {
     "is_executing": true
    }
   },
   "outputs": [],
   "source": [
    "mean_start1 = np.mean(df[df['concept:name'] == task1].start_timestamp)\n",
    "mean_start2 = np.mean(df[df['concept:name'] == task2].start_timestamp)\n",
    "\n",
    "mean_complete1 = np.mean(df[df['concept:name'] == task1].complete_timestamp)\n",
    "mean_complete2 = np.mean(df[df['concept:name'] == task2].complete_timestamp)\n",
    "\n",
    "std_start1 = np.std(df[df['concept:name'] == task1].start_timestamp)\n",
    "std_start2 = np.std(df[df['concept:name'] == task2].start_timestamp)\n",
    "\n",
    "std_complete1 = np.std(df[df['concept:name'] == task1].complete_timestamp)\n",
    "std_complete2 = np.std(df[df['concept:name'] == task2].complete_timestamp)"
   ]
  },
  {
   "cell_type": "code",
   "execution_count": 89,
   "metadata": {},
   "outputs": [
    {
     "name": "stdout",
     "output_type": "stream",
     "text": [
      "2005-12-31 23:00:00.000000256+00:00 +- 0 days 00:00:00.000000256\n",
      "2006-01-28 11:10:54.545454848+00:00 +- 25 days 04:48:22.239162298\n",
      "\n",
      "2006-01-28 07:45:54.782608896+00:00 +- 24 days 09:10:23.898511899\n",
      "2007-06-22 09:26:05.217391616+00:00 +- 530 days 15:06:50.491031696\n"
     ]
    }
   ],
   "source": [
    "print(mean_start1,\"+-\", std_start1)\n",
    "print(mean_complete1, '+-', std_complete1, end='\\n\\n')\n",
    "\n",
    "print(mean_start2, '+-', std_start2)\n",
    "print(mean_complete2,'+-', std_complete2)"
   ]
  },
  {
   "cell_type": "code",
   "execution_count": 90,
   "metadata": {
    "pycharm": {
     "is_executing": true
    }
   },
   "outputs": [
    {
     "data": {
      "image/png": "[encoded data removed]",
      "text/plain": [
       "<Figure size 1008x576 with 1 Axes>"
      ]
     },
     "metadata": {
      "needs_background": "light"
     },
     "output_type": "display_data"
    }
   ],
   "source": [
    "_, ax = plt.subplots(figsize=[14,8])\n",
    "xlim_lower = datetime.strptime('2005-12-01', '%Y-%m-%d')\n",
    "xlim_upper = datetime.strptime('2009-01-01', '%Y-%m-%d')\n",
    "\n",
    "ax.plot([mean_start1, mean_complete1, mean_complete1 + std_complete1, mean_start1-std_start1, mean_start1], [n_task1, n_task1, 0, 0, n_task1], 'm', linewidth=4)\n",
    "ax.plot([mean_start2, mean_complete2, mean_complete2 + std_complete2, mean_start2-std_start2, mean_start2], [n_task2, n_task2, 0, 0, n_task2], 'y', linewidth=4)\n",
    "ax.set(xlim=(xlim_lower, xlim_upper), ylim=(0, 1.1*np.max([n_task1,n_task2])))\n",
    "\n",
    "plt.show()"
   ]
  },
  {
   "cell_type": "markdown",
   "metadata": {},
   "source": [
    "# Drugi przykład"
   ]
  },
  {
   "cell_type": "code",
   "execution_count": 57,
   "metadata": {},
   "outputs": [
    {
     "data": {
      "image/png": "[encoded data removed]",
      "text/plain": [
       "<Figure size 1008x432 with 1 Axes>"
      ]
     },
     "metadata": {
      "needs_background": "light"
     },
     "output_type": "display_data"
    }
   ],
   "source": [
    "xlim_lower = datetime.strptime('2006-07-01', '%Y-%m-%d')\n",
    "xlim_upper = datetime.strptime('2019-01-01', '%Y-%m-%d')\n",
    "\n",
    "fig, ax = plt.subplots(figsize=[14,6])\n",
    "plot_only_lines(assess_claim, xlim=(xlim_lower, xlim_upper), plot_color='red')\n",
    "plot_only_lines(close_claim, xlim=(xlim_lower, xlim_upper), plot_color='blue')"
   ]
  },
  {
   "cell_type": "code",
   "execution_count": 58,
   "metadata": {},
   "outputs": [],
   "source": [
    "normalized_claims_handler = claims_handler.loc[(claims_handler['concept:name'] == 'assess claim') | (claims_handler['concept:name'] == 'close claim')]"
   ]
  },
  {
   "cell_type": "code",
   "execution_count": 59,
   "metadata": {},
   "outputs": [],
   "source": [
    "left_side = np.min(normalized_claims_handler.start_timestamp)\n",
    "right_side = np.min(normalized_claims_handler.complete_timestamp)"
   ]
  },
  {
   "cell_type": "code",
   "execution_count": 60,
   "metadata": {},
   "outputs": [
    {
     "data": {
      "text/html": [
       "<div>\n",
       "<style scoped>\n",
       "    .dataframe tbody tr th:only-of-type {\n",
       "        vertical-align: middle;\n",
       "    }\n",
       "\n",
       "    .dataframe tbody tr th {\n",
       "        vertical-align: top;\n",
       "    }\n",
       "\n",
       "    .dataframe thead th {\n",
       "        text-align: right;\n",
       "    }\n",
       "</style>\n",
       "<table border=\"1\" class=\"dataframe\">\n",
       "  <thead>\n",
       "    <tr style=\"text-align: right;\">\n",
       "      <th></th>\n",
       "      <th>org:resource</th>\n",
       "      <th>concept:name</th>\n",
       "      <th>case:concept:name</th>\n",
       "      <th>start_timestamp</th>\n",
       "      <th>complete_timestamp</th>\n",
       "    </tr>\n",
       "  </thead>\n",
       "  <tbody>\n",
       "    <tr>\n",
       "      <th>340</th>\n",
       "      <td>Claims handler</td>\n",
       "      <td>assess claim</td>\n",
       "      <td>0</td>\n",
       "      <td>2008-03-17 23:00:00+00:00</td>\n",
       "      <td>2010-10-12 23:00:00+00:00</td>\n",
       "    </tr>\n",
       "    <tr>\n",
       "      <th>341</th>\n",
       "      <td>Claims handler</td>\n",
       "      <td>assess claim</td>\n",
       "      <td>1</td>\n",
       "      <td>2008-09-11 23:00:00+00:00</td>\n",
       "      <td>2016-08-07 23:00:00+00:00</td>\n",
       "    </tr>\n",
       "    <tr>\n",
       "      <th>342</th>\n",
       "      <td>Claims handler</td>\n",
       "      <td>assess claim</td>\n",
       "      <td>10</td>\n",
       "      <td>2007-02-16 23:00:00+00:00</td>\n",
       "      <td>2007-03-29 23:00:00+00:00</td>\n",
       "    </tr>\n",
       "    <tr>\n",
       "      <th>343</th>\n",
       "      <td>Claims handler</td>\n",
       "      <td>assess claim</td>\n",
       "      <td>100</td>\n",
       "      <td>2009-05-27 23:00:00+00:00</td>\n",
       "      <td>2014-04-17 23:00:00+00:00</td>\n",
       "    </tr>\n",
       "    <tr>\n",
       "      <th>344</th>\n",
       "      <td>Claims handler</td>\n",
       "      <td>assess claim</td>\n",
       "      <td>101</td>\n",
       "      <td>2008-09-12 23:00:00+00:00</td>\n",
       "      <td>2013-08-10 23:00:00+00:00</td>\n",
       "    </tr>\n",
       "    <tr>\n",
       "      <th>...</th>\n",
       "      <td>...</td>\n",
       "      <td>...</td>\n",
       "      <td>...</td>\n",
       "      <td>...</td>\n",
       "      <td>...</td>\n",
       "    </tr>\n",
       "    <tr>\n",
       "      <th>510</th>\n",
       "      <td>Claims handler</td>\n",
       "      <td>close claim</td>\n",
       "      <td>9</td>\n",
       "      <td>2008-06-19 23:00:00+00:00</td>\n",
       "      <td>2008-06-19 23:00:00+00:00</td>\n",
       "    </tr>\n",
       "    <tr>\n",
       "      <th>511</th>\n",
       "      <td>Claims handler</td>\n",
       "      <td>close claim</td>\n",
       "      <td>92</td>\n",
       "      <td>2016-03-07 23:00:00+00:00</td>\n",
       "      <td>2016-04-12 23:00:00+00:00</td>\n",
       "    </tr>\n",
       "    <tr>\n",
       "      <th>512</th>\n",
       "      <td>Claims handler</td>\n",
       "      <td>close claim</td>\n",
       "      <td>93</td>\n",
       "      <td>2009-09-19 23:00:00+00:00</td>\n",
       "      <td>2009-09-27 23:00:00+00:00</td>\n",
       "    </tr>\n",
       "    <tr>\n",
       "      <th>513</th>\n",
       "      <td>Claims handler</td>\n",
       "      <td>close claim</td>\n",
       "      <td>98</td>\n",
       "      <td>2012-09-12 23:00:00+00:00</td>\n",
       "      <td>2012-10-01 23:00:00+00:00</td>\n",
       "    </tr>\n",
       "    <tr>\n",
       "      <th>514</th>\n",
       "      <td>Claims handler</td>\n",
       "      <td>close claim</td>\n",
       "      <td>99</td>\n",
       "      <td>2009-10-22 23:00:00+00:00</td>\n",
       "      <td>2009-10-25 23:00:00+00:00</td>\n",
       "    </tr>\n",
       "  </tbody>\n",
       "</table>\n",
       "<p>175 rows × 5 columns</p>\n",
       "</div>"
      ],
      "text/plain": [
       "       org:resource  concept:name case:concept:name           start_timestamp  \\\n",
       "340  Claims handler  assess claim                 0 2008-03-17 23:00:00+00:00   \n",
       "341  Claims handler  assess claim                 1 2008-09-11 23:00:00+00:00   \n",
       "342  Claims handler  assess claim                10 2007-02-16 23:00:00+00:00   \n",
       "343  Claims handler  assess claim               100 2009-05-27 23:00:00+00:00   \n",
       "344  Claims handler  assess claim               101 2008-09-12 23:00:00+00:00   \n",
       "..              ...           ...               ...                       ...   \n",
       "510  Claims handler   close claim                 9 2008-06-19 23:00:00+00:00   \n",
       "511  Claims handler   close claim                92 2016-03-07 23:00:00+00:00   \n",
       "512  Claims handler   close claim                93 2009-09-19 23:00:00+00:00   \n",
       "513  Claims handler   close claim                98 2012-09-12 23:00:00+00:00   \n",
       "514  Claims handler   close claim                99 2009-10-22 23:00:00+00:00   \n",
       "\n",
       "           complete_timestamp  \n",
       "340 2010-10-12 23:00:00+00:00  \n",
       "341 2016-08-07 23:00:00+00:00  \n",
       "342 2007-03-29 23:00:00+00:00  \n",
       "343 2014-04-17 23:00:00+00:00  \n",
       "344 2013-08-10 23:00:00+00:00  \n",
       "..                        ...  \n",
       "510 2008-06-19 23:00:00+00:00  \n",
       "511 2016-04-12 23:00:00+00:00  \n",
       "512 2009-09-27 23:00:00+00:00  \n",
       "513 2012-10-01 23:00:00+00:00  \n",
       "514 2009-10-25 23:00:00+00:00  \n",
       "\n",
       "[175 rows x 5 columns]"
      ]
     },
     "execution_count": 60,
     "metadata": {},
     "output_type": "execute_result"
    }
   ],
   "source": [
    "normalized_claims_handler"
   ]
  },
  {
   "cell_type": "code",
   "execution_count": 61,
   "metadata": {},
   "outputs": [],
   "source": [
    "df = deepcopy(normalized_claims_handler)\n",
    "task1 = 'assess claim'\n",
    "task2 = 'close claim'\n",
    "\n",
    "for i in df['case:concept:name'].unique():\n",
    "    case1 = ((df['case:concept:name'] == i) & (df['concept:name'] == task1))\n",
    "    case2 = ((df['case:concept:name'] == i) & (df['concept:name'] == task2))\n",
    "    \n",
    "    diff = pd.to_datetime(df[case1].start_timestamp) - left_side\n",
    "\n",
    "    df.loc[case1, 'start_timestamp'] = df.loc[case1, 'start_timestamp'] - diff.item()\n",
    "    df.loc[case2, 'start_timestamp'] = df.loc[case2, 'start_timestamp'] - diff.item()\n",
    "    df.loc[case1, 'complete_timestamp'] = df.loc[case1, 'complete_timestamp'] - diff.item()\n",
    "    df.loc[case2, 'complete_timestamp'] = df.loc[case2, 'complete_timestamp'] - diff.item()"
   ]
  },
  {
   "cell_type": "code",
   "execution_count": 67,
   "metadata": {},
   "outputs": [
    {
     "data": {
      "image/png": "[encoded data removed]",
      "text/plain": [
       "<Figure size 1008x432 with 1 Axes>"
      ]
     },
     "metadata": {
      "needs_background": "light"
     },
     "output_type": "display_data"
    }
   ],
   "source": [
    "fig, ax = plt.subplots(figsize=[14,6])\n",
    "plot_only_lines(df.loc[df['concept:name'] == task1], xlim=(xlim_lower, xlim_upper), plot_color='r')\n",
    "plot_only_lines(df.loc[df['concept:name'] == task2], xlim=(xlim_lower, xlim_upper), plot_color='b')"
   ]
  },
  {
   "cell_type": "code",
   "execution_count": 63,
   "metadata": {},
   "outputs": [],
   "source": [
    "mean_start1 = np.mean(df[df['concept:name'] == task1].start_timestamp)\n",
    "mean_start2 = np.mean(df[df['concept:name'] == task2].start_timestamp)\n",
    "\n",
    "mean_complete1 = np.mean(df[df['concept:name'] == task1].complete_timestamp)\n",
    "mean_complete2 = np.mean(df[df['concept:name'] == task2].complete_timestamp)\n",
    "\n",
    "std_start1 = np.std(df[df['concept:name'] == task1].start_timestamp)\n",
    "std_start2 = np.std(df[df['concept:name'] == task2].start_timestamp)\n",
    "\n",
    "std_complete1 = np.std(df[df['concept:name'] == task1].complete_timestamp)\n",
    "std_complete2 = np.std(df[df['concept:name'] == task2].complete_timestamp)"
   ]
  },
  {
   "cell_type": "code",
   "execution_count": 64,
   "metadata": {},
   "outputs": [
    {
     "name": "stdout",
     "output_type": "stream",
     "text": [
      "2006-07-31 23:00:00.000000256+00:00 +- 0 days 00:00:00.000000256\n",
      "2008-03-22 19:36:21.818182144+00:00 +- 590 days 15:55:51.789408144\n",
      "\n",
      "2008-12-11 03:25:15.789474048+00:00 +- 685 days 21:15:01.870099504\n",
      "2009-01-05 21:25:15.789474048+00:00 +- 688 days 08:48:47.827564120\n"
     ]
    }
   ],
   "source": [
    "print(mean_start1,\"+-\", std_start1)\n",
    "print(mean_complete1, '+-', std_complete1, end='\\n\\n')\n",
    "\n",
    "print(mean_start2, '+-', std_start2)\n",
    "print(mean_complete2,'+-', std_complete2)\n",
    "\n",
    "number_of_traces = df.groupby(['concept:name']).count()\n",
    "n_task1 = number_of_traces.iloc[0,0]\n",
    "n_task2 = number_of_traces.iloc[1,0]"
   ]
  },
  {
   "cell_type": "code",
   "execution_count": 66,
   "metadata": {},
   "outputs": [
    {
     "data": {
      "image/png": "[encoded data removed]",
      "text/plain": [
       "<Figure size 1008x432 with 1 Axes>"
      ]
     },
     "metadata": {
      "needs_background": "light"
     },
     "output_type": "display_data"
    }
   ],
   "source": [
    "_, ax = plt.subplots(figsize=[14,6])\n",
    "\n",
    "ax.plot([mean_start1, mean_complete1, mean_complete1 + std_complete1, mean_start1-std_start1, mean_start1], [n_task1, n_task1, 0, 0, n_task1], 'r', linewidth=4)\n",
    "ax.plot([mean_start2, mean_complete2, mean_complete2 + std_complete2, mean_start2-std_start2, mean_start2], [n_task2, n_task2, 0, 0, n_task2], 'b', linewidth=4)\n",
    "ax.set(xlim=(xlim_lower, xlim_upper), ylim=(0, 1.1*np.max([n_task1,n_task2])))\n",
    "\n",
    "plt.show()"
   ]
  },
  {
   "cell_type": "code",
   "execution_count": null,
   "metadata": {},
   "outputs": [],
   "source": []
  }
 ],
 "metadata": {
  "kernelspec": {
   "display_name": "Python 3",
   "language": "python",
   "name": "python3"
  },
  "language_info": {
   "codemirror_mode": {
    "name": "ipython",
    "version": 3
   },
   "file_extension": ".py",
   "mimetype": "text/x-python",
   "name": "python",
   "nbconvert_exporter": "python",
   "pygments_lexer": "ipython3",
   "version": "3.9.2"
  }
 },
 "nbformat": 4,
 "nbformat_minor": 1
}
