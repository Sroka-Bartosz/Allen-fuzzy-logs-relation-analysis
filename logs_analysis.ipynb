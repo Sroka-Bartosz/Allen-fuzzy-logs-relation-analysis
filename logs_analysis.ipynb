{
 "cells": [
  {
   "cell_type": "markdown",
   "metadata": {},
   "source": [
    "\n",
    "# Trapezoidal method based on mean and standard deviation"
   ]
  },
  {
   "cell_type": "markdown",
   "metadata": {},
   "source": [
    "##  import bibliotek"
   ]
  },
  {
   "cell_type": "code",
   "execution_count": 1,
   "metadata": {
    "pycharm": {
     "is_executing": true
    }
   },
   "outputs": [],
   "source": [
    "import datetime as dt\n",
    "from datetime import datetime\n",
    "from typing import Tuple, List\n",
    "import random\n",
    "import warnings\n",
    "\n",
    "import matplotlib.colors as mcolors\n",
    "import matplotlib.pyplot as plt\n",
    "import numpy as np\n",
    "import pandas as pd\n",
    "import seaborn as sns\n",
    "\n",
    "from copy import deepcopy\n",
    "\n",
    "from pm4py.objects.conversion.log import converter as log_converter\n",
    "from pm4py.objects.log.importer.xes import importer as xes_importer\n",
    "from pm4py import discover_bpmn_inductive\n",
    "\n",
    "warnings.filterwarnings(\"ignore\")\n",
    "\n",
    "from trapezoidal_method import TrapezoidMethod\n",
    "import data_preparation as dp\n",
    "import time"
   ]
  },
  {
   "cell_type": "markdown",
   "metadata": {},
   "source": [
    "### Załadowanie pliku formatu .xes"
   ]
  },
  {
   "cell_type": "code",
   "execution_count": 2,
   "metadata": {
    "pycharm": {
     "is_executing": true
    }
   },
   "outputs": [
    {
     "data": {
      "application/vnd.jupyter.widget-view+json": {
       "model_id": "41eb300db0a6487988c6a033ca946e1f",
       "version_major": 2,
       "version_minor": 0
      },
      "text/plain": [
       "parsing log, completed traces ::   0%|          | 0/132 [00:00<?, ?it/s]"
      ]
     },
     "metadata": {},
     "output_type": "display_data"
    }
   ],
   "source": [
    "log = xes_importer.apply('logs/exercise6.xes')"
   ]
  },
  {
   "cell_type": "markdown",
   "metadata": {},
   "source": [
    "### Przetworzenie logów do pd.Dataframe"
   ]
  },
  {
   "cell_type": "code",
   "execution_count": 3,
   "metadata": {
    "pycharm": {
     "is_executing": true
    }
   },
   "outputs": [],
   "source": [
    "df = log_converter.apply(log, variant=log_converter.Variants.TO_DATA_FRAME)"
   ]
  },
  {
   "cell_type": "markdown",
   "metadata": {},
   "source": [
    "### Podgląd logow znajdujących się w załadowanym pliku"
   ]
  },
  {
   "cell_type": "code",
   "execution_count": 4,
   "metadata": {
    "pycharm": {
     "is_executing": true
    }
   },
   "outputs": [
    {
     "data": {
      "text/html": [
       "<div>\n",
       "<style scoped>\n",
       "    .dataframe tbody tr th:only-of-type {\n",
       "        vertical-align: middle;\n",
       "    }\n",
       "\n",
       "    .dataframe tbody tr th {\n",
       "        vertical-align: top;\n",
       "    }\n",
       "\n",
       "    .dataframe thead th {\n",
       "        text-align: right;\n",
       "    }\n",
       "</style>\n",
       "<table border=\"1\" class=\"dataframe\">\n",
       "  <thead>\n",
       "    <tr style=\"text-align: right;\">\n",
       "      <th></th>\n",
       "      <th>org:resource</th>\n",
       "      <th>time:timestamp</th>\n",
       "      <th>concept:name</th>\n",
       "      <th>lifecycle:transition</th>\n",
       "      <th>case:concept:name</th>\n",
       "    </tr>\n",
       "  </thead>\n",
       "  <tbody>\n",
       "    <tr>\n",
       "      <th>0</th>\n",
       "      <td>Call Centre Agent</td>\n",
       "      <td>2005-12-31 23:00:00+00:00</td>\n",
       "      <td>check if sufficient information is available</td>\n",
       "      <td>start</td>\n",
       "      <td>0</td>\n",
       "    </tr>\n",
       "    <tr>\n",
       "      <th>1</th>\n",
       "      <td>Call Centre Agent</td>\n",
       "      <td>2006-01-13 23:00:00+00:00</td>\n",
       "      <td>check if sufficient information is available</td>\n",
       "      <td>complete</td>\n",
       "      <td>0</td>\n",
       "    </tr>\n",
       "    <tr>\n",
       "      <th>2</th>\n",
       "      <td>Call Centre Agent</td>\n",
       "      <td>2006-01-13 23:00:00+00:00</td>\n",
       "      <td>register claim</td>\n",
       "      <td>start</td>\n",
       "      <td>0</td>\n",
       "    </tr>\n",
       "    <tr>\n",
       "      <th>3</th>\n",
       "      <td>Call Centre Agent</td>\n",
       "      <td>2008-01-29 23:00:00+00:00</td>\n",
       "      <td>register claim</td>\n",
       "      <td>complete</td>\n",
       "      <td>0</td>\n",
       "    </tr>\n",
       "    <tr>\n",
       "      <th>4</th>\n",
       "      <td>Claims handler</td>\n",
       "      <td>2008-01-29 23:00:00+00:00</td>\n",
       "      <td>determine likelihood of claim</td>\n",
       "      <td>start</td>\n",
       "      <td>0</td>\n",
       "    </tr>\n",
       "  </tbody>\n",
       "</table>\n",
       "</div>"
      ],
      "text/plain": [
       "        org:resource            time:timestamp  \\\n",
       "0  Call Centre Agent 2005-12-31 23:00:00+00:00   \n",
       "1  Call Centre Agent 2006-01-13 23:00:00+00:00   \n",
       "2  Call Centre Agent 2006-01-13 23:00:00+00:00   \n",
       "3  Call Centre Agent 2008-01-29 23:00:00+00:00   \n",
       "4     Claims handler 2008-01-29 23:00:00+00:00   \n",
       "\n",
       "                                   concept:name lifecycle:transition  \\\n",
       "0  check if sufficient information is available                start   \n",
       "1  check if sufficient information is available             complete   \n",
       "2                                register claim                start   \n",
       "3                                register claim             complete   \n",
       "4                 determine likelihood of claim                start   \n",
       "\n",
       "  case:concept:name  \n",
       "0                 0  \n",
       "1                 0  \n",
       "2                 0  \n",
       "3                 0  \n",
       "4                 0  "
      ]
     },
     "execution_count": 4,
     "metadata": {},
     "output_type": "execute_result"
    }
   ],
   "source": [
    "df.head()"
   ]
  },
  {
   "cell_type": "code",
   "execution_count": 5,
   "metadata": {
    "pycharm": {
     "is_executing": true
    }
   },
   "outputs": [
    {
     "name": "stdout",
     "output_type": "stream",
     "text": [
      "lifecycle:transition\n",
      "complete    821\n",
      "start       821\n",
      "Name: lifecycle:transition, dtype: int64\n"
     ]
    }
   ],
   "source": [
    "print(df.groupby(['lifecycle:transition'])['lifecycle:transition'].count())"
   ]
  },
  {
   "cell_type": "markdown",
   "metadata": {},
   "source": [
    "### Zamiana logów na format zawierający star_timestamp oraz complete_timestamp"
   ]
  },
  {
   "cell_type": "code",
   "execution_count": 6,
   "metadata": {
    "pycharm": {
     "is_executing": true
    }
   },
   "outputs": [
    {
     "data": {
      "text/html": [
       "<div>\n",
       "<style scoped>\n",
       "    .dataframe tbody tr th:only-of-type {\n",
       "        vertical-align: middle;\n",
       "    }\n",
       "\n",
       "    .dataframe tbody tr th {\n",
       "        vertical-align: top;\n",
       "    }\n",
       "\n",
       "    .dataframe thead th {\n",
       "        text-align: right;\n",
       "    }\n",
       "</style>\n",
       "<table border=\"1\" class=\"dataframe\">\n",
       "  <thead>\n",
       "    <tr style=\"text-align: right;\">\n",
       "      <th></th>\n",
       "      <th>org:resource</th>\n",
       "      <th>concept:name</th>\n",
       "      <th>case:concept:name</th>\n",
       "      <th>start_timestamp</th>\n",
       "      <th>complete_timestamp</th>\n",
       "    </tr>\n",
       "  </thead>\n",
       "  <tbody>\n",
       "    <tr>\n",
       "      <th>0</th>\n",
       "      <td>Call Centre Agent</td>\n",
       "      <td>check if sufficient information is available</td>\n",
       "      <td>0</td>\n",
       "      <td>2005-12-31 23:00:00+00:00</td>\n",
       "      <td>2006-01-13 23:00:00+00:00</td>\n",
       "    </tr>\n",
       "    <tr>\n",
       "      <th>1</th>\n",
       "      <td>Call Centre Agent</td>\n",
       "      <td>check if sufficient information is available</td>\n",
       "      <td>1</td>\n",
       "      <td>2005-12-31 23:00:00+00:00</td>\n",
       "      <td>2006-03-07 23:00:00+00:00</td>\n",
       "    </tr>\n",
       "    <tr>\n",
       "      <th>2</th>\n",
       "      <td>Call Centre Agent</td>\n",
       "      <td>check if sufficient information is available</td>\n",
       "      <td>10</td>\n",
       "      <td>2006-03-30 23:00:00+00:00</td>\n",
       "      <td>2006-04-09 23:00:00+00:00</td>\n",
       "    </tr>\n",
       "    <tr>\n",
       "      <th>3</th>\n",
       "      <td>Call Centre Agent</td>\n",
       "      <td>check if sufficient information is available</td>\n",
       "      <td>100</td>\n",
       "      <td>2008-07-26 23:00:00+00:00</td>\n",
       "      <td>2008-09-16 23:00:00+00:00</td>\n",
       "    </tr>\n",
       "    <tr>\n",
       "      <th>4</th>\n",
       "      <td>Call Centre Agent</td>\n",
       "      <td>check if sufficient information is available</td>\n",
       "      <td>101</td>\n",
       "      <td>2007-11-13 23:00:00+00:00</td>\n",
       "      <td>2008-01-19 23:00:00+00:00</td>\n",
       "    </tr>\n",
       "  </tbody>\n",
       "</table>\n",
       "</div>"
      ],
      "text/plain": [
       "        org:resource                                  concept:name  \\\n",
       "0  Call Centre Agent  check if sufficient information is available   \n",
       "1  Call Centre Agent  check if sufficient information is available   \n",
       "2  Call Centre Agent  check if sufficient information is available   \n",
       "3  Call Centre Agent  check if sufficient information is available   \n",
       "4  Call Centre Agent  check if sufficient information is available   \n",
       "\n",
       "  case:concept:name           start_timestamp        complete_timestamp  \n",
       "0                 0 2005-12-31 23:00:00+00:00 2006-01-13 23:00:00+00:00  \n",
       "1                 1 2005-12-31 23:00:00+00:00 2006-03-07 23:00:00+00:00  \n",
       "2                10 2006-03-30 23:00:00+00:00 2006-04-09 23:00:00+00:00  \n",
       "3               100 2008-07-26 23:00:00+00:00 2008-09-16 23:00:00+00:00  \n",
       "4               101 2007-11-13 23:00:00+00:00 2008-01-19 23:00:00+00:00  "
      ]
     },
     "execution_count": 6,
     "metadata": {},
     "output_type": "execute_result"
    }
   ],
   "source": [
    "df = dp.prepare_logs(df=df, status='lifecycle:transition', timestamp='time:timestamp',status_cols=df['lifecycle:transition'].unique())\n",
    "df.head()"
   ]
  },
  {
   "cell_type": "code",
   "execution_count": 7,
   "metadata": {
    "pycharm": {
     "is_executing": true
    }
   },
   "outputs": [],
   "source": [
    "Texercise6 = TrapezoidMethod(logs=df, \n",
    "                             case_id_column_name='case:concept:name', \n",
    "                             task_column_name='concept:name', \n",
    "                             instance_column_name='org:resource',\n",
    "                             start_timestamp_column_name='start_timestamp', \n",
    "                             complete_timestamp_column_name='complete_timestamp')\n"
   ]
  },
  {
   "cell_type": "code",
   "execution_count": 8,
   "metadata": {
    "pycharm": {
     "is_executing": true
    }
   },
   "outputs": [
    {
     "data": {
      "image/png": "[encoded data removed]",
      "text/plain": [
       "<Figure size 1008x432 with 1 Axes>"
      ]
     },
     "metadata": {
      "needs_background": "light"
     },
     "output_type": "display_data"
    }
   ],
   "source": [
    "Texercise6.plot_all_tasks()"
   ]
  },
  {
   "cell_type": "code",
   "execution_count": 9,
   "metadata": {
    "pycharm": {
     "is_executing": true
    }
   },
   "outputs": [
    {
     "data": {
      "image/png": "[encoded data removed]",
      "text/plain": [
       "<Figure size 1008x432 with 1 Axes>"
      ]
     },
     "metadata": {
      "needs_background": "light"
     },
     "output_type": "display_data"
    },
    {
     "data": {
      "image/png": "[encoded data removed]",
      "text/plain": [
       "<Figure size 1008x432 with 1 Axes>"
      ]
     },
     "metadata": {
      "needs_background": "light"
     },
     "output_type": "display_data"
    },
    {
     "data": {
      "image/png": "[encoded data removed]",
      "text/plain": [
       "<Figure size 1008x432 with 1 Axes>"
      ]
     },
     "metadata": {
      "needs_background": "light"
     },
     "output_type": "display_data"
    },
    {
     "name": "stdout",
     "output_type": "stream",
     "text": [
      "= = = = = = = = = = = = = = = = = = = = = = = = = = = = = = = = = = = = = = = = = = = = = \n",
      "check if sufficient information is available area:\u001B[1m 13169.18 \u001B[0m\n",
      "assess claim area:\u001B[1m 314986.14 \u001B[0m\n",
      "splot area:\u001B[1m 0.0 \u001B[0m\n",
      "\n",
      "splot/task1:\u001B[1m 0 % \u001B[0m\n",
      "splot/task2:\u001B[1m 0 % \u001B[0m\n",
      "\n"
     ]
    },
    {
     "data": {
      "text/plain": [
       "['meets', 'before']"
      ]
     },
     "execution_count": 9,
     "metadata": {},
     "output_type": "execute_result"
    }
   ],
   "source": [
    "Texercise6.core_metod(first_task=Texercise6.list_of_tasks[0],\n",
    "                      second_task=Texercise6.list_of_tasks[4],\n",
    "#                       instance='Call Centre Agent',\n",
    "                      plot_results=True,\n",
    "                      plot_steps=True,\n",
    "                      print_results=True)"
   ]
  },
  {
   "cell_type": "code",
   "execution_count": 10,
   "metadata": {
    "pycharm": {
     "is_executing": true
    }
   },
   "outputs": [
    {
     "name": "stdout",
     "output_type": "stream",
     "text": [
      "= = = = = = = = = = = = = = = = = = = = = = = = = = = = = = = = = = = = = = = = = = = = = \n",
      "determine likelihood of claim area:\u001B[1m 8829.26 \u001B[0m\n",
      "assess claim area:\u001B[1m 242507.97 \u001B[0m\n",
      "splot area:\u001B[1m 0.0 \u001B[0m\n",
      "\n",
      "splot/task1:\u001B[1m 0 % \u001B[0m\n",
      "splot/task2:\u001B[1m 0 % \u001B[0m\n",
      "\n",
      "possible relations:  ['meets', 'before']\n",
      "= = = = = = = = = = = = = = = = = = = = = = = = = = = = = = = = = = = = = = = = = = = = = \n",
      "determine likelihood of claim area:\u001B[1m 7724.49 \u001B[0m\n",
      "advise claimant on reimbursement area:\u001B[1m 150486.54 \u001B[0m\n",
      "splot area:\u001B[1m 0.0 \u001B[0m\n",
      "\n",
      "splot/task1:\u001B[1m 0 % \u001B[0m\n",
      "splot/task2:\u001B[1m 0 % \u001B[0m\n",
      "\n",
      "possible relations:  ['meets', 'before']\n",
      "= = = = = = = = = = = = = = = = = = = = = = = = = = = = = = = = = = = = = = = = = = = = = \n",
      "determine likelihood of claim area:\u001B[1m 7665.39 \u001B[0m\n",
      "initiate payment area:\u001B[1m 141278.59 \u001B[0m\n",
      "splot area:\u001B[1m 0.0 \u001B[0m\n",
      "\n",
      "splot/task1:\u001B[1m 0 % \u001B[0m\n",
      "splot/task2:\u001B[1m 0 % \u001B[0m\n",
      "\n",
      "possible relations:  ['meets', 'before']\n",
      "= = = = = = = = = = = = = = = = = = = = = = = = = = = = = = = = = = = = = = = = = = = = = \n",
      "determine likelihood of claim area:\u001B[1m 7592.31 \u001B[0m\n",
      "close claim area:\u001B[1m 127167.1 \u001B[0m\n",
      "splot area:\u001B[1m 0.0 \u001B[0m\n",
      "\n",
      "splot/task1:\u001B[1m 0 % \u001B[0m\n",
      "splot/task2:\u001B[1m 0 % \u001B[0m\n",
      "\n",
      "possible relations:  ['meets', 'before']\n",
      "= = = = = = = = = = = = = = = = = = = = = = = = = = = = = = = = = = = = = = = = = = = = = \n",
      "assess claim area:\u001B[1m 195404.52 \u001B[0m\n",
      "advise claimant on reimbursement area:\u001B[1m 52511.86 \u001B[0m\n",
      "splot area:\u001B[1m 1675.17 \u001B[0m\n",
      "\n",
      "splot/task1:\u001B[1m 1 % \u001B[0m\n",
      "splot/task2:\u001B[1m 3 % \u001B[0m\n",
      "\n",
      "possible relations:  ['meets', 'starts', 'overlaps']\n",
      "= = = = = = = = = = = = = = = = = = = = = = = = = = = = = = = = = = = = = = = = = = = = = \n",
      "assess claim area:\u001B[1m 195105.19 \u001B[0m\n",
      "initiate payment area:\u001B[1m 48550.12 \u001B[0m\n",
      "splot area:\u001B[1m 946.33 \u001B[0m\n",
      "\n",
      "splot/task1:\u001B[1m 0 % \u001B[0m\n",
      "splot/task2:\u001B[1m 2 % \u001B[0m\n",
      "\n",
      "possible relations:  ['meets', 'starts', 'overlaps']\n",
      "= = = = = = = = = = = = = = = = = = = = = = = = = = = = = = = = = = = = = = = = = = = = = \n",
      "assess claim area:\u001B[1m 194731.46 \u001B[0m\n",
      "close claim area:\u001B[1m 37001.8 \u001B[0m\n",
      "splot area:\u001B[1m 0.0 \u001B[0m\n",
      "\n",
      "splot/task1:\u001B[1m 0 % \u001B[0m\n",
      "splot/task2:\u001B[1m 0 % \u001B[0m\n",
      "\n",
      "possible relations:  ['meets', 'before']\n",
      "= = = = = = = = = = = = = = = = = = = = = = = = = = = = = = = = = = = = = = = = = = = = = \n",
      "advise claimant on reimbursement area:\u001B[1m 144068.76 \u001B[0m\n",
      "initiate payment area:\u001B[1m 132571.44 \u001B[0m\n",
      "splot area:\u001B[1m 86857.9 \u001B[0m\n",
      "\n",
      "splot/task1:\u001B[1m 60 % \u001B[0m\n",
      "splot/task2:\u001B[1m 66 % \u001B[0m\n",
      "\n",
      "possible relations:  ['meets', 'starts', 'overlaps']\n",
      "= = = = = = = = = = = = = = = = = = = = = = = = = = = = = = = = = = = = = = = = = = = = = \n",
      "advise claimant on reimbursement area:\u001B[1m 138784.05 \u001B[0m\n",
      "close claim area:\u001B[1m 75141.5 \u001B[0m\n",
      "splot area:\u001B[1m 13954.31 \u001B[0m\n",
      "\n",
      "splot/task1:\u001B[1m 10 % \u001B[0m\n",
      "splot/task2:\u001B[1m 19 % \u001B[0m\n",
      "\n",
      "possible relations:  ['meets', 'starts', 'overlaps']\n",
      "= = = = = = = = = = = = = = = = = = = = = = = = = = = = = = = = = = = = = = = = = = = = = \n",
      "initiate payment area:\u001B[1m 111270.24 \u001B[0m\n",
      "close claim area:\u001B[1m 88725.46 \u001B[0m\n",
      "splot area:\u001B[1m 14465.63 \u001B[0m\n",
      "\n",
      "splot/task1:\u001B[1m 13 % \u001B[0m\n",
      "splot/task2:\u001B[1m 16 % \u001B[0m\n",
      "\n",
      "possible relations:  ['meets', 'starts', 'overlaps']\n"
     ]
    }
   ],
   "source": [
    "tasks = ['determine likelihood of claim', 'assess claim', 'advise claimant on reimbursement', 'initiate payment', 'close claim']\n",
    "for i in range(len(tasks)):\n",
    "    for j in range(i + 1, len(tasks)):\n",
    "        print('possible relations: ', \n",
    "              Texercise6.core_metod(first_task=tasks[j],\n",
    "                                    second_task=tasks[i],\n",
    "                                    instance='Claims handler',\n",
    "    #                                 plot_results=True,\n",
    "    #                                 plot_steps=True,\n",
    "                                    print_results=True))"
   ]
  },
  {
   "cell_type": "markdown",
   "metadata": {},
   "source": [
    "# Test random logs generator"
   ]
  },
  {
   "cell_type": "code",
   "execution_count": 11,
   "metadata": {
    "pycharm": {
     "is_executing": true
    }
   },
   "outputs": [
    {
     "name": "stdout",
     "output_type": "stream",
     "text": [
      "Generate relation 'A' overlaps 'B' \n",
      "99.0%"
     ]
    }
   ],
   "source": [
    "from logs_generator import generate_logs\n",
    "generated_logs = generate_logs('overlaps')"
   ]
  },
  {
   "cell_type": "code",
   "execution_count": 12,
   "metadata": {
    "pycharm": {
     "is_executing": true
    }
   },
   "outputs": [
    {
     "name": "stdout",
     "output_type": "stream",
     "text": [
      "       "
     ]
    },
    {
     "data": {
      "image/png": "[encoded data removed]",
      "text/plain": [
       "<Figure size 864x432 with 1 Axes>"
      ]
     },
     "metadata": {
      "needs_background": "light"
     },
     "output_type": "display_data"
    }
   ],
   "source": [
    "list_of_times = []\n",
    "list_of_fraction = [x for x in np.logspace(-2, 0, 100) if x > 0.01]\n",
    "for frac in list_of_fraction:\n",
    "    t = TrapezoidMethod(generated_logs[generated_logs['case_id'].isin(pd.Series(generated_logs['case_id'].unique()).sample(frac=frac, random_state=0))])\n",
    "    start_time = time.time()\n",
    "    t.core_metod('A', 'B')\n",
    "    execution_time = time.time() - start_time\n",
    "    print(\"\\r{} %\".format(round(100 * list_of_fraction.index(frac)/len(list_of_fraction)),2), end='')\n",
    "    list_of_times.append(execution_time)\n",
    "n_task = t.number_of_traces['A']\n",
    "print('\\r       ', end='')\n",
    "_, ax = plt.subplots(nrows=1, ncols=1, figsize=[12,6])\n",
    "ax.plot([n_task * _ for _ in list_of_fraction], list_of_times, label='trapezoid_method')\n",
    "ax.set(xlabel='number of traces', ylabel='Time [s]')\n",
    "ax.grid()\n",
    "plt.legend()\n",
    "plt.tight_layout()\n",
    "plt.show()"
   ]
  },
  {
   "cell_type": "code",
   "execution_count": 13,
   "metadata": {},
   "outputs": [
    {
     "data": {
      "text/html": [
       "<div>\n",
       "<style scoped>\n",
       "    .dataframe tbody tr th:only-of-type {\n",
       "        vertical-align: middle;\n",
       "    }\n",
       "\n",
       "    .dataframe tbody tr th {\n",
       "        vertical-align: top;\n",
       "    }\n",
       "\n",
       "    .dataframe thead th {\n",
       "        text-align: right;\n",
       "    }\n",
       "</style>\n",
       "<table border=\"1\" class=\"dataframe\">\n",
       "  <thead>\n",
       "    <tr style=\"text-align: right;\">\n",
       "      <th></th>\n",
       "      <th>Case ID</th>\n",
       "      <th>Activity</th>\n",
       "      <th>Resource</th>\n",
       "      <th>Start Timestamp</th>\n",
       "      <th>Complete Timestamp</th>\n",
       "      <th>Variant</th>\n",
       "      <th>Variant index</th>\n",
       "      <th>(case) description</th>\n",
       "      <th>Result by Reviewer A</th>\n",
       "      <th>Result by Reviewer B</th>\n",
       "      <th>Result by Reviewer C</th>\n",
       "      <th>Result by Reviewer X</th>\n",
       "      <th>accepts</th>\n",
       "      <th>lifecycle:transition</th>\n",
       "      <th>rejects</th>\n",
       "      <th>start_timestamp</th>\n",
       "      <th>complete_timestamp</th>\n",
       "    </tr>\n",
       "  </thead>\n",
       "  <tbody>\n",
       "    <tr>\n",
       "      <th>0</th>\n",
       "      <td>1</td>\n",
       "      <td>invite reviewers</td>\n",
       "      <td>Mike</td>\n",
       "      <td>2006-01-01 00:00:00.000</td>\n",
       "      <td>2006-01-06 00:00:00.000</td>\n",
       "      <td>Variant 5</td>\n",
       "      <td>5</td>\n",
       "      <td>Simulated process instance</td>\n",
       "      <td>NaN</td>\n",
       "      <td>NaN</td>\n",
       "      <td>NaN</td>\n",
       "      <td>NaN</td>\n",
       "      <td>NaN</td>\n",
       "      <td>complete</td>\n",
       "      <td>NaN</td>\n",
       "      <td>2006-01-01</td>\n",
       "      <td>2006-01-06</td>\n",
       "    </tr>\n",
       "    <tr>\n",
       "      <th>1</th>\n",
       "      <td>1</td>\n",
       "      <td>get review 2</td>\n",
       "      <td>Carol</td>\n",
       "      <td>2006-01-09 00:00:00.000</td>\n",
       "      <td>2006-01-09 00:00:00.000</td>\n",
       "      <td>Variant 5</td>\n",
       "      <td>5</td>\n",
       "      <td>Simulated process instance</td>\n",
       "      <td>NaN</td>\n",
       "      <td>reject</td>\n",
       "      <td>NaN</td>\n",
       "      <td>NaN</td>\n",
       "      <td>NaN</td>\n",
       "      <td>complete</td>\n",
       "      <td>NaN</td>\n",
       "      <td>2006-01-09</td>\n",
       "      <td>2006-01-09</td>\n",
       "    </tr>\n",
       "    <tr>\n",
       "      <th>2</th>\n",
       "      <td>1</td>\n",
       "      <td>get review 3</td>\n",
       "      <td>Pam</td>\n",
       "      <td>2006-01-10 00:00:00.000</td>\n",
       "      <td>2006-01-10 00:00:00.000</td>\n",
       "      <td>Variant 5</td>\n",
       "      <td>5</td>\n",
       "      <td>Simulated process instance</td>\n",
       "      <td>NaN</td>\n",
       "      <td>NaN</td>\n",
       "      <td>reject</td>\n",
       "      <td>NaN</td>\n",
       "      <td>NaN</td>\n",
       "      <td>complete</td>\n",
       "      <td>NaN</td>\n",
       "      <td>2006-01-10</td>\n",
       "      <td>2006-01-10</td>\n",
       "    </tr>\n",
       "    <tr>\n",
       "      <th>3</th>\n",
       "      <td>1</td>\n",
       "      <td>get review 1</td>\n",
       "      <td>John</td>\n",
       "      <td>2006-01-11 00:00:00.000</td>\n",
       "      <td>2006-01-11 00:00:00.000</td>\n",
       "      <td>Variant 5</td>\n",
       "      <td>5</td>\n",
       "      <td>Simulated process instance</td>\n",
       "      <td>reject</td>\n",
       "      <td>NaN</td>\n",
       "      <td>NaN</td>\n",
       "      <td>NaN</td>\n",
       "      <td>NaN</td>\n",
       "      <td>complete</td>\n",
       "      <td>NaN</td>\n",
       "      <td>2006-01-11</td>\n",
       "      <td>2006-01-11</td>\n",
       "    </tr>\n",
       "    <tr>\n",
       "      <th>4</th>\n",
       "      <td>1</td>\n",
       "      <td>collect reviews</td>\n",
       "      <td>Anne</td>\n",
       "      <td>2006-01-11 00:00:00.000</td>\n",
       "      <td>2006-01-13 00:00:00.000</td>\n",
       "      <td>Variant 5</td>\n",
       "      <td>5</td>\n",
       "      <td>Simulated process instance</td>\n",
       "      <td>NaN</td>\n",
       "      <td>NaN</td>\n",
       "      <td>NaN</td>\n",
       "      <td>NaN</td>\n",
       "      <td>NaN</td>\n",
       "      <td>complete</td>\n",
       "      <td>NaN</td>\n",
       "      <td>2006-01-11</td>\n",
       "      <td>2006-01-13</td>\n",
       "    </tr>\n",
       "  </tbody>\n",
       "</table>\n",
       "</div>"
      ],
      "text/plain": [
       "   Case ID          Activity Resource          Start Timestamp  \\\n",
       "0        1  invite reviewers     Mike  2006-01-01 00:00:00.000   \n",
       "1        1      get review 2    Carol  2006-01-09 00:00:00.000   \n",
       "2        1      get review 3      Pam  2006-01-10 00:00:00.000   \n",
       "3        1      get review 1     John  2006-01-11 00:00:00.000   \n",
       "4        1   collect reviews     Anne  2006-01-11 00:00:00.000   \n",
       "\n",
       "        Complete Timestamp    Variant  Variant index  \\\n",
       "0  2006-01-06 00:00:00.000  Variant 5              5   \n",
       "1  2006-01-09 00:00:00.000  Variant 5              5   \n",
       "2  2006-01-10 00:00:00.000  Variant 5              5   \n",
       "3  2006-01-11 00:00:00.000  Variant 5              5   \n",
       "4  2006-01-13 00:00:00.000  Variant 5              5   \n",
       "\n",
       "           (case) description Result by Reviewer A Result by Reviewer B  \\\n",
       "0  Simulated process instance                  NaN                  NaN   \n",
       "1  Simulated process instance                  NaN               reject   \n",
       "2  Simulated process instance                  NaN                  NaN   \n",
       "3  Simulated process instance               reject                  NaN   \n",
       "4  Simulated process instance                  NaN                  NaN   \n",
       "\n",
       "  Result by Reviewer C Result by Reviewer X  accepts lifecycle:transition  \\\n",
       "0                  NaN                  NaN      NaN             complete   \n",
       "1                  NaN                  NaN      NaN             complete   \n",
       "2               reject                  NaN      NaN             complete   \n",
       "3                  NaN                  NaN      NaN             complete   \n",
       "4                  NaN                  NaN      NaN             complete   \n",
       "\n",
       "   rejects start_timestamp complete_timestamp  \n",
       "0      NaN      2006-01-01         2006-01-06  \n",
       "1      NaN      2006-01-09         2006-01-09  \n",
       "2      NaN      2006-01-10         2006-01-10  \n",
       "3      NaN      2006-01-11         2006-01-11  \n",
       "4      NaN      2006-01-11         2006-01-13  "
      ]
     },
     "execution_count": 13,
     "metadata": {},
     "output_type": "execute_result"
    }
   ],
   "source": [
    "df_reviewing = pd.read_csv('logs/reviewing.csv')\n",
    "df_reviewing['start_timestamp'] = pd.to_datetime(df_reviewing['Start Timestamp'])\n",
    "df_reviewing['complete_timestamp'] = pd.to_datetime(df_reviewing['Complete Timestamp'])\n",
    "df_reviewing.head()"
   ]
  },
  {
   "cell_type": "code",
   "execution_count": 14,
   "metadata": {},
   "outputs": [],
   "source": [
    "Treviewing = TrapezoidMethod(logs=df_reviewing, \n",
    "                             case_id_column_name='Case ID', \n",
    "                             task_column_name='Activity', \n",
    "                             instance_column_name='Variant')"
   ]
  },
  {
   "cell_type": "code",
   "execution_count": 15,
   "metadata": {},
   "outputs": [
    {
     "data": {
      "text/plain": [
       "array(['invite reviewers', 'get review 2', 'get review 3', 'get review 1',\n",
       "       'collect reviews', 'decide', 'invite additional reviewer',\n",
       "       'get review X', 'reject', 'time-out 1', 'time-out X', 'accept',\n",
       "       'time-out 2', 'time-out 3'], dtype=object)"
      ]
     },
     "execution_count": 15,
     "metadata": {},
     "output_type": "execute_result"
    }
   ],
   "source": [
    "Treviewing.list_of_tasks"
   ]
  },
  {
   "cell_type": "code",
   "execution_count": 26,
   "metadata": {},
   "outputs": [
    {
     "name": "stdout",
     "output_type": "stream",
     "text": [
      "['invite reviewers', 'collect reviews', 'decide', 'invite additional reviewer', 'get review X', 'reject']\n",
      "= = = = = = = = = = = = = = = = = = = = = = = = = = = = = = = = = = = = = = = = = = = = = \n",
      "invite reviewers area:\u001B[1m 46542.48 \u001B[0m\n",
      "collect reviews area:\u001B[1m 152007.85 \u001B[0m\n",
      "splot area:\u001B[1m 0.0 \u001B[0m\n",
      "\n",
      "splot/task1:\u001B[1m 0 % \u001B[0m\n",
      "splot/task2:\u001B[1m 0 % \u001B[0m\n",
      "\n",
      "possible relations:  ['meets', 'before']\n",
      "= = = = = = = = = = = = = = = = = = = = = = = = = = = = = = = = = = = = = = = = = = = = = \n",
      "invite reviewers area:\u001B[1m 1844.05 \u001B[0m\n",
      "decide area:\u001B[1m 1683001.12 \u001B[0m\n",
      "splot area:\u001B[1m 0.0 \u001B[0m\n",
      "\n",
      "splot/task1:\u001B[1m 0 % \u001B[0m\n",
      "splot/task2:\u001B[1m 0 % \u001B[0m\n",
      "\n",
      "possible relations:  ['meets', 'before']\n",
      "= = = = = = = = = = = = = = = = = = = = = = = = = = = = = = = = = = = = = = = = = = = = = \n",
      "invite reviewers area:\u001B[1m 1907.41 \u001B[0m\n",
      "invite additional reviewer area:\u001B[1m 1350917.3 \u001B[0m\n",
      "splot area:\u001B[1m 0.0 \u001B[0m\n",
      "\n",
      "splot/task1:\u001B[1m 0 % \u001B[0m\n",
      "splot/task2:\u001B[1m 0 % \u001B[0m\n",
      "\n",
      "possible relations:  ['meets', 'before']\n",
      "= = = = = = = = = = = = = = = = = = = = = = = = = = = = = = = = = = = = = = = = = = = = = \n",
      "invite reviewers area:\u001B[1m 1876.31 \u001B[0m\n",
      "get review X area:\u001B[1m 686757.56 \u001B[0m\n",
      "splot area:\u001B[1m 0.0 \u001B[0m\n",
      "\n",
      "splot/task1:\u001B[1m 0 % \u001B[0m\n",
      "splot/task2:\u001B[1m 0 % \u001B[0m\n",
      "\n",
      "possible relations:  ['meets', 'before']\n",
      "= = = = = = = = = = = = = = = = = = = = = = = = = = = = = = = = = = = = = = = = = = = = = \n",
      "invite reviewers area:\u001B[1m 1848.9 \u001B[0m\n",
      "reject area:\u001B[1m 168954.85 \u001B[0m\n",
      "splot area:\u001B[1m 0.0 \u001B[0m\n",
      "\n",
      "splot/task1:\u001B[1m 0 % \u001B[0m\n",
      "splot/task2:\u001B[1m 0 % \u001B[0m\n",
      "\n",
      "possible relations:  ['meets', 'before']\n",
      "= = = = = = = = = = = = = = = = = = = = = = = = = = = = = = = = = = = = = = = = = = = = = \n",
      "collect reviews area:\u001B[1m 2276.0 \u001B[0m\n",
      "decide area:\u001B[1m 1687296.82 \u001B[0m\n",
      "splot area:\u001B[1m 0.0 \u001B[0m\n",
      "\n",
      "splot/task1:\u001B[1m 0 % \u001B[0m\n",
      "splot/task2:\u001B[1m 0 % \u001B[0m\n",
      "\n",
      "possible relations:  ['meets', 'before']\n",
      "= = = = = = = = = = = = = = = = = = = = = = = = = = = = = = = = = = = = = = = = = = = = = \n",
      "collect reviews area:\u001B[1m 2319.65 \u001B[0m\n",
      "invite additional reviewer area:\u001B[1m 1354579.52 \u001B[0m\n",
      "splot area:\u001B[1m 0.0 \u001B[0m\n",
      "\n",
      "splot/task1:\u001B[1m 0 % \u001B[0m\n",
      "splot/task2:\u001B[1m 0 % \u001B[0m\n",
      "\n",
      "possible relations:  ['meets', 'before']\n",
      "= = = = = = = = = = = = = = = = = = = = = = = = = = = = = = = = = = = = = = = = = = = = = \n",
      "collect reviews area:\u001B[1m 2370.81 \u001B[0m\n",
      "get review X area:\u001B[1m 689024.84 \u001B[0m\n",
      "splot area:\u001B[1m 0.0 \u001B[0m\n",
      "\n",
      "splot/task1:\u001B[1m 0 % \u001B[0m\n",
      "splot/task2:\u001B[1m 0 % \u001B[0m\n",
      "\n",
      "possible relations:  ['meets', 'before']\n",
      "= = = = = = = = = = = = = = = = = = = = = = = = = = = = = = = = = = = = = = = = = = = = = \n",
      "collect reviews area:\u001B[1m 2282.92 \u001B[0m\n",
      "reject area:\u001B[1m 169286.42 \u001B[0m\n",
      "splot area:\u001B[1m 0.0 \u001B[0m\n",
      "\n",
      "splot/task1:\u001B[1m 0 % \u001B[0m\n",
      "splot/task2:\u001B[1m 0 % \u001B[0m\n",
      "\n",
      "possible relations:  ['meets', 'before']\n",
      "= = = = = = = = = = = = = = = = = = = = = = = = = = = = = = = = = = = = = = = = = = = = = \n",
      "invite additional reviewer area:\u001B[1m 1168081.84 \u001B[0m\n",
      "decide area:\u001B[1m 1460520.3 \u001B[0m\n",
      "splot area:\u001B[1m 1163254.7 \u001B[0m\n",
      "\n",
      "splot/task1:\u001B[1m 100 % \u001B[0m\n",
      "splot/task2:\u001B[1m 80 % \u001B[0m\n",
      "\n",
      "possible relations:  ['meets', 'starts', 'before', 'overlaps', 'contains', 'equals']\n",
      "= = = = = = = = = = = = = = = = = = = = = = = = = = = = = = = = = = = = = = = = = = = = = \n",
      "decide area:\u001B[1m 981523.39 \u001B[0m\n",
      "get review X area:\u001B[1m 314318.64 \u001B[0m\n",
      "splot area:\u001B[1m 314318.64 \u001B[0m\n",
      "\n",
      "splot/task1:\u001B[1m 32 % \u001B[0m\n",
      "splot/task2:\u001B[1m 100 % \u001B[0m\n",
      "\n",
      "possible relations:  ['contains', 'starts']\n",
      "= = = = = = = = = = = = = = = = = = = = = = = = = = = = = = = = = = = = = = = = = = = = = \n",
      "decide area:\u001B[1m 1651916.37 \u001B[0m\n",
      "reject area:\u001B[1m 164800.23 \u001B[0m\n",
      "splot area:\u001B[1m 145918.44 \u001B[0m\n",
      "\n",
      "splot/task1:\u001B[1m 9 % \u001B[0m\n",
      "splot/task2:\u001B[1m 89 % \u001B[0m\n",
      "\n",
      "possible relations:  ['meets', 'starts', 'overlaps']\n",
      "= = = = = = = = = = = = = = = = = = = = = = = = = = = = = = = = = = = = = = = = = = = = = \n",
      "invite additional reviewer area:\u001B[1m 1308629.47 \u001B[0m\n",
      "get review X area:\u001B[1m 656665.22 \u001B[0m\n",
      "splot area:\u001B[1m 653348.58 \u001B[0m\n",
      "\n",
      "splot/task1:\u001B[1m 50 % \u001B[0m\n",
      "splot/task2:\u001B[1m 99 % \u001B[0m\n",
      "\n",
      "possible relations:  ['meets', 'starts', 'before', 'overlaps', 'contains', 'equals']\n",
      "= = = = = = = = = = = = = = = = = = = = = = = = = = = = = = = = = = = = = = = = = = = = = \n",
      "invite additional reviewer area:\u001B[1m 1301250.17 \u001B[0m\n",
      "reject area:\u001B[1m 145025.75 \u001B[0m\n",
      "splot area:\u001B[1m 99702.48 \u001B[0m\n",
      "\n",
      "splot/task1:\u001B[1m 8 % \u001B[0m\n",
      "splot/task2:\u001B[1m 69 % \u001B[0m\n",
      "\n",
      "possible relations:  ['meets', 'starts', 'overlaps']\n",
      "= = = = = = = = = = = = = = = = = = = = = = = = = = = = = = = = = = = = = = = = = = = = = \n",
      "get review X area:\u001B[1m 551496.35 \u001B[0m\n",
      "reject area:\u001B[1m 130332.33 \u001B[0m\n",
      "splot area:\u001B[1m 73288.42 \u001B[0m\n",
      "\n",
      "splot/task1:\u001B[1m 13 % \u001B[0m\n",
      "splot/task2:\u001B[1m 56 % \u001B[0m\n",
      "\n",
      "possible relations:  ['meets', 'starts', 'overlaps']\n"
     ]
    }
   ],
   "source": [
    "tasks = [task for task in df_reviewing[df_reviewing['Variant'] == 'Variant 5']['Activity'].unique() if task not in ['get review 2', 'get review 3','get review 1']]\n",
    "print(tasks)\n",
    "for i in range(len(tasks)):\n",
    "    for j in range(i + 1, len(tasks)):\n",
    "        print('possible relations: ', Treviewing.core_metod(first_task=tasks[i],\n",
    "                                                            second_task=tasks[j],\n",
    "#                                                             instance='Variant 5',\n",
    "#                                                             plot_results=True,\n",
    "#                                                             plot_steps=True,\n",
    "                                                            is_big_dataframe=True,\n",
    "                                                            print_results=True))"
   ]
  },
  {
   "cell_type": "code",
   "execution_count": null,
   "metadata": {},
   "outputs": [],
   "source": []
  },
  {
   "cell_type": "code",
   "execution_count": null,
   "metadata": {},
   "outputs": [],
   "source": []
  }
 ],
 "metadata": {
  "kernelspec": {
   "display_name": "Python 3",
   "language": "python",
   "name": "python3"
  },
  "language_info": {
   "codemirror_mode": {
    "name": "ipython",
    "version": 3
   },
   "file_extension": ".py",
   "mimetype": "text/x-python",
   "name": "python",
   "nbconvert_exporter": "python",
   "pygments_lexer": "ipython3",
   "version": "3.9.2"
  }
 },
 "nbformat": 4,
 "nbformat_minor": 1
}
