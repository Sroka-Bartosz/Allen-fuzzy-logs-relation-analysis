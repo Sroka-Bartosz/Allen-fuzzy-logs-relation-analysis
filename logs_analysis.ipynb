{
 "cells": [
  {
   "cell_type": "code",
   "execution_count": 1,
   "metadata": {
    "pycharm": {
     "is_executing": true
    }
   },
   "outputs": [],
   "source": [
    "# Importy\n",
    "import pandas as pd\n",
    "import numpy as np\n",
    "import pm4py\n",
    "import matplotlib.pyplot as plt\n",
    "import seaborn as sns\n",
    "import datetime as dt\n",
    "from datetime import datetime\n",
    "\n",
    "from pm4py import discover_bpmn_inductive\n",
    "from pm4py.objects.conversion.log import converter as log_converter\n",
    "from pm4py.objects.log.importer.xes import importer as xes_importer"
   ]
  },
  {
   "cell_type": "code",
   "execution_count": 2,
   "metadata": {
    "pycharm": {
     "is_executing": true
    }
   },
   "outputs": [
    {
     "name": "stderr",
     "output_type": "stream",
     "text": [
      "C:\\Users\\sroka\\AppData\\Roaming\\Python\\Python39\\site-packages\\pm4py\\util\\dt_parsing\\parser.py:76: UserWarning: ISO8601 strings are not fully supported with strpfromiso for Python versions below 3.11\n",
      "  warnings.warn(\n"
     ]
    },
    {
     "data": {
      "application/vnd.jupyter.widget-view+json": {
       "model_id": "b146bf7953224591a2c3f6e7fcfc9f4b",
       "version_major": 2,
       "version_minor": 0
      },
      "text/plain": [
       "parsing log, completed traces ::   0%|          | 0/132 [00:00<?, ?it/s]"
      ]
     },
     "metadata": {},
     "output_type": "display_data"
    }
   ],
   "source": [
    "log = xes_importer.apply('logs/exercise6.xes')"
   ]
  },
  {
   "cell_type": "code",
   "execution_count": 3,
   "metadata": {
    "pycharm": {
     "is_executing": true
    }
   },
   "outputs": [],
   "source": [
    "df = log_converter.apply(log, variant=log_converter.Variants.TO_DATA_FRAME)"
   ]
  },
  {
   "cell_type": "code",
   "execution_count": 4,
   "metadata": {
    "pycharm": {
     "is_executing": true
    }
   },
   "outputs": [
    {
     "data": {
      "text/html": [
       "<div>\n",
       "<style scoped>\n",
       "    .dataframe tbody tr th:only-of-type {\n",
       "        vertical-align: middle;\n",
       "    }\n",
       "\n",
       "    .dataframe tbody tr th {\n",
       "        vertical-align: top;\n",
       "    }\n",
       "\n",
       "    .dataframe thead th {\n",
       "        text-align: right;\n",
       "    }\n",
       "</style>\n",
       "<table border=\"1\" class=\"dataframe\">\n",
       "  <thead>\n",
       "    <tr style=\"text-align: right;\">\n",
       "      <th></th>\n",
       "      <th>org:resource</th>\n",
       "      <th>time:timestamp</th>\n",
       "      <th>concept:name</th>\n",
       "      <th>lifecycle:transition</th>\n",
       "      <th>case:concept:name</th>\n",
       "    </tr>\n",
       "  </thead>\n",
       "  <tbody>\n",
       "    <tr>\n",
       "      <th>0</th>\n",
       "      <td>Call Centre Agent</td>\n",
       "      <td>2005-12-31 23:00:00+00:00</td>\n",
       "      <td>check if sufficient information is available</td>\n",
       "      <td>start</td>\n",
       "      <td>0</td>\n",
       "    </tr>\n",
       "    <tr>\n",
       "      <th>1</th>\n",
       "      <td>Call Centre Agent</td>\n",
       "      <td>2006-01-13 23:00:00+00:00</td>\n",
       "      <td>check if sufficient information is available</td>\n",
       "      <td>complete</td>\n",
       "      <td>0</td>\n",
       "    </tr>\n",
       "    <tr>\n",
       "      <th>2</th>\n",
       "      <td>Call Centre Agent</td>\n",
       "      <td>2006-01-13 23:00:00+00:00</td>\n",
       "      <td>register claim</td>\n",
       "      <td>start</td>\n",
       "      <td>0</td>\n",
       "    </tr>\n",
       "    <tr>\n",
       "      <th>3</th>\n",
       "      <td>Call Centre Agent</td>\n",
       "      <td>2008-01-29 23:00:00+00:00</td>\n",
       "      <td>register claim</td>\n",
       "      <td>complete</td>\n",
       "      <td>0</td>\n",
       "    </tr>\n",
       "    <tr>\n",
       "      <th>4</th>\n",
       "      <td>Claims handler</td>\n",
       "      <td>2008-01-29 23:00:00+00:00</td>\n",
       "      <td>determine likelihood of claim</td>\n",
       "      <td>start</td>\n",
       "      <td>0</td>\n",
       "    </tr>\n",
       "  </tbody>\n",
       "</table>\n",
       "</div>"
      ],
      "text/plain": [
       "        org:resource            time:timestamp  \\\n",
       "0  Call Centre Agent 2005-12-31 23:00:00+00:00   \n",
       "1  Call Centre Agent 2006-01-13 23:00:00+00:00   \n",
       "2  Call Centre Agent 2006-01-13 23:00:00+00:00   \n",
       "3  Call Centre Agent 2008-01-29 23:00:00+00:00   \n",
       "4     Claims handler 2008-01-29 23:00:00+00:00   \n",
       "\n",
       "                                   concept:name lifecycle:transition  \\\n",
       "0  check if sufficient information is available                start   \n",
       "1  check if sufficient information is available             complete   \n",
       "2                                register claim                start   \n",
       "3                                register claim             complete   \n",
       "4                 determine likelihood of claim                start   \n",
       "\n",
       "  case:concept:name  \n",
       "0                 0  \n",
       "1                 0  \n",
       "2                 0  \n",
       "3                 0  \n",
       "4                 0  "
      ]
     },
     "execution_count": 4,
     "metadata": {},
     "output_type": "execute_result"
    }
   ],
   "source": [
    "df.head()"
   ]
  },
  {
   "cell_type": "code",
   "execution_count": 5,
   "metadata": {
    "pycharm": {
     "is_executing": true
    }
   },
   "outputs": [
    {
     "name": "stdout",
     "output_type": "stream",
     "text": [
      "lifecycle:transition\n",
      "complete    821\n",
      "start       821\n",
      "Name: lifecycle:transition, dtype: int64\n"
     ]
    }
   ],
   "source": [
    "print(df.groupby(['lifecycle:transition'])['lifecycle:transition'].count())"
   ]
  },
  {
   "cell_type": "code",
   "execution_count": 6,
   "metadata": {
    "pycharm": {
     "is_executing": true
    }
   },
   "outputs": [],
   "source": [
    "df['start_timestamp'] = df.loc[df['lifecycle:transition'] == 'start', 'time:timestamp']\n",
    "df['complete_timestamp'] = df.loc[df['lifecycle:transition'] == 'complete', 'time:timestamp']\n",
    "df.drop(['lifecycle:transition', 'time:timestamp'], axis=1, inplace=True)"
   ]
  },
  {
   "cell_type": "code",
   "execution_count": 7,
   "metadata": {
    "pycharm": {
     "is_executing": true
    }
   },
   "outputs": [
    {
     "data": {
      "text/html": [
       "<div>\n",
       "<style scoped>\n",
       "    .dataframe tbody tr th:only-of-type {\n",
       "        vertical-align: middle;\n",
       "    }\n",
       "\n",
       "    .dataframe tbody tr th {\n",
       "        vertical-align: top;\n",
       "    }\n",
       "\n",
       "    .dataframe thead th {\n",
       "        text-align: right;\n",
       "    }\n",
       "</style>\n",
       "<table border=\"1\" class=\"dataframe\">\n",
       "  <thead>\n",
       "    <tr style=\"text-align: right;\">\n",
       "      <th></th>\n",
       "      <th>org:resource</th>\n",
       "      <th>concept:name</th>\n",
       "      <th>case:concept:name</th>\n",
       "      <th>start_timestamp</th>\n",
       "      <th>complete_timestamp</th>\n",
       "    </tr>\n",
       "  </thead>\n",
       "  <tbody>\n",
       "    <tr>\n",
       "      <th>0</th>\n",
       "      <td>Call Centre Agent</td>\n",
       "      <td>check if sufficient information is available</td>\n",
       "      <td>0</td>\n",
       "      <td>2005-12-31 23:00:00+00:00</td>\n",
       "      <td>NaT</td>\n",
       "    </tr>\n",
       "    <tr>\n",
       "      <th>1</th>\n",
       "      <td>Call Centre Agent</td>\n",
       "      <td>check if sufficient information is available</td>\n",
       "      <td>0</td>\n",
       "      <td>NaT</td>\n",
       "      <td>2006-01-13 23:00:00+00:00</td>\n",
       "    </tr>\n",
       "    <tr>\n",
       "      <th>2</th>\n",
       "      <td>Call Centre Agent</td>\n",
       "      <td>register claim</td>\n",
       "      <td>0</td>\n",
       "      <td>2006-01-13 23:00:00+00:00</td>\n",
       "      <td>NaT</td>\n",
       "    </tr>\n",
       "    <tr>\n",
       "      <th>3</th>\n",
       "      <td>Call Centre Agent</td>\n",
       "      <td>register claim</td>\n",
       "      <td>0</td>\n",
       "      <td>NaT</td>\n",
       "      <td>2008-01-29 23:00:00+00:00</td>\n",
       "    </tr>\n",
       "    <tr>\n",
       "      <th>4</th>\n",
       "      <td>Claims handler</td>\n",
       "      <td>determine likelihood of claim</td>\n",
       "      <td>0</td>\n",
       "      <td>2008-01-29 23:00:00+00:00</td>\n",
       "      <td>NaT</td>\n",
       "    </tr>\n",
       "  </tbody>\n",
       "</table>\n",
       "</div>"
      ],
      "text/plain": [
       "        org:resource                                  concept:name  \\\n",
       "0  Call Centre Agent  check if sufficient information is available   \n",
       "1  Call Centre Agent  check if sufficient information is available   \n",
       "2  Call Centre Agent                                register claim   \n",
       "3  Call Centre Agent                                register claim   \n",
       "4     Claims handler                 determine likelihood of claim   \n",
       "\n",
       "  case:concept:name           start_timestamp        complete_timestamp  \n",
       "0                 0 2005-12-31 23:00:00+00:00                       NaT  \n",
       "1                 0                       NaT 2006-01-13 23:00:00+00:00  \n",
       "2                 0 2006-01-13 23:00:00+00:00                       NaT  \n",
       "3                 0                       NaT 2008-01-29 23:00:00+00:00  \n",
       "4                 0 2008-01-29 23:00:00+00:00                       NaT  "
      ]
     },
     "execution_count": 7,
     "metadata": {},
     "output_type": "execute_result"
    }
   ],
   "source": [
    "df.head(5)"
   ]
  },
  {
   "cell_type": "code",
   "execution_count": 8,
   "metadata": {
    "pycharm": {
     "is_executing": true
    }
   },
   "outputs": [],
   "source": [
    "# Grupowanie po pierwszych trzech kolumnach\n",
    "grouped = df.groupby(['org:resource', 'concept:name', 'case:concept:name'], as_index=False)\n",
    "\n",
    "# Agregowanie wartości start_timestamp i complete_timestamp za pomocą funkcji first i last\n",
    "df = grouped.agg({'start_timestamp': 'first', 'complete_timestamp': 'last'})"
   ]
  },
  {
   "cell_type": "code",
   "execution_count": 9,
   "metadata": {
    "pycharm": {
     "is_executing": true
    }
   },
   "outputs": [
    {
     "data": {
      "text/html": [
       "<div>\n",
       "<style scoped>\n",
       "    .dataframe tbody tr th:only-of-type {\n",
       "        vertical-align: middle;\n",
       "    }\n",
       "\n",
       "    .dataframe tbody tr th {\n",
       "        vertical-align: top;\n",
       "    }\n",
       "\n",
       "    .dataframe thead th {\n",
       "        text-align: right;\n",
       "    }\n",
       "</style>\n",
       "<table border=\"1\" class=\"dataframe\">\n",
       "  <thead>\n",
       "    <tr style=\"text-align: right;\">\n",
       "      <th></th>\n",
       "      <th>org:resource</th>\n",
       "      <th>concept:name</th>\n",
       "      <th>case:concept:name</th>\n",
       "      <th>start_timestamp</th>\n",
       "      <th>complete_timestamp</th>\n",
       "    </tr>\n",
       "  </thead>\n",
       "  <tbody>\n",
       "    <tr>\n",
       "      <th>0</th>\n",
       "      <td>Call Centre Agent</td>\n",
       "      <td>check if sufficient information is available</td>\n",
       "      <td>0</td>\n",
       "      <td>2005-12-31 23:00:00+00:00</td>\n",
       "      <td>2006-01-13 23:00:00+00:00</td>\n",
       "    </tr>\n",
       "    <tr>\n",
       "      <th>1</th>\n",
       "      <td>Call Centre Agent</td>\n",
       "      <td>check if sufficient information is available</td>\n",
       "      <td>1</td>\n",
       "      <td>2005-12-31 23:00:00+00:00</td>\n",
       "      <td>2006-03-07 23:00:00+00:00</td>\n",
       "    </tr>\n",
       "    <tr>\n",
       "      <th>2</th>\n",
       "      <td>Call Centre Agent</td>\n",
       "      <td>check if sufficient information is available</td>\n",
       "      <td>10</td>\n",
       "      <td>2006-03-30 23:00:00+00:00</td>\n",
       "      <td>2006-04-09 23:00:00+00:00</td>\n",
       "    </tr>\n",
       "    <tr>\n",
       "      <th>3</th>\n",
       "      <td>Call Centre Agent</td>\n",
       "      <td>check if sufficient information is available</td>\n",
       "      <td>100</td>\n",
       "      <td>2008-07-26 23:00:00+00:00</td>\n",
       "      <td>2008-09-16 23:00:00+00:00</td>\n",
       "    </tr>\n",
       "    <tr>\n",
       "      <th>4</th>\n",
       "      <td>Call Centre Agent</td>\n",
       "      <td>check if sufficient information is available</td>\n",
       "      <td>101</td>\n",
       "      <td>2007-11-13 23:00:00+00:00</td>\n",
       "      <td>2008-01-19 23:00:00+00:00</td>\n",
       "    </tr>\n",
       "  </tbody>\n",
       "</table>\n",
       "</div>"
      ],
      "text/plain": [
       "        org:resource                                  concept:name  \\\n",
       "0  Call Centre Agent  check if sufficient information is available   \n",
       "1  Call Centre Agent  check if sufficient information is available   \n",
       "2  Call Centre Agent  check if sufficient information is available   \n",
       "3  Call Centre Agent  check if sufficient information is available   \n",
       "4  Call Centre Agent  check if sufficient information is available   \n",
       "\n",
       "  case:concept:name           start_timestamp        complete_timestamp  \n",
       "0                 0 2005-12-31 23:00:00+00:00 2006-01-13 23:00:00+00:00  \n",
       "1                 1 2005-12-31 23:00:00+00:00 2006-03-07 23:00:00+00:00  \n",
       "2                10 2006-03-30 23:00:00+00:00 2006-04-09 23:00:00+00:00  \n",
       "3               100 2008-07-26 23:00:00+00:00 2008-09-16 23:00:00+00:00  \n",
       "4               101 2007-11-13 23:00:00+00:00 2008-01-19 23:00:00+00:00  "
      ]
     },
     "execution_count": 9,
     "metadata": {},
     "output_type": "execute_result"
    }
   ],
   "source": [
    "df.head()"
   ]
  },
  {
   "cell_type": "code",
   "execution_count": 10,
   "metadata": {
    "pycharm": {
     "is_executing": true
    }
   },
   "outputs": [
    {
     "name": "stdout",
     "output_type": "stream",
     "text": [
      "['check if sufficient information is available' 'end' 'register claim']\n"
     ]
    }
   ],
   "source": [
    "call_centre_agent = df.loc[df['org:resource'] == 'Call Centre Agent']\n",
    "print(call_centre_agent['concept:name'].unique())"
   ]
  },
  {
   "cell_type": "code",
   "execution_count": 11,
   "metadata": {
    "pycharm": {
     "is_executing": true
    }
   },
   "outputs": [],
   "source": [
    "check_if_sufficient = call_centre_agent.loc[call_centre_agent['concept:name'] == 'check if sufficient information is available']\n",
    "register_claim = call_centre_agent.loc[call_centre_agent['concept:name'] == 'register claim']\n",
    "end = call_centre_agent.loc[call_centre_agent['concept:name'] == 'end']"
   ]
  },
  {
   "cell_type": "code",
   "execution_count": 12,
   "metadata": {
    "pycharm": {
     "is_executing": true
    }
   },
   "outputs": [],
   "source": [
    "def plot_log_times(df):\n",
    "    fig, ax = plt.subplots(figsize=(14,6))\n",
    "    ax.plot(df[['start_timestamp', 'complete_timestamp']], df['case:concept:name'], alpha=0.5, label=['Start_date', 'End_date'])\n",
    "\n",
    "    plt.legend()\n",
    "    plt.show()\n",
    "\n",
    "def plot_only_lines(df: pd.DataFrame, xlim, plot_color: str = 'r'):\n",
    "    for i in range(df.shape[0] - 1):\n",
    "        ax.plot([np.array(df['start_timestamp'])[i], np.array(df['complete_timestamp'])[i]], [np.array(df['case:concept:name'])[i],np.array(df['case:concept:name'])[i]], color=plot_color,alpha=0.7,)\n",
    "    ax.get_yaxis().set_visible(False)\n",
    "    ax.set(xlim=xlim)"
   ]
  },
  {
   "cell_type": "code",
   "execution_count": 13,
   "metadata": {
    "pycharm": {
     "is_executing": true
    }
   },
   "outputs": [
    {
     "data": {
      "image/png": "[encoded data removed]",
      "text/plain": [
       "<Figure size 1008x432 with 1 Axes>"
      ]
     },
     "metadata": {
      "needs_background": "light"
     },
     "output_type": "display_data"
    }
   ],
   "source": [
    "xlim_lower = datetime.strptime('2006-01-01', '%Y-%m-%d')\n",
    "xlim_upper = datetime.strptime('2015-01-01', '%Y-%m-%d')\n",
    "\n",
    "fig, ax = plt.subplots(figsize=[14,6])\n",
    "plot_only_lines(check_if_sufficient, xlim=(xlim_lower, xlim_upper))"
   ]
  },
  {
   "cell_type": "code",
   "execution_count": 14,
   "metadata": {},
   "outputs": [
    {
     "data": {
      "image/png": "[encoded data removed]",
      "text/plain": [
       "<Figure size 1008x432 with 1 Axes>"
      ]
     },
     "metadata": {
      "needs_background": "light"
     },
     "output_type": "display_data"
    }
   ],
   "source": [
    "fig, ax = plt.subplots(figsize=[14,6])\n",
    "plot_only_lines(register_claim, xlim=(xlim_lower, xlim_upper))"
   ]
  },
  {
   "cell_type": "code",
   "execution_count": 15,
   "metadata": {
    "pycharm": {
     "is_executing": true
    }
   },
   "outputs": [
    {
     "name": "stdout",
     "output_type": "stream",
     "text": [
      "['advise claimant on reimbursement' 'assess claim' 'close claim'\n",
      " 'determine likelihood of claim' 'end' 'initiate payment']\n"
     ]
    }
   ],
   "source": [
    "claims_handler = df.loc[df['org:resource'] == 'Claims handler']\n",
    "print(claims_handler['concept:name'].unique())"
   ]
  },
  {
   "cell_type": "code",
   "execution_count": 16,
   "metadata": {
    "pycharm": {
     "is_executing": true
    }
   },
   "outputs": [],
   "source": [
    "assess_claim = claims_handler.loc[claims_handler['concept:name'] == 'assess claim']\n",
    "close_claim = claims_handler.loc[claims_handler['concept:name'] == 'close claim']\n",
    "determine_likelihood = claims_handler.loc[claims_handler['concept:name'] == 'determine likelihood of claim']"
   ]
  },
  {
   "cell_type": "code",
   "execution_count": 17,
   "metadata": {},
   "outputs": [
    {
     "data": {
      "image/png": "[encoded data removed]",
      "text/plain": [
       "<Figure size 1008x432 with 1 Axes>"
      ]
     },
     "metadata": {
      "needs_background": "light"
     },
     "output_type": "display_data"
    }
   ],
   "source": [
    "xlim_lower = datetime.strptime('2006-01-01', '%Y-%m-%d')\n",
    "xlim_upper = datetime.strptime('2019-01-01', '%Y-%m-%d')\n",
    "\n",
    "fig, ax = plt.subplots(figsize=[14,6])\n",
    "plot_only_lines(assess_claim, xlim=(xlim_lower, xlim_upper), plot_color='red')\n",
    "plot_only_lines(close_claim, xlim=(xlim_lower, xlim_upper), plot_color='blue')\n",
    "plot_only_lines(determine_likelihood, xlim=(xlim_lower, xlim_upper), plot_color='black')"
   ]
  },
  {
   "cell_type": "code",
   "execution_count": null,
   "metadata": {},
   "outputs": [],
   "source": []
  }
 ],
 "metadata": {
  "kernelspec": {
   "display_name": "Python 3",
   "language": "python",
   "name": "python3"
  },
  "language_info": {
   "codemirror_mode": {
    "name": "ipython",
    "version": 3
   },
   "file_extension": ".py",
   "mimetype": "text/x-python",
   "name": "python",
   "nbconvert_exporter": "python",
   "pygments_lexer": "ipython3",
   "version": "3.9.2"
  }
 },
 "nbformat": 4,
 "nbformat_minor": 1
}
