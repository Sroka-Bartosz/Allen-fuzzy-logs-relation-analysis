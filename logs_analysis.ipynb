{
 "cells": [
  {
   "cell_type": "markdown",
   "metadata": {},
   "source": [
    "\n",
    "# Trapezoidal method based on mean and standard deviation"
   ]
  },
  {
   "cell_type": "markdown",
   "metadata": {},
   "source": [
    "##  import bibliotek"
   ]
  },
  {
   "cell_type": "code",
   "execution_count": 1,
   "metadata": {
    "pycharm": {
     "is_executing": true
    }
   },
   "outputs": [],
   "source": [
    "import datetime as dt\n",
    "from datetime import datetime\n",
    "from typing import Tuple, List\n",
    "import random\n",
    "import warnings\n",
    "\n",
    "import matplotlib.colors as mcolors\n",
    "import matplotlib.pyplot as plt\n",
    "import numpy as np\n",
    "import pandas as pd\n",
    "import seaborn as sns\n",
    "\n",
    "from copy import deepcopy\n",
    "\n",
    "from pm4py.objects.conversion.log import converter as log_converter\n",
    "from pm4py.objects.log.importer.xes import importer as xes_importer\n",
    "from pm4py import discover_bpmn_inductive\n",
    "\n",
    "warnings.filterwarnings(\"ignore\")\n",
    "\n",
    "from trapezoidal_method import TrapezoidMethod\n",
    "from polynomial_method import PolynomialMethod\n",
    "from relation_matrix import AllenRelationsFinderNaiveMethod\n",
    "import data_preparation as dp\n",
    "import time\n"
   ]
  },
  {
   "cell_type": "markdown",
   "metadata": {},
   "source": [
    "### Załadowanie pliku formatu .xes"
   ]
  },
  {
   "cell_type": "code",
   "execution_count": 2,
   "metadata": {
    "pycharm": {
     "is_executing": true
    }
   },
   "outputs": [
    {
     "data": {
      "application/vnd.jupyter.widget-view+json": {
       "model_id": "8301f2355dd848c3a29cb3b55abe9f58",
       "version_major": 2,
       "version_minor": 0
      },
      "text/plain": [
       "parsing log, completed traces ::   0%|          | 0/132 [00:00<?, ?it/s]"
      ]
     },
     "metadata": {},
     "output_type": "display_data"
    }
   ],
   "source": [
    "log = xes_importer.apply('logs/exercise6.xes')"
   ]
  },
  {
   "cell_type": "markdown",
   "metadata": {},
   "source": [
    "### Przetworzenie logów do pd.Dataframe"
   ]
  },
  {
   "cell_type": "code",
   "execution_count": 3,
   "metadata": {
    "pycharm": {
     "is_executing": true
    }
   },
   "outputs": [],
   "source": [
    "df = log_converter.apply(log, variant=log_converter.Variants.TO_DATA_FRAME)"
   ]
  },
  {
   "cell_type": "markdown",
   "metadata": {},
   "source": [
    "### Podgląd logow znajdujących się w załadowanym pliku"
   ]
  },
  {
   "cell_type": "code",
   "execution_count": 4,
   "metadata": {
    "pycharm": {
     "is_executing": true
    }
   },
   "outputs": [
    {
     "data": {
      "text/html": [
       "<div>\n",
       "<style scoped>\n",
       "    .dataframe tbody tr th:only-of-type {\n",
       "        vertical-align: middle;\n",
       "    }\n",
       "\n",
       "    .dataframe tbody tr th {\n",
       "        vertical-align: top;\n",
       "    }\n",
       "\n",
       "    .dataframe thead th {\n",
       "        text-align: right;\n",
       "    }\n",
       "</style>\n",
       "<table border=\"1\" class=\"dataframe\">\n",
       "  <thead>\n",
       "    <tr style=\"text-align: right;\">\n",
       "      <th></th>\n",
       "      <th>org:resource</th>\n",
       "      <th>time:timestamp</th>\n",
       "      <th>concept:name</th>\n",
       "      <th>lifecycle:transition</th>\n",
       "      <th>case:concept:name</th>\n",
       "    </tr>\n",
       "  </thead>\n",
       "  <tbody>\n",
       "    <tr>\n",
       "      <th>0</th>\n",
       "      <td>Call Centre Agent</td>\n",
       "      <td>2005-12-31 23:00:00+00:00</td>\n",
       "      <td>check if sufficient information is available</td>\n",
       "      <td>start</td>\n",
       "      <td>0</td>\n",
       "    </tr>\n",
       "    <tr>\n",
       "      <th>1</th>\n",
       "      <td>Call Centre Agent</td>\n",
       "      <td>2006-01-13 23:00:00+00:00</td>\n",
       "      <td>check if sufficient information is available</td>\n",
       "      <td>complete</td>\n",
       "      <td>0</td>\n",
       "    </tr>\n",
       "    <tr>\n",
       "      <th>2</th>\n",
       "      <td>Call Centre Agent</td>\n",
       "      <td>2006-01-13 23:00:00+00:00</td>\n",
       "      <td>register claim</td>\n",
       "      <td>start</td>\n",
       "      <td>0</td>\n",
       "    </tr>\n",
       "    <tr>\n",
       "      <th>3</th>\n",
       "      <td>Call Centre Agent</td>\n",
       "      <td>2008-01-29 23:00:00+00:00</td>\n",
       "      <td>register claim</td>\n",
       "      <td>complete</td>\n",
       "      <td>0</td>\n",
       "    </tr>\n",
       "    <tr>\n",
       "      <th>4</th>\n",
       "      <td>Claims handler</td>\n",
       "      <td>2008-01-29 23:00:00+00:00</td>\n",
       "      <td>determine likelihood of claim</td>\n",
       "      <td>start</td>\n",
       "      <td>0</td>\n",
       "    </tr>\n",
       "  </tbody>\n",
       "</table>\n",
       "</div>"
      ],
      "text/plain": [
       "        org:resource            time:timestamp  \\\n",
       "0  Call Centre Agent 2005-12-31 23:00:00+00:00   \n",
       "1  Call Centre Agent 2006-01-13 23:00:00+00:00   \n",
       "2  Call Centre Agent 2006-01-13 23:00:00+00:00   \n",
       "3  Call Centre Agent 2008-01-29 23:00:00+00:00   \n",
       "4     Claims handler 2008-01-29 23:00:00+00:00   \n",
       "\n",
       "                                   concept:name lifecycle:transition  \\\n",
       "0  check if sufficient information is available                start   \n",
       "1  check if sufficient information is available             complete   \n",
       "2                                register claim                start   \n",
       "3                                register claim             complete   \n",
       "4                 determine likelihood of claim                start   \n",
       "\n",
       "  case:concept:name  \n",
       "0                 0  \n",
       "1                 0  \n",
       "2                 0  \n",
       "3                 0  \n",
       "4                 0  "
      ]
     },
     "execution_count": 4,
     "metadata": {},
     "output_type": "execute_result"
    }
   ],
   "source": [
    "df.head()"
   ]
  },
  {
   "cell_type": "code",
   "execution_count": 5,
   "metadata": {
    "pycharm": {
     "is_executing": true
    }
   },
   "outputs": [
    {
     "name": "stdout",
     "output_type": "stream",
     "text": [
      "lifecycle:transition\n",
      "complete    821\n",
      "start       821\n",
      "Name: lifecycle:transition, dtype: int64\n"
     ]
    }
   ],
   "source": [
    "print(df.groupby(['lifecycle:transition'])['lifecycle:transition'].count())"
   ]
  },
  {
   "cell_type": "markdown",
   "metadata": {},
   "source": [
    "### Zamiana logów na format zawierający star_timestamp oraz complete_timestamp"
   ]
  },
  {
   "cell_type": "code",
   "execution_count": 6,
   "metadata": {
    "pycharm": {
     "is_executing": true
    }
   },
   "outputs": [
    {
     "data": {
      "text/html": [
       "<div>\n",
       "<style scoped>\n",
       "    .dataframe tbody tr th:only-of-type {\n",
       "        vertical-align: middle;\n",
       "    }\n",
       "\n",
       "    .dataframe tbody tr th {\n",
       "        vertical-align: top;\n",
       "    }\n",
       "\n",
       "    .dataframe thead th {\n",
       "        text-align: right;\n",
       "    }\n",
       "</style>\n",
       "<table border=\"1\" class=\"dataframe\">\n",
       "  <thead>\n",
       "    <tr style=\"text-align: right;\">\n",
       "      <th></th>\n",
       "      <th>org:resource</th>\n",
       "      <th>concept:name</th>\n",
       "      <th>case:concept:name</th>\n",
       "      <th>start_timestamp</th>\n",
       "      <th>complete_timestamp</th>\n",
       "    </tr>\n",
       "  </thead>\n",
       "  <tbody>\n",
       "    <tr>\n",
       "      <th>0</th>\n",
       "      <td>Call Centre Agent</td>\n",
       "      <td>check if sufficient information is available</td>\n",
       "      <td>0</td>\n",
       "      <td>2005-12-31 23:00:00+00:00</td>\n",
       "      <td>2006-01-13 23:00:00+00:00</td>\n",
       "    </tr>\n",
       "    <tr>\n",
       "      <th>1</th>\n",
       "      <td>Call Centre Agent</td>\n",
       "      <td>check if sufficient information is available</td>\n",
       "      <td>1</td>\n",
       "      <td>2005-12-31 23:00:00+00:00</td>\n",
       "      <td>2006-03-07 23:00:00+00:00</td>\n",
       "    </tr>\n",
       "    <tr>\n",
       "      <th>2</th>\n",
       "      <td>Call Centre Agent</td>\n",
       "      <td>check if sufficient information is available</td>\n",
       "      <td>10</td>\n",
       "      <td>2006-03-30 23:00:00+00:00</td>\n",
       "      <td>2006-04-09 23:00:00+00:00</td>\n",
       "    </tr>\n",
       "    <tr>\n",
       "      <th>3</th>\n",
       "      <td>Call Centre Agent</td>\n",
       "      <td>check if sufficient information is available</td>\n",
       "      <td>100</td>\n",
       "      <td>2008-07-26 23:00:00+00:00</td>\n",
       "      <td>2008-09-16 23:00:00+00:00</td>\n",
       "    </tr>\n",
       "    <tr>\n",
       "      <th>4</th>\n",
       "      <td>Call Centre Agent</td>\n",
       "      <td>check if sufficient information is available</td>\n",
       "      <td>101</td>\n",
       "      <td>2007-11-13 23:00:00+00:00</td>\n",
       "      <td>2008-01-19 23:00:00+00:00</td>\n",
       "    </tr>\n",
       "  </tbody>\n",
       "</table>\n",
       "</div>"
      ],
      "text/plain": [
       "        org:resource                                  concept:name  \\\n",
       "0  Call Centre Agent  check if sufficient information is available   \n",
       "1  Call Centre Agent  check if sufficient information is available   \n",
       "2  Call Centre Agent  check if sufficient information is available   \n",
       "3  Call Centre Agent  check if sufficient information is available   \n",
       "4  Call Centre Agent  check if sufficient information is available   \n",
       "\n",
       "  case:concept:name           start_timestamp        complete_timestamp  \n",
       "0                 0 2005-12-31 23:00:00+00:00 2006-01-13 23:00:00+00:00  \n",
       "1                 1 2005-12-31 23:00:00+00:00 2006-03-07 23:00:00+00:00  \n",
       "2                10 2006-03-30 23:00:00+00:00 2006-04-09 23:00:00+00:00  \n",
       "3               100 2008-07-26 23:00:00+00:00 2008-09-16 23:00:00+00:00  \n",
       "4               101 2007-11-13 23:00:00+00:00 2008-01-19 23:00:00+00:00  "
      ]
     },
     "execution_count": 6,
     "metadata": {},
     "output_type": "execute_result"
    }
   ],
   "source": [
    "df = dp.prepare_logs(df=df, status='lifecycle:transition', timestamp='time:timestamp',status_cols=df['lifecycle:transition'].unique())\n",
    "df.head()"
   ]
  },
  {
   "cell_type": "code",
   "execution_count": 7,
   "metadata": {
    "pycharm": {
     "is_executing": true
    }
   },
   "outputs": [],
   "source": [
    "Texercise6 = TrapezoidMethod(logs=df, \n",
    "                             case_id_column_name='case:concept:name', \n",
    "                             task_column_name='concept:name', \n",
    "                             instance_column_name='org:resource',\n",
    "                             start_timestamp_column_name='start_timestamp', \n",
    "                             complete_timestamp_column_name='complete_timestamp')\n"
   ]
  },
  {
   "cell_type": "code",
   "execution_count": 8,
   "metadata": {
    "pycharm": {
     "is_executing": true
    }
   },
   "outputs": [
    {
     "data": {
      "image/png": "[encoded data removed]",
      "text/plain": [
       "<Figure size 1008x432 with 1 Axes>"
      ]
     },
     "metadata": {
      "needs_background": "light"
     },
     "output_type": "display_data"
    }
   ],
   "source": [
    "Texercise6.plot_all_tasks()"
   ]
  },
  {
   "cell_type": "code",
   "execution_count": 9,
   "metadata": {
    "pycharm": {
     "is_executing": true
    }
   },
   "outputs": [
    {
     "data": {
      "image/png": "[encoded data removed]",
      "text/plain": [
       "<Figure size 1008x432 with 1 Axes>"
      ]
     },
     "metadata": {
      "needs_background": "light"
     },
     "output_type": "display_data"
    },
    {
     "data": {
      "image/png": "[encoded data removed]",
      "text/plain": [
       "<Figure size 1008x432 with 1 Axes>"
      ]
     },
     "metadata": {
      "needs_background": "light"
     },
     "output_type": "display_data"
    },
    {
     "data": {
      "image/png": "[encoded data removed]",
      "text/plain": [
       "<Figure size 1008x432 with 1 Axes>"
      ]
     },
     "metadata": {
      "needs_background": "light"
     },
     "output_type": "display_data"
    },
    {
     "name": "stdout",
     "output_type": "stream",
     "text": [
      "= = = = = = = = = = = = = = = = = = = = = = = = = = = = = = = = = = = = = = = = = = = = = \n",
      "check if sufficient information is available area:\u001b[1m 5360.1 \u001b[0m\n",
      "assess claim area:\u001b[1m 126479.58 \u001b[0m\n",
      "splot area:\u001b[1m 0.0 \u001b[0m\n",
      "\n",
      "splot/task1:\u001b[1m 0 % \u001b[0m\n",
      "splot/task2:\u001b[1m 0 % \u001b[0m\n",
      "\n"
     ]
    },
    {
     "data": {
      "text/plain": [
       "['meets', 'before']"
      ]
     },
     "execution_count": 9,
     "metadata": {},
     "output_type": "execute_result"
    }
   ],
   "source": [
    "Texercise6.core_metod(first_task=Texercise6.list_of_tasks[0],\n",
    "                      second_task=Texercise6.list_of_tasks[4],\n",
    "#                       instance='Call Centre Agent',\n",
    "                      plot_results=True,\n",
    "                      plot_steps=True,\n",
    "                      print_results=True)"
   ]
  },
  {
   "cell_type": "code",
   "execution_count": 10,
   "metadata": {
    "pycharm": {
     "is_executing": true
    }
   },
   "outputs": [
    {
     "name": "stdout",
     "output_type": "stream",
     "text": [
      "= = = = = = = = = = = = = = = = = = = = = = = = = = = = = = = = = = = = = = = = = = = = = \n",
      "determine likelihood of claim area:\u001b[1m 3281.0 \u001b[0m\n",
      "assess claim area:\u001b[1m 88574.37 \u001b[0m\n",
      "splot area:\u001b[1m 0.0 \u001b[0m\n",
      "\n",
      "splot/task1:\u001b[1m 0 % \u001b[0m\n",
      "splot/task2:\u001b[1m 0 % \u001b[0m\n",
      "\n",
      "possible relations:  ['meets', 'before']\n",
      "= = = = = = = = = = = = = = = = = = = = = = = = = = = = = = = = = = = = = = = = = = = = = \n",
      "determine likelihood of claim area:\u001b[1m 3281.0 \u001b[0m\n",
      "advise claimant on reimbursement area:\u001b[1m 63240.76 \u001b[0m\n",
      "splot area:\u001b[1m 0.0 \u001b[0m\n",
      "\n",
      "splot/task1:\u001b[1m 0 % \u001b[0m\n",
      "splot/task2:\u001b[1m 0 % \u001b[0m\n",
      "\n",
      "possible relations:  ['meets', 'before']\n",
      "= = = = = = = = = = = = = = = = = = = = = = = = = = = = = = = = = = = = = = = = = = = = = \n",
      "determine likelihood of claim area:\u001b[1m 3281.0 \u001b[0m\n",
      "initiate payment area:\u001b[1m 59795.08 \u001b[0m\n",
      "splot area:\u001b[1m 0.0 \u001b[0m\n",
      "\n",
      "splot/task1:\u001b[1m 0 % \u001b[0m\n",
      "splot/task2:\u001b[1m 0 % \u001b[0m\n",
      "\n",
      "possible relations:  ['meets', 'before']\n",
      "= = = = = = = = = = = = = = = = = = = = = = = = = = = = = = = = = = = = = = = = = = = = = \n",
      "determine likelihood of claim area:\u001b[1m 3281.0 \u001b[0m\n",
      "close claim area:\u001b[1m 54178.61 \u001b[0m\n",
      "splot area:\u001b[1m 0.0 \u001b[0m\n",
      "\n",
      "splot/task1:\u001b[1m 0 % \u001b[0m\n",
      "splot/task2:\u001b[1m 0 % \u001b[0m\n",
      "\n",
      "possible relations:  ['meets', 'before']\n",
      "= = = = = = = = = = = = = = = = = = = = = = = = = = = = = = = = = = = = = = = = = = = = = \n",
      "assess claim area:\u001b[1m 88673.37 \u001b[0m\n",
      "advise claimant on reimbursement area:\u001b[1m 23821.76 \u001b[0m\n",
      "splot area:\u001b[1m 770.95 \u001b[0m\n",
      "\n",
      "splot/task1:\u001b[1m 1 % \u001b[0m\n",
      "splot/task2:\u001b[1m 3 % \u001b[0m\n",
      "\n",
      "possible relations:  ['meets', 'starts', 'overlaps']\n",
      "= = = = = = = = = = = = = = = = = = = = = = = = = = = = = = = = = = = = = = = = = = = = = \n",
      "assess claim area:\u001b[1m 88673.37 \u001b[0m\n",
      "initiate payment area:\u001b[1m 22058.59 \u001b[0m\n",
      "splot area:\u001b[1m 435.35 \u001b[0m\n",
      "\n",
      "splot/task1:\u001b[1m 0 % \u001b[0m\n",
      "splot/task2:\u001b[1m 2 % \u001b[0m\n",
      "\n",
      "possible relations:  ['meets', 'starts', 'overlaps']\n",
      "= = = = = = = = = = = = = = = = = = = = = = = = = = = = = = = = = = = = = = = = = = = = = \n",
      "assess claim area:\u001b[1m 88673.37 \u001b[0m\n",
      "close claim area:\u001b[1m 16841.23 \u001b[0m\n",
      "splot area:\u001b[1m 0.0 \u001b[0m\n",
      "\n",
      "splot/task1:\u001b[1m 0 % \u001b[0m\n",
      "splot/task2:\u001b[1m 0 % \u001b[0m\n",
      "\n",
      "possible relations:  ['meets', 'before']\n",
      "= = = = = = = = = = = = = = = = = = = = = = = = = = = = = = = = = = = = = = = = = = = = = \n",
      "advise claimant on reimbursement area:\u001b[1m 20708.57 \u001b[0m\n",
      "initiate payment area:\u001b[1m 19025.94 \u001b[0m\n",
      "splot area:\u001b[1m 12498.01 \u001b[0m\n",
      "\n",
      "splot/task1:\u001b[1m 60 % \u001b[0m\n",
      "splot/task2:\u001b[1m 66 % \u001b[0m\n",
      "\n",
      "possible relations:  ['meets', 'starts', 'overlaps']\n",
      "= = = = = = = = = = = = = = = = = = = = = = = = = = = = = = = = = = = = = = = = = = = = = \n",
      "advise claimant on reimbursement area:\u001b[1m 20708.57 \u001b[0m\n",
      "close claim area:\u001b[1m 11189.63 \u001b[0m\n",
      "splot area:\u001b[1m 2106.1 \u001b[0m\n",
      "\n",
      "splot/task1:\u001b[1m 10 % \u001b[0m\n",
      "splot/task2:\u001b[1m 19 % \u001b[0m\n",
      "\n",
      "possible relations:  ['meets', 'starts', 'overlaps']\n",
      "= = = = = = = = = = = = = = = = = = = = = = = = = = = = = = = = = = = = = = = = = = = = = \n",
      "initiate payment area:\u001b[1m 11056.38 \u001b[0m\n",
      "close claim area:\u001b[1m 8784.71 \u001b[0m\n",
      "splot area:\u001b[1m 1458.05 \u001b[0m\n",
      "\n",
      "splot/task1:\u001b[1m 13 % \u001b[0m\n",
      "splot/task2:\u001b[1m 17 % \u001b[0m\n",
      "\n",
      "possible relations:  ['meets', 'starts', 'overlaps']\n"
     ]
    }
   ],
   "source": [
    "tasks = ['determine likelihood of claim', 'assess claim', 'advise claimant on reimbursement', 'initiate payment', 'close claim']\n",
    "for i in range(len(tasks)):\n",
    "    for j in range(i + 1, len(tasks)):\n",
    "        print('possible relations: ', \n",
    "              Texercise6.core_metod(first_task=tasks[j],\n",
    "                                    second_task=tasks[i],\n",
    "                                    instance='Claims handler',\n",
    "    #                                 plot_results=True,\n",
    "    #                                 plot_steps=True,\n",
    "                                    print_results=True))"
   ]
  },
  {
   "cell_type": "markdown",
   "metadata": {},
   "source": [
    "# Test random logs generator"
   ]
  },
  {
   "cell_type": "code",
   "execution_count": 11,
   "metadata": {
    "pycharm": {
     "is_executing": true
    }
   },
   "outputs": [
    {
     "name": "stdout",
     "output_type": "stream",
     "text": [
      "Generate relation 'A' overlaps 'B' \n",
      "39.1%"
     ]
    },
    {
     "ename": "KeyboardInterrupt",
     "evalue": "",
     "output_type": "error",
     "traceback": [
      "\u001b[1;31m---------------------------------------------------------------------------\u001b[0m",
      "\u001b[1;31mKeyboardInterrupt\u001b[0m                         Traceback (most recent call last)",
      "\u001b[1;32m<ipython-input-11-1b90594b4b05>\u001b[0m in \u001b[0;36m<module>\u001b[1;34m\u001b[0m\n\u001b[0;32m      1\u001b[0m \u001b[1;32mfrom\u001b[0m \u001b[0mlogs_generator\u001b[0m \u001b[1;32mimport\u001b[0m \u001b[0mgenerate_logs\u001b[0m\u001b[1;33m\u001b[0m\u001b[1;33m\u001b[0m\u001b[0m\n\u001b[1;32m----> 2\u001b[1;33m \u001b[0mgenerated_logs\u001b[0m \u001b[1;33m=\u001b[0m \u001b[0mgenerate_logs\u001b[0m\u001b[1;33m(\u001b[0m\u001b[1;34m'overlaps'\u001b[0m\u001b[1;33m)\u001b[0m\u001b[1;33m\u001b[0m\u001b[1;33m\u001b[0m\u001b[0m\n\u001b[0m",
      "\u001b[1;32m~\\Desktop\\MiAPB\\Allen-fuzzy-logs-relation-analysis\\logs_generator.py\u001b[0m in \u001b[0;36mgenerate_logs\u001b[1;34m(logs_generation_type)\u001b[0m\n\u001b[0;32m    309\u001b[0m \u001b[1;33m\u001b[0m\u001b[0m\n\u001b[0;32m    310\u001b[0m     \u001b[0mLogsGenerator\u001b[0m \u001b[1;33m=\u001b[0m \u001b[0mcreate_logs_generator\u001b[0m\u001b[1;33m(\u001b[0m\u001b[0mlogs_generation_type\u001b[0m\u001b[1;33m,\u001b[0m \u001b[0mparams\u001b[0m\u001b[1;33m=\u001b[0m\u001b[0mconfig\u001b[0m\u001b[1;33m)\u001b[0m\u001b[1;33m\u001b[0m\u001b[1;33m\u001b[0m\u001b[0m\n\u001b[1;32m--> 311\u001b[1;33m     \u001b[1;32mreturn\u001b[0m \u001b[0mLogsGenerator\u001b[0m\u001b[1;33m.\u001b[0m\u001b[0mmake_logs\u001b[0m\u001b[1;33m(\u001b[0m\u001b[1;33m)\u001b[0m\u001b[1;33m\u001b[0m\u001b[1;33m\u001b[0m\u001b[0m\n\u001b[0m",
      "\u001b[1;32m~\\Desktop\\MiAPB\\Allen-fuzzy-logs-relation-analysis\\logs_generator.py\u001b[0m in \u001b[0;36mmake_logs\u001b[1;34m(self)\u001b[0m\n\u001b[0;32m    215\u001b[0m             \u001b[0mcomplete_b\u001b[0m \u001b[1;33m=\u001b[0m \u001b[0mstart_b\u001b[0m \u001b[1;33m+\u001b[0m \u001b[1;33m(\u001b[0m\u001b[1;36m1\u001b[0m \u001b[1;33m+\u001b[0m \u001b[0mself\u001b[0m\u001b[1;33m.\u001b[0m\u001b[0mcalc_scale\u001b[0m\u001b[1;33m(\u001b[0m\u001b[1;33m)\u001b[0m\u001b[1;33m)\u001b[0m \u001b[1;33m*\u001b[0m \u001b[0mself\u001b[0m\u001b[1;33m.\u001b[0m\u001b[0msecond_task_duration\u001b[0m \u001b[1;33m*\u001b[0m \u001b[0mduration\u001b[0m\u001b[1;33m\u001b[0m\u001b[1;33m\u001b[0m\u001b[0m\n\u001b[0;32m    216\u001b[0m \u001b[1;33m\u001b[0m\u001b[0m\n\u001b[1;32m--> 217\u001b[1;33m             self.generated_df = self.generated_df.append(\n\u001b[0m\u001b[0;32m    218\u001b[0m                 \u001b[1;33m{\u001b[0m\u001b[1;34m'case_id'\u001b[0m\u001b[1;33m:\u001b[0m \u001b[0mi\u001b[0m\u001b[1;33m,\u001b[0m \u001b[1;34m'task_name'\u001b[0m\u001b[1;33m:\u001b[0m \u001b[1;34m'A'\u001b[0m\u001b[1;33m,\u001b[0m \u001b[1;34m'start_timestamp'\u001b[0m\u001b[1;33m:\u001b[0m \u001b[0mstart_a\u001b[0m\u001b[1;33m,\u001b[0m \u001b[1;34m'complete_timestamp'\u001b[0m\u001b[1;33m:\u001b[0m \u001b[0mcomplete_a\u001b[0m\u001b[1;33m}\u001b[0m\u001b[1;33m,\u001b[0m\u001b[1;33m\u001b[0m\u001b[1;33m\u001b[0m\u001b[0m\n\u001b[0;32m    219\u001b[0m                 ignore_index=True)\n",
      "\u001b[1;32mc:\\users\\sroka\\appdata\\local\\programs\\python\\python39-64\\lib\\site-packages\\pandas\\core\\frame.py\u001b[0m in \u001b[0;36mappend\u001b[1;34m(self, other, ignore_index, verify_integrity, sort)\u001b[0m\n\u001b[0;32m   9763\u001b[0m         )\n\u001b[0;32m   9764\u001b[0m \u001b[1;33m\u001b[0m\u001b[0m\n\u001b[1;32m-> 9765\u001b[1;33m         \u001b[1;32mreturn\u001b[0m \u001b[0mself\u001b[0m\u001b[1;33m.\u001b[0m\u001b[0m_append\u001b[0m\u001b[1;33m(\u001b[0m\u001b[0mother\u001b[0m\u001b[1;33m,\u001b[0m \u001b[0mignore_index\u001b[0m\u001b[1;33m,\u001b[0m \u001b[0mverify_integrity\u001b[0m\u001b[1;33m,\u001b[0m \u001b[0msort\u001b[0m\u001b[1;33m)\u001b[0m\u001b[1;33m\u001b[0m\u001b[1;33m\u001b[0m\u001b[0m\n\u001b[0m\u001b[0;32m   9766\u001b[0m \u001b[1;33m\u001b[0m\u001b[0m\n\u001b[0;32m   9767\u001b[0m     def _append(\n",
      "\u001b[1;32mc:\\users\\sroka\\appdata\\local\\programs\\python\\python39-64\\lib\\site-packages\\pandas\\core\\frame.py\u001b[0m in \u001b[0;36m_append\u001b[1;34m(self, other, ignore_index, verify_integrity, sort)\u001b[0m\n\u001b[0;32m   9803\u001b[0m             \u001b[0mto_concat\u001b[0m \u001b[1;33m=\u001b[0m \u001b[1;33m[\u001b[0m\u001b[0mself\u001b[0m\u001b[1;33m,\u001b[0m \u001b[0mother\u001b[0m\u001b[1;33m]\u001b[0m\u001b[1;33m\u001b[0m\u001b[1;33m\u001b[0m\u001b[0m\n\u001b[0;32m   9804\u001b[0m \u001b[1;33m\u001b[0m\u001b[0m\n\u001b[1;32m-> 9805\u001b[1;33m         result = concat(\n\u001b[0m\u001b[0;32m   9806\u001b[0m             \u001b[0mto_concat\u001b[0m\u001b[1;33m,\u001b[0m\u001b[1;33m\u001b[0m\u001b[1;33m\u001b[0m\u001b[0m\n\u001b[0;32m   9807\u001b[0m             \u001b[0mignore_index\u001b[0m\u001b[1;33m=\u001b[0m\u001b[0mignore_index\u001b[0m\u001b[1;33m,\u001b[0m\u001b[1;33m\u001b[0m\u001b[1;33m\u001b[0m\u001b[0m\n",
      "\u001b[1;32mc:\\users\\sroka\\appdata\\local\\programs\\python\\python39-64\\lib\\site-packages\\pandas\\util\\_decorators.py\u001b[0m in \u001b[0;36mwrapper\u001b[1;34m(*args, **kwargs)\u001b[0m\n\u001b[0;32m    329\u001b[0m                     \u001b[0mstacklevel\u001b[0m\u001b[1;33m=\u001b[0m\u001b[0mfind_stack_level\u001b[0m\u001b[1;33m(\u001b[0m\u001b[1;33m)\u001b[0m\u001b[1;33m,\u001b[0m\u001b[1;33m\u001b[0m\u001b[1;33m\u001b[0m\u001b[0m\n\u001b[0;32m    330\u001b[0m                 )\n\u001b[1;32m--> 331\u001b[1;33m             \u001b[1;32mreturn\u001b[0m \u001b[0mfunc\u001b[0m\u001b[1;33m(\u001b[0m\u001b[1;33m*\u001b[0m\u001b[0margs\u001b[0m\u001b[1;33m,\u001b[0m \u001b[1;33m**\u001b[0m\u001b[0mkwargs\u001b[0m\u001b[1;33m)\u001b[0m\u001b[1;33m\u001b[0m\u001b[1;33m\u001b[0m\u001b[0m\n\u001b[0m\u001b[0;32m    332\u001b[0m \u001b[1;33m\u001b[0m\u001b[0m\n\u001b[0;32m    333\u001b[0m         \u001b[1;31m# error: \"Callable[[VarArg(Any), KwArg(Any)], Any]\" has no\u001b[0m\u001b[1;33m\u001b[0m\u001b[1;33m\u001b[0m\u001b[1;33m\u001b[0m\u001b[0m\n",
      "\u001b[1;32mc:\\users\\sroka\\appdata\\local\\programs\\python\\python39-64\\lib\\site-packages\\pandas\\core\\reshape\\concat.py\u001b[0m in \u001b[0;36mconcat\u001b[1;34m(objs, axis, join, ignore_index, keys, levels, names, verify_integrity, sort, copy)\u001b[0m\n\u001b[0;32m    379\u001b[0m     )\n\u001b[0;32m    380\u001b[0m \u001b[1;33m\u001b[0m\u001b[0m\n\u001b[1;32m--> 381\u001b[1;33m     \u001b[1;32mreturn\u001b[0m \u001b[0mop\u001b[0m\u001b[1;33m.\u001b[0m\u001b[0mget_result\u001b[0m\u001b[1;33m(\u001b[0m\u001b[1;33m)\u001b[0m\u001b[1;33m\u001b[0m\u001b[1;33m\u001b[0m\u001b[0m\n\u001b[0m\u001b[0;32m    382\u001b[0m \u001b[1;33m\u001b[0m\u001b[0m\n\u001b[0;32m    383\u001b[0m \u001b[1;33m\u001b[0m\u001b[0m\n",
      "\u001b[1;32mc:\\users\\sroka\\appdata\\local\\programs\\python\\python39-64\\lib\\site-packages\\pandas\\core\\reshape\\concat.py\u001b[0m in \u001b[0;36mget_result\u001b[1;34m(self)\u001b[0m\n\u001b[0;32m    614\u001b[0m                 \u001b[0mmgrs_indexers\u001b[0m\u001b[1;33m.\u001b[0m\u001b[0mappend\u001b[0m\u001b[1;33m(\u001b[0m\u001b[1;33m(\u001b[0m\u001b[0mobj\u001b[0m\u001b[1;33m.\u001b[0m\u001b[0m_mgr\u001b[0m\u001b[1;33m,\u001b[0m \u001b[0mindexers\u001b[0m\u001b[1;33m)\u001b[0m\u001b[1;33m)\u001b[0m\u001b[1;33m\u001b[0m\u001b[1;33m\u001b[0m\u001b[0m\n\u001b[0;32m    615\u001b[0m \u001b[1;33m\u001b[0m\u001b[0m\n\u001b[1;32m--> 616\u001b[1;33m             new_data = concatenate_managers(\n\u001b[0m\u001b[0;32m    617\u001b[0m                 \u001b[0mmgrs_indexers\u001b[0m\u001b[1;33m,\u001b[0m \u001b[0mself\u001b[0m\u001b[1;33m.\u001b[0m\u001b[0mnew_axes\u001b[0m\u001b[1;33m,\u001b[0m \u001b[0mconcat_axis\u001b[0m\u001b[1;33m=\u001b[0m\u001b[0mself\u001b[0m\u001b[1;33m.\u001b[0m\u001b[0mbm_axis\u001b[0m\u001b[1;33m,\u001b[0m \u001b[0mcopy\u001b[0m\u001b[1;33m=\u001b[0m\u001b[0mself\u001b[0m\u001b[1;33m.\u001b[0m\u001b[0mcopy\u001b[0m\u001b[1;33m\u001b[0m\u001b[1;33m\u001b[0m\u001b[0m\n\u001b[0;32m    618\u001b[0m             )\n",
      "\u001b[1;32mc:\\users\\sroka\\appdata\\local\\programs\\python\\python39-64\\lib\\site-packages\\pandas\\core\\internals\\concat.py\u001b[0m in \u001b[0;36mconcatenate_managers\u001b[1;34m(mgrs_indexers, axes, concat_axis, copy)\u001b[0m\n\u001b[0;32m    221\u001b[0m                 \u001b[1;31m#  we can use np.concatenate, which is more performant\u001b[0m\u001b[1;33m\u001b[0m\u001b[1;33m\u001b[0m\u001b[1;33m\u001b[0m\u001b[0m\n\u001b[0;32m    222\u001b[0m                 \u001b[1;31m#  than concat_compat\u001b[0m\u001b[1;33m\u001b[0m\u001b[1;33m\u001b[0m\u001b[1;33m\u001b[0m\u001b[0m\n\u001b[1;32m--> 223\u001b[1;33m                 \u001b[0mvalues\u001b[0m \u001b[1;33m=\u001b[0m \u001b[0mnp\u001b[0m\u001b[1;33m.\u001b[0m\u001b[0mconcatenate\u001b[0m\u001b[1;33m(\u001b[0m\u001b[0mvals\u001b[0m\u001b[1;33m,\u001b[0m \u001b[0maxis\u001b[0m\u001b[1;33m=\u001b[0m\u001b[1;36m1\u001b[0m\u001b[1;33m)\u001b[0m\u001b[1;33m\u001b[0m\u001b[1;33m\u001b[0m\u001b[0m\n\u001b[0m\u001b[0;32m    224\u001b[0m             \u001b[1;32melse\u001b[0m\u001b[1;33m:\u001b[0m\u001b[1;33m\u001b[0m\u001b[1;33m\u001b[0m\u001b[0m\n\u001b[0;32m    225\u001b[0m                 \u001b[1;31m# TODO(EA2D): special-casing not needed with 2D EAs\u001b[0m\u001b[1;33m\u001b[0m\u001b[1;33m\u001b[0m\u001b[1;33m\u001b[0m\u001b[0m\n",
      "\u001b[1;32m~\\AppData\\Roaming\\Python\\Python39\\site-packages\\numpy\\core\\overrides.py\u001b[0m in \u001b[0;36mconcatenate\u001b[1;34m(*args, **kwargs)\u001b[0m\n",
      "\u001b[1;31mKeyboardInterrupt\u001b[0m: "
     ]
    }
   ],
   "source": [
    "from logs_generator import generate_logs\n",
    "generated_logs = generate_logs('overlaps')"
   ]
  },
  {
   "cell_type": "code",
   "execution_count": null,
   "metadata": {
    "pycharm": {
     "is_executing": true
    }
   },
   "outputs": [],
   "source": [
    "list_of_times_trapezoid_method = []\n",
    "list_of_times_polynomial_method = []\n",
    "list_of_times_relation_matrix_method = []\n",
    "\n",
    "list_of_fraction = [x for x in np.logspace(-2, 0, 100) if x > 0.01]\n",
    "for frac in list_of_fraction:\n",
    "    sampled_logs = generated_logs[generated_logs['case_id'].isin(pd.Series(generated_logs['case_id'].unique()).sample(frac=frac, random_state=0))]\n",
    "    \n",
    "    # Trapezoid method:\n",
    "    t = TrapezoidMethod(logs=sampled_logs)\n",
    "    \n",
    "    start_time_t = time.time()\n",
    "    t.core_metod('A', 'B')\n",
    "    list_of_times_trapezoid_method.append(time.time() - start_time_t)\n",
    "    \n",
    "    # Polynomail method:\n",
    "    p = PolynomialMethod(logs=sampled_logs)\n",
    "    \n",
    "    start_time_p = time.time()\n",
    "    p.core_metod('A', 'B')\n",
    "    list_of_times_polynomial_method.append(time.time() - start_time_p)\n",
    "    \n",
    "    # Relation matrix method\n",
    "    rm = AllenRelationsFinderNaiveMethod(logs=sampled_logs)\n",
    "    \n",
    "    start_time_rm = time.time()\n",
    "    relation_matrix = rm.create_relation_matrix(number_of_following_tasks_considered=1)\n",
    "    founded_relations = rm.find_relations(relation_threshold=0.7)\n",
    "    list_of_times_relation_matrix_method.append(time.time() - start_time_rm)\n",
    "    \n",
    "    # progress bar\n",
    "    print(\"\\r{} %\".format(round(100 * list_of_fraction.index(frac)/len(list_of_fraction)),2), end='')\n",
    "print('\\r       ', end='')"
   ]
  },
  {
   "cell_type": "code",
   "execution_count": null,
   "metadata": {
    "pycharm": {
     "is_executing": true
    }
   },
   "outputs": [],
   "source": [
    "n_task = t.number_of_traces['A']\n",
    "_, ax = plt.subplots(nrows=1, ncols=1, figsize=[12,6])\n",
    "ax.plot([n_task * _ for _ in list_of_fraction], list_of_times_trapezoid_method, label='trapezoid_method')\n",
    "ax.plot([n_task * _ for _ in list_of_fraction], list_of_times_polynomial_method, label='polynomial_method')\n",
    "ax.plot([n_task * _ for _ in list_of_fraction], list_of_times_relation_matrix_method, label='relation_matrix_method')\n",
    "ax.set(xlabel='number of traces', ylabel='Time [s]')\n",
    "ax.grid()\n",
    "plt.legend()\n",
    "plt.title('Wykres czasów trwania metod dla 10000 zadań')\n",
    "plt.tight_layout()\n",
    "plt.show()"
   ]
  },
  {
   "cell_type": "code",
   "execution_count": null,
   "metadata": {
    "pycharm": {
     "is_executing": true
    }
   },
   "outputs": [],
   "source": [
    "df_reviewing = pd.read_csv('logs/reviewing.csv')\n",
    "df_reviewing['start_timestamp'] = pd.to_datetime(df_reviewing['Start Timestamp'])\n",
    "df_reviewing['complete_timestamp'] = pd.to_datetime(df_reviewing['Complete Timestamp'])\n",
    "df_reviewing.head()"
   ]
  },
  {
   "cell_type": "code",
   "execution_count": null,
   "metadata": {
    "pycharm": {
     "is_executing": true
    }
   },
   "outputs": [],
   "source": [
    "Treviewing = TrapezoidMethod(logs=df_reviewing, \n",
    "                             case_id_column_name='Case ID', \n",
    "                             task_column_name='Activity', \n",
    "                             instance_column_name='Variant')\n",
    "\n",
    "Previewing = PolynomialMethod(logs=df_reviewing, \n",
    "                             case_id_text='Case ID', \n",
    "                             task_text='Activity', \n",
    "                             instance_text='Variant')"
   ]
  },
  {
   "cell_type": "code",
   "execution_count": null,
   "metadata": {
    "pycharm": {
     "is_executing": true
    }
   },
   "outputs": [],
   "source": [
    "Treviewing.list_of_tasks"
   ]
  },
  {
   "cell_type": "code",
   "execution_count": null,
   "metadata": {
    "pycharm": {
     "is_executing": true
    }
   },
   "outputs": [],
   "source": [
    "tasks = [task for task in df_reviewing[df_reviewing['Variant'] == 'Variant 5']['Activity'].unique() if task not in ['get review 2', 'get review 3','get review 1']]\n",
    "print(tasks)\n",
    "for i in range(len(tasks)):\n",
    "    for j in range(i + 1, len(tasks)):\n",
    "        print('\\n\\n')\n",
    "        print('possible relations t: ', Treviewing.core_metod(first_task=tasks[i],\n",
    "                                                             second_task=tasks[j],\n",
    "#                                                              instance='Variant 5',\n",
    "#                                                              plot_results=True,\n",
    "#                                                              plot_steps=True,\n",
    "                                                             is_big_dataframe=True,\n",
    "                                                             print_results=True))\n",
    "        print('possible relations p', Previewing.core_metod(task1=tasks[i],\n",
    "                                                            task2=tasks[j],\n",
    "#                                                              instance='Variant 5',\n",
    "#                                                              plot_results=True,\n",
    "#                                                              plot_steps=True,\n",
    "                                                             print_results=True))"
   ]
  },
  {
   "cell_type": "code",
   "execution_count": null,
   "metadata": {
    "pycharm": {
     "is_executing": true
    }
   },
   "outputs": [],
   "source": []
  },
  {
   "cell_type": "code",
   "execution_count": null,
   "metadata": {
    "pycharm": {
     "is_executing": true
    }
   },
   "outputs": [],
   "source": []
  }
 ],
 "metadata": {
  "kernelspec": {
   "display_name": "Python 3",
   "language": "python",
   "name": "python3"
  },
  "language_info": {
   "codemirror_mode": {
    "name": "ipython",
    "version": 3
   },
   "file_extension": ".py",
   "mimetype": "text/x-python",
   "name": "python",
   "nbconvert_exporter": "python",
   "pygments_lexer": "ipython3",
   "version": "3.9.2"
  }
 },
 "nbformat": 4,
 "nbformat_minor": 1
}
